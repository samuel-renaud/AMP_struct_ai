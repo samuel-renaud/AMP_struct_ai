{
 "cells": [
  {
   "cell_type": "markdown",
   "metadata": {},
   "source": [
    "# First Import the data and prepare it for input"
   ]
  },
  {
   "cell_type": "code",
   "execution_count": 1,
   "metadata": {},
   "outputs": [
    {
     "data": {
      "text/html": [
       "<div>\n",
       "<style scoped>\n",
       "    .dataframe tbody tr th:only-of-type {\n",
       "        vertical-align: middle;\n",
       "    }\n",
       "\n",
       "    .dataframe tbody tr th {\n",
       "        vertical-align: top;\n",
       "    }\n",
       "\n",
       "    .dataframe thead th {\n",
       "        text-align: right;\n",
       "    }\n",
       "</style>\n",
       "<table border=\"1\" class=\"dataframe\">\n",
       "  <thead>\n",
       "    <tr style=\"text-align: right;\">\n",
       "      <th></th>\n",
       "      <th>Unnamed: 0</th>\n",
       "      <th>Amino Acids</th>\n",
       "      <th>phi</th>\n",
       "      <th>psi</th>\n",
       "    </tr>\n",
       "  </thead>\n",
       "  <tbody>\n",
       "    <tr>\n",
       "      <th>0</th>\n",
       "      <td>0</td>\n",
       "      <td>ALA</td>\n",
       "      <td>NaN</td>\n",
       "      <td>2.833464</td>\n",
       "    </tr>\n",
       "    <tr>\n",
       "      <th>1</th>\n",
       "      <td>1</td>\n",
       "      <td>ALA</td>\n",
       "      <td>-2.637405</td>\n",
       "      <td>2.960152</td>\n",
       "    </tr>\n",
       "    <tr>\n",
       "      <th>2</th>\n",
       "      <td>2</td>\n",
       "      <td>ALA</td>\n",
       "      <td>-1.349753</td>\n",
       "      <td>2.491088</td>\n",
       "    </tr>\n",
       "    <tr>\n",
       "      <th>3</th>\n",
       "      <td>3</td>\n",
       "      <td>ALA</td>\n",
       "      <td>-1.612154</td>\n",
       "      <td>-0.667668</td>\n",
       "    </tr>\n",
       "    <tr>\n",
       "      <th>4</th>\n",
       "      <td>4</td>\n",
       "      <td>GLY</td>\n",
       "      <td>2.514027</td>\n",
       "      <td>-2.779758</td>\n",
       "    </tr>\n",
       "    <tr>\n",
       "      <th>...</th>\n",
       "      <td>...</td>\n",
       "      <td>...</td>\n",
       "      <td>...</td>\n",
       "      <td>...</td>\n",
       "    </tr>\n",
       "    <tr>\n",
       "      <th>24791</th>\n",
       "      <td>24791</td>\n",
       "      <td>GLY</td>\n",
       "      <td>-1.341804</td>\n",
       "      <td>-0.679040</td>\n",
       "    </tr>\n",
       "    <tr>\n",
       "      <th>24792</th>\n",
       "      <td>24792</td>\n",
       "      <td>PHE</td>\n",
       "      <td>-1.132378</td>\n",
       "      <td>-0.258407</td>\n",
       "    </tr>\n",
       "    <tr>\n",
       "      <th>24793</th>\n",
       "      <td>24793</td>\n",
       "      <td>LEU</td>\n",
       "      <td>-1.076224</td>\n",
       "      <td>-0.411400</td>\n",
       "    </tr>\n",
       "    <tr>\n",
       "      <th>24794</th>\n",
       "      <td>24794</td>\n",
       "      <td>GLY</td>\n",
       "      <td>-2.623170</td>\n",
       "      <td>0.560615</td>\n",
       "    </tr>\n",
       "    <tr>\n",
       "      <th>24795</th>\n",
       "      <td>24795</td>\n",
       "      <td>GLY</td>\n",
       "      <td>-3.111327</td>\n",
       "      <td>NaN</td>\n",
       "    </tr>\n",
       "  </tbody>\n",
       "</table>\n",
       "<p>24796 rows × 4 columns</p>\n",
       "</div>"
      ],
      "text/plain": [
       "       Unnamed: 0 Amino Acids       phi       psi\n",
       "0               0         ALA       NaN  2.833464\n",
       "1               1         ALA -2.637405  2.960152\n",
       "2               2         ALA -1.349753  2.491088\n",
       "3               3         ALA -1.612154 -0.667668\n",
       "4               4         GLY  2.514027 -2.779758\n",
       "...           ...         ...       ...       ...\n",
       "24791       24791         GLY -1.341804 -0.679040\n",
       "24792       24792         PHE -1.132378 -0.258407\n",
       "24793       24793         LEU -1.076224 -0.411400\n",
       "24794       24794         GLY -2.623170  0.560615\n",
       "24795       24795         GLY -3.111327       NaN\n",
       "\n",
       "[24796 rows x 4 columns]"
      ]
     },
     "execution_count": 1,
     "metadata": {},
     "output_type": "execute_result"
    }
   ],
   "source": [
    "import pandas as pd\n",
    "\n",
    "src= \"C:\\\\Users\\\\samue\\\\Downloads\\\\research_project\\\\Databases\\\\dataframe_internal_coordinates.csv\"\n",
    "df = pd.read_csv(src)\n",
    "\n",
    "df"
   ]
  },
  {
   "cell_type": "code",
   "execution_count": 2,
   "metadata": {},
   "outputs": [
    {
     "data": {
      "image/png": "[encoded data removed]",
      "text/plain": [
       "<Figure size 432x288 with 1 Axes>"
      ]
     },
     "metadata": {
      "needs_background": "light"
     },
     "output_type": "display_data"
    }
   ],
   "source": [
    "from collections import Counter #used to make a histogram of the amino acids\n",
    "import numpy as np\n",
    "from matplotlib import pyplot as plt\n",
    "possible_AA= ['ala','arg','asn','asp','asx','cys','glu','gln','glx','gly','his','ile','leu','lys','met','phe','pro','ser','thr','trp','tyr','val']\n",
    "#stored AA's\n",
    "AAs = np.array(df['Amino Acids'])\n",
    "tf = Counter(AAs)\n",
    "y = [count for tag, count in tf.most_common(25)]\n",
    "x = [tag for tag, count in tf.most_common(25)]\n",
    "\n",
    "#graph formatting found online on stack overflow\n",
    "plt.bar(x, y, color='crimson')\n",
    "plt.title(\"Frequencies of All loaded PDB Structures\")\n",
    "plt.ylabel(\"Frequency\")\n",
    "plt.xticks(rotation=90)\n",
    "plt.xlim(-0.6, len(x)-0.4) # optionally set tighter x lims\n",
    "plt.tight_layout() # change the whitespace such that all labels fit nicely\n",
    "plt.show()\n"
   ]
  },
  {
   "cell_type": "code",
   "execution_count": 3,
   "metadata": {},
   "outputs": [
    {
     "data": {
      "text/plain": [
       "array([[<AxesSubplot:title={'center':'Unnamed: 0'}>,\n",
       "        <AxesSubplot:title={'center':'phi'}>],\n",
       "       [<AxesSubplot:title={'center':'psi'}>, <AxesSubplot:>]],\n",
       "      dtype=object)"
      ]
     },
     "execution_count": 3,
     "metadata": {},
     "output_type": "execute_result"
    },
    {
     "data": {
      "image/png": "[encoded data removed]",
      "text/plain": [
       "<Figure size 432x288 with 4 Axes>"
      ]
     },
     "metadata": {
      "needs_background": "light"
     },
     "output_type": "display_data"
    }
   ],
   "source": [
    "#angular distribution of phi and psi (in radians)\n",
    "df.hist()"
   ]
  },
  {
   "cell_type": "markdown",
   "metadata": {},
   "source": [
    "# Now we need to convert the AA's to fixed number values and normalize"
   ]
  },
  {
   "cell_type": "code",
   "execution_count": 4,
   "metadata": {},
   "outputs": [],
   "source": [
    "coded_AA_list=[]\n",
    "for i in df['Amino Acids']:\n",
    "    for acid in possible_AA:\n",
    "        if i.lower() == acid:\n",
    "            #print(acid,possible_AA.index(acid))    #to visualize the conversion uncomment this\n",
    "            coded_AA_list.append(possible_AA.index(acid)/22) #normalizing\n",
    "            \n",
    "               \n",
    "df.insert(loc=df.columns.size, column='Coded_AA', value=coded_AA_list)"
   ]
  },
  {
   "cell_type": "code",
   "execution_count": 5,
   "metadata": {},
   "outputs": [
    {
     "data": {
      "image/png": "[encoded data removed]",
      "text/plain": [
       "<Figure size 432x288 with 1 Axes>"
      ]
     },
     "metadata": {
      "needs_background": "light"
     },
     "output_type": "display_data"
    }
   ],
   "source": [
    "arr=plt.hist(coded_AA_list,bins=len(possible_AA))\n",
    "for i in range(len(possible_AA)):\n",
    "    plt.text(arr[1][i],arr[0][i],str(possible_AA[i]))\n"
   ]
  },
  {
   "cell_type": "markdown",
   "metadata": {},
   "source": [
    "# Now normalize the range of the angles"
   ]
  },
  {
   "cell_type": "code",
   "execution_count": 6,
   "metadata": {},
   "outputs": [],
   "source": [
    "from sklearn import preprocessing\n",
    "import math\n",
    "\n",
    "scaled_phi = preprocessing.minmax_scale(df['phi'],feature_range=(0,1))\n",
    "scaled_psi = preprocessing.minmax_scale(df['psi'],feature_range=(0,1))\n",
    "\n",
    "df.insert(loc=df.columns.size, column='scaled_phi', value=scaled_phi)\n",
    "df.insert(loc=df.columns.size, column='scaled_psi', value=scaled_psi)\n"
   ]
  },
  {
   "cell_type": "code",
   "execution_count": 7,
   "metadata": {},
   "outputs": [
    {
     "data": {
      "text/plain": [
       "array([[<AxesSubplot:title={'center':'phi'}>,\n",
       "        <AxesSubplot:title={'center':'scaled_phi'}>],\n",
       "       [<AxesSubplot:title={'center':'psi'}>,\n",
       "        <AxesSubplot:title={'center':'scaled_psi'}>]], dtype=object)"
      ]
     },
     "execution_count": 7,
     "metadata": {},
     "output_type": "execute_result"
    },
    {
     "data": {
      "image/png": "[encoded data removed]",
      "text/plain": [
       "<Figure size 432x288 with 4 Axes>"
      ]
     },
     "metadata": {
      "needs_background": "light"
     },
     "output_type": "display_data"
    }
   ],
   "source": [
    "df[['phi','scaled_phi','psi','scaled_psi']].hist()"
   ]
  },
  {
   "cell_type": "markdown",
   "metadata": {},
   "source": [
    "# Pad phi/psi/AA to same length with 0"
   ]
  },
  {
   "cell_type": "code",
   "execution_count": 8,
   "metadata": {},
   "outputs": [
    {
     "data": {
      "text/plain": [
       "44"
      ]
     },
     "execution_count": 8,
     "metadata": {},
     "output_type": "execute_result"
    }
   ],
   "source": [
    "#find max length to know how much to pad sequences are currently delimited by 0's\n",
    "\n",
    "counter=0\n",
    "lengths=[]\n",
    "for phi in scaled_phi:\n",
    "    if(math.isnan(phi)):\n",
    "        lengths.append(counter)\n",
    "        counter=0\n",
    "    else:\n",
    "        counter+=1\n",
    "max(lengths)"
   ]
  },
  {
   "cell_type": "code",
   "execution_count": 9,
   "metadata": {},
   "outputs": [
    {
     "data": {
      "text/html": [
       "<div>\n",
       "<style scoped>\n",
       "    .dataframe tbody tr th:only-of-type {\n",
       "        vertical-align: middle;\n",
       "    }\n",
       "\n",
       "    .dataframe tbody tr th {\n",
       "        vertical-align: top;\n",
       "    }\n",
       "\n",
       "    .dataframe thead th {\n",
       "        text-align: right;\n",
       "    }\n",
       "</style>\n",
       "<table border=\"1\" class=\"dataframe\">\n",
       "  <thead>\n",
       "    <tr style=\"text-align: right;\">\n",
       "      <th></th>\n",
       "      <th>Unnamed: 0</th>\n",
       "      <th>Amino Acids</th>\n",
       "      <th>phi</th>\n",
       "      <th>psi</th>\n",
       "      <th>Coded_AA</th>\n",
       "      <th>scaled_phi</th>\n",
       "      <th>scaled_psi</th>\n",
       "    </tr>\n",
       "  </thead>\n",
       "  <tbody>\n",
       "    <tr>\n",
       "      <th>0</th>\n",
       "      <td>0</td>\n",
       "      <td>ALA</td>\n",
       "      <td>NaN</td>\n",
       "      <td>2.833464</td>\n",
       "      <td>0.000000</td>\n",
       "      <td>NaN</td>\n",
       "      <td>0.950972</td>\n",
       "    </tr>\n",
       "    <tr>\n",
       "      <th>1</th>\n",
       "      <td>1</td>\n",
       "      <td>ALA</td>\n",
       "      <td>-2.637405</td>\n",
       "      <td>2.960152</td>\n",
       "      <td>0.000000</td>\n",
       "      <td>0.079848</td>\n",
       "      <td>0.971136</td>\n",
       "    </tr>\n",
       "    <tr>\n",
       "      <th>2</th>\n",
       "      <td>2</td>\n",
       "      <td>ALA</td>\n",
       "      <td>-1.349753</td>\n",
       "      <td>2.491088</td>\n",
       "      <td>0.000000</td>\n",
       "      <td>0.284933</td>\n",
       "      <td>0.896479</td>\n",
       "    </tr>\n",
       "    <tr>\n",
       "      <th>3</th>\n",
       "      <td>3</td>\n",
       "      <td>ALA</td>\n",
       "      <td>-1.612154</td>\n",
       "      <td>-0.667668</td>\n",
       "      <td>0.000000</td>\n",
       "      <td>0.243140</td>\n",
       "      <td>0.393728</td>\n",
       "    </tr>\n",
       "    <tr>\n",
       "      <th>4</th>\n",
       "      <td>4</td>\n",
       "      <td>GLY</td>\n",
       "      <td>2.514027</td>\n",
       "      <td>-2.779758</td>\n",
       "      <td>0.409091</td>\n",
       "      <td>0.900319</td>\n",
       "      <td>0.057566</td>\n",
       "    </tr>\n",
       "    <tr>\n",
       "      <th>5</th>\n",
       "      <td>5</td>\n",
       "      <td>SER</td>\n",
       "      <td>-2.216942</td>\n",
       "      <td>2.486409</td>\n",
       "      <td>0.772727</td>\n",
       "      <td>0.146816</td>\n",
       "      <td>0.895735</td>\n",
       "    </tr>\n",
       "    <tr>\n",
       "      <th>6</th>\n",
       "      <td>6</td>\n",
       "      <td>VAL</td>\n",
       "      <td>-1.590854</td>\n",
       "      <td>-0.109528</td>\n",
       "      <td>0.954545</td>\n",
       "      <td>0.246533</td>\n",
       "      <td>0.482563</td>\n",
       "    </tr>\n",
       "    <tr>\n",
       "      <th>7</th>\n",
       "      <td>7</td>\n",
       "      <td>TRP</td>\n",
       "      <td>-1.795117</td>\n",
       "      <td>-0.296301</td>\n",
       "      <td>0.863636</td>\n",
       "      <td>0.214000</td>\n",
       "      <td>0.452836</td>\n",
       "    </tr>\n",
       "    <tr>\n",
       "      <th>8</th>\n",
       "      <td>8</td>\n",
       "      <td>GLY</td>\n",
       "      <td>-1.784287</td>\n",
       "      <td>1.648929</td>\n",
       "      <td>0.409091</td>\n",
       "      <td>0.215725</td>\n",
       "      <td>0.762440</td>\n",
       "    </tr>\n",
       "    <tr>\n",
       "      <th>9</th>\n",
       "      <td>9</td>\n",
       "      <td>ALA</td>\n",
       "      <td>-0.932471</td>\n",
       "      <td>-0.573457</td>\n",
       "      <td>0.000000</td>\n",
       "      <td>0.351394</td>\n",
       "      <td>0.408723</td>\n",
       "    </tr>\n",
       "  </tbody>\n",
       "</table>\n",
       "</div>"
      ],
      "text/plain": [
       "   Unnamed: 0 Amino Acids       phi       psi  Coded_AA  scaled_phi  \\\n",
       "0           0         ALA       NaN  2.833464  0.000000         NaN   \n",
       "1           1         ALA -2.637405  2.960152  0.000000    0.079848   \n",
       "2           2         ALA -1.349753  2.491088  0.000000    0.284933   \n",
       "3           3         ALA -1.612154 -0.667668  0.000000    0.243140   \n",
       "4           4         GLY  2.514027 -2.779758  0.409091    0.900319   \n",
       "5           5         SER -2.216942  2.486409  0.772727    0.146816   \n",
       "6           6         VAL -1.590854 -0.109528  0.954545    0.246533   \n",
       "7           7         TRP -1.795117 -0.296301  0.863636    0.214000   \n",
       "8           8         GLY -1.784287  1.648929  0.409091    0.215725   \n",
       "9           9         ALA -0.932471 -0.573457  0.000000    0.351394   \n",
       "\n",
       "   scaled_psi  \n",
       "0    0.950972  \n",
       "1    0.971136  \n",
       "2    0.896479  \n",
       "3    0.393728  \n",
       "4    0.057566  \n",
       "5    0.895735  \n",
       "6    0.482563  \n",
       "7    0.452836  \n",
       "8    0.762440  \n",
       "9    0.408723  "
      ]
     },
     "execution_count": 9,
     "metadata": {},
     "output_type": "execute_result"
    }
   ],
   "source": [
    "#we need to find these nan's in the PSI's and insert enough zeros after them to reach a length of 44\n",
    "df[0:10]"
   ]
  },
  {
   "cell_type": "code",
   "execution_count": 12,
   "metadata": {},
   "outputs": [
    {
     "name": "stderr",
     "output_type": "stream",
     "text": [
      "100%|██████████| 24796/24796 [04:45<00:00, 86.85it/s] "
     ]
    },
    {
     "name": "stdout",
     "output_type": "stream",
     "text": [
      "   Unnamed: 0 Amino Acids       phi       psi   Coded_AA scaled_phi scaled_psi\n",
      "40         40         CYS   -1.7855   2.51228   0.227273   0.215532   0.899852\n",
      "41         41         GLU  -1.61518   2.28009   0.272727   0.242659   0.862896\n",
      "42         42         THR  -2.51892       NaN   0.818182  0.0987202        NaN\n",
      "43          0           0         0         0          0          0          0\n",
      "44         43         ALA       NaN  -3.05167          0        NaN  0.0142883\n",
      "45         44         ALA -0.849234  -1.08765          0   0.364651   0.326884\n",
      "46         45         CYS  -1.32217 -0.390064   0.227273   0.289326   0.437912\n",
      "47         46         SER  -1.32191 -0.703854   0.772727   0.289367   0.387969\n",
      "48         47         ASP  -2.51871 -0.659598   0.136364  0.0987526   0.395013\n",
      "49         48         ARG  -1.13121 -0.665254  0.0454545    0.31974   0.394113\n",
      "   Unnamed: 0 Amino Acids      phi       psi  Coded_AA scaled_phi scaled_psi\n",
      "85          0           0        0         0         0          0          0\n",
      "86          0           0        0         0         0          0          0\n",
      "87          0           0        0         0         0          0          0\n",
      "88         83         ALA      NaN    2.5641         0        NaN   0.908099\n",
      "89         84         ALA -1.01354  -0.73252         0   0.338482   0.383407\n",
      "90         85         GLY -1.40135  0.155426  0.409091   0.276715   0.524733\n",
      "91         86         MET -2.26263 -0.901988  0.636364   0.139539   0.356434\n",
      "92         87         GLY  2.63057   2.92232  0.409091   0.918881   0.965115\n",
      "93         88         PHE -1.22175  -0.38565  0.681818    0.30532   0.438615\n",
      "94         89         PHE -1.35535 -0.141328  0.681818   0.284041   0.477501\n"
     ]
    },
    {
     "name": "stderr",
     "output_type": "stream",
     "text": [
      "\n"
     ]
    }
   ],
   "source": [
    "from tqdm import tqdm\n",
    "counter=0\n",
    "lengths=[]\n",
    "df1 = pd.DataFrame(df.values,columns = df.columns)\n",
    "for psi in tqdm(scaled_psi):\n",
    "#     if counter >2000:\n",
    "#         break\n",
    "    if(math.isnan(psi)):\n",
    "        while( ((counter+1)%44)!=0 ): #the first time the index starts at 0 so add 1\n",
    "            df1 = pd.DataFrame(np.insert(df1.values, counter+1, values=[\"0\"] *  len(df1.columns), axis=0),columns = df1.columns)\n",
    "            counter +=1\n",
    "        counter +=1\n",
    "    else:\n",
    "        counter+=1\n",
    "\n",
    "print(df1[40:50])\n",
    "print(df1[85:95])"
   ]
  },
  {
   "cell_type": "code",
   "execution_count": null,
   "metadata": {},
   "outputs": [],
   "source": [
    "df1"
   ]
  },
  {
   "cell_type": "code",
   "execution_count": 13,
   "metadata": {},
   "outputs": [
    {
     "data": {
      "text/html": [
       "<div>\n",
       "<style scoped>\n",
       "    .dataframe tbody tr th:only-of-type {\n",
       "        vertical-align: middle;\n",
       "    }\n",
       "\n",
       "    .dataframe tbody tr th {\n",
       "        vertical-align: top;\n",
       "    }\n",
       "\n",
       "    .dataframe thead th {\n",
       "        text-align: right;\n",
       "    }\n",
       "</style>\n",
       "<table border=\"1\" class=\"dataframe\">\n",
       "  <thead>\n",
       "    <tr style=\"text-align: right;\">\n",
       "      <th></th>\n",
       "      <th>Unnamed: 0</th>\n",
       "      <th>Amino Acids</th>\n",
       "      <th>phi</th>\n",
       "      <th>psi</th>\n",
       "      <th>Coded_AA</th>\n",
       "      <th>scaled_phi</th>\n",
       "      <th>scaled_psi</th>\n",
       "    </tr>\n",
       "  </thead>\n",
       "  <tbody>\n",
       "    <tr>\n",
       "      <th>0</th>\n",
       "      <td>0</td>\n",
       "      <td>ALA</td>\n",
       "      <td>NaN</td>\n",
       "      <td>2.83346</td>\n",
       "      <td>0</td>\n",
       "      <td>0</td>\n",
       "      <td>0.950972</td>\n",
       "    </tr>\n",
       "    <tr>\n",
       "      <th>1</th>\n",
       "      <td>1</td>\n",
       "      <td>ALA</td>\n",
       "      <td>-2.63741</td>\n",
       "      <td>2.96015</td>\n",
       "      <td>0</td>\n",
       "      <td>0.0798484</td>\n",
       "      <td>0.971136</td>\n",
       "    </tr>\n",
       "    <tr>\n",
       "      <th>2</th>\n",
       "      <td>2</td>\n",
       "      <td>ALA</td>\n",
       "      <td>-1.34975</td>\n",
       "      <td>2.49109</td>\n",
       "      <td>0</td>\n",
       "      <td>0.284933</td>\n",
       "      <td>0.896479</td>\n",
       "    </tr>\n",
       "    <tr>\n",
       "      <th>3</th>\n",
       "      <td>3</td>\n",
       "      <td>ALA</td>\n",
       "      <td>-1.61215</td>\n",
       "      <td>-0.667668</td>\n",
       "      <td>0</td>\n",
       "      <td>0.24314</td>\n",
       "      <td>0.393728</td>\n",
       "    </tr>\n",
       "    <tr>\n",
       "      <th>4</th>\n",
       "      <td>4</td>\n",
       "      <td>GLY</td>\n",
       "      <td>2.51403</td>\n",
       "      <td>-2.77976</td>\n",
       "      <td>0.409091</td>\n",
       "      <td>0.900319</td>\n",
       "      <td>0.0575662</td>\n",
       "    </tr>\n",
       "    <tr>\n",
       "      <th>...</th>\n",
       "      <td>...</td>\n",
       "      <td>...</td>\n",
       "      <td>...</td>\n",
       "      <td>...</td>\n",
       "      <td>...</td>\n",
       "      <td>...</td>\n",
       "      <td>...</td>\n",
       "    </tr>\n",
       "    <tr>\n",
       "      <th>50243</th>\n",
       "      <td>0</td>\n",
       "      <td>0</td>\n",
       "      <td>0</td>\n",
       "      <td>0</td>\n",
       "      <td>0</td>\n",
       "      <td>0</td>\n",
       "      <td>0</td>\n",
       "    </tr>\n",
       "    <tr>\n",
       "      <th>50244</th>\n",
       "      <td>0</td>\n",
       "      <td>0</td>\n",
       "      <td>0</td>\n",
       "      <td>0</td>\n",
       "      <td>0</td>\n",
       "      <td>0</td>\n",
       "      <td>0</td>\n",
       "    </tr>\n",
       "    <tr>\n",
       "      <th>50245</th>\n",
       "      <td>0</td>\n",
       "      <td>0</td>\n",
       "      <td>0</td>\n",
       "      <td>0</td>\n",
       "      <td>0</td>\n",
       "      <td>0</td>\n",
       "      <td>0</td>\n",
       "    </tr>\n",
       "    <tr>\n",
       "      <th>50246</th>\n",
       "      <td>0</td>\n",
       "      <td>0</td>\n",
       "      <td>0</td>\n",
       "      <td>0</td>\n",
       "      <td>0</td>\n",
       "      <td>0</td>\n",
       "      <td>0</td>\n",
       "    </tr>\n",
       "    <tr>\n",
       "      <th>50247</th>\n",
       "      <td>0</td>\n",
       "      <td>0</td>\n",
       "      <td>0</td>\n",
       "      <td>0</td>\n",
       "      <td>0</td>\n",
       "      <td>0</td>\n",
       "      <td>0</td>\n",
       "    </tr>\n",
       "  </tbody>\n",
       "</table>\n",
       "<p>50248 rows × 7 columns</p>\n",
       "</div>"
      ],
      "text/plain": [
       "      Unnamed: 0 Amino Acids      phi       psi  Coded_AA scaled_phi  \\\n",
       "0              0         ALA      NaN   2.83346         0          0   \n",
       "1              1         ALA -2.63741   2.96015         0  0.0798484   \n",
       "2              2         ALA -1.34975   2.49109         0   0.284933   \n",
       "3              3         ALA -1.61215 -0.667668         0    0.24314   \n",
       "4              4         GLY  2.51403  -2.77976  0.409091   0.900319   \n",
       "...          ...         ...      ...       ...       ...        ...   \n",
       "50243          0           0        0         0         0          0   \n",
       "50244          0           0        0         0         0          0   \n",
       "50245          0           0        0         0         0          0   \n",
       "50246          0           0        0         0         0          0   \n",
       "50247          0           0        0         0         0          0   \n",
       "\n",
       "      scaled_psi  \n",
       "0       0.950972  \n",
       "1       0.971136  \n",
       "2       0.896479  \n",
       "3       0.393728  \n",
       "4      0.0575662  \n",
       "...          ...  \n",
       "50243          0  \n",
       "50244          0  \n",
       "50245          0  \n",
       "50246          0  \n",
       "50247          0  \n",
       "\n",
       "[50248 rows x 7 columns]"
      ]
     },
     "execution_count": 13,
     "metadata": {},
     "output_type": "execute_result"
    }
   ],
   "source": [
    "#need to set the remaining NAN's in the phi's to zero\n",
    "df1['scaled_phi'] = df1['scaled_phi'].fillna(0)\n",
    "df1['scaled_psi'] = df1['scaled_psi'].fillna(0)\n",
    "df1"
   ]
  },
  {
   "cell_type": "markdown",
   "metadata": {},
   "source": [
    "# Export prepped data to CSV"
   ]
  },
  {
   "cell_type": "code",
   "execution_count": 15,
   "metadata": {},
   "outputs": [],
   "source": [
    "df1.to_csv('prepped_data.csv')"
   ]
  },
  {
   "cell_type": "code",
   "execution_count": null,
   "metadata": {},
   "outputs": [],
   "source": []
  }
 ],
 "metadata": {
  "kernelspec": {
   "display_name": "Python 3",
   "language": "python",
   "name": "python3"
  },
  "language_info": {
   "codemirror_mode": {
    "name": "ipython",
    "version": 3
   },
   "file_extension": ".py",
   "mimetype": "text/x-python",
   "name": "python",
   "nbconvert_exporter": "python",
   "pygments_lexer": "ipython3",
   "version": "3.8.3"
  }
 },
 "nbformat": 4,
 "nbformat_minor": 4
}
