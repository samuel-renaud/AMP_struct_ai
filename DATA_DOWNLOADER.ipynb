{
 "cells": [
  {
   "cell_type": "markdown",
   "metadata": {},
   "source": [
    "# First go to DB site and get the sequences"
   ]
  },
  {
   "cell_type": "code",
   "execution_count": null,
   "metadata": {},
   "outputs": [],
   "source": [
    "#note to get the list of sequences an html backend was copied and now we scan through this html file for the sequences.\n",
    "\n",
    "#read from the file and pre process the strings extracting the sequences\n",
    "keep=[]\n",
    "with open('C:\\\\Users\\\\samue\\\\Downloads\\\\list_of_sequences.aspx') as f:\n",
    "    for line in f:\n",
    "        if(line.find('seq=')!= -1):\n",
    "            temp = line.split(\"seq=\")\n",
    "            temp = temp[1].split(\"\\\"\")\n",
    "            keep.append(temp[0])\n",
    "\n",
    "print(keep);\n",
    "f.close()\n",
    "\n",
    "# only write the sequences to a text file for later use.\n",
    "with open('C:\\\\Users\\\\samue\\\\Downloads\\\\yadamp_sequences.txt',\"w\") as f:\n",
    "    for seq in keep:\n",
    "        f.write(seq)\n",
    "        f.write(\"\\n\")\n",
    "f.close()\n"
   ]
  },
  {
   "cell_type": "markdown",
   "metadata": {},
   "source": [
    "# Now search the website for the PDB's attached to the sequences"
   ]
  },
  {
   "cell_type": "code",
   "execution_count": null,
   "metadata": {},
   "outputs": [],
   "source": [
    "import urllib.request\n",
    "import time\n",
    "\n",
    "count=0\n",
    "with open('C:\\\\Users\\\\samue\\\\Downloads\\\\research_project\\\\Databases\\\\yadamp_sequences.txt') as f:\n",
    "    for sequence in f:\n",
    "        sequence = sequence.strip(\"\\n\")+\".pdb\"\n",
    "        time.sleep(0.001)\n",
    "        webUrl = urllib.request.urlopen('http://yadamp.unisa.it/gmol/%s' % sequence)\n",
    "        data = webUrl.readlines()\n",
    "\n",
    "        with open('C:\\\\Users\\\\samue\\\\Downloads\\\\research_project\\\\Databases\\\\Coordinates\\\\%s' % sequence, 'wb') as f_cor:\n",
    "            for line in data:\n",
    "                f_cor.write(line)\n",
    "        f_cor.close()\n",
    "\n",
    "        count += 1\n",
    "        print(\"count:%d finished %s\" % (count, sequence))\n",
    "f.close\n",
    "\n",
    "\n",
    "\n"
   ]
  }
 ],
 "metadata": {
  "kernelspec": {
   "display_name": "Python 3",
   "language": "python",
   "name": "python3"
  },
  "language_info": {
   "codemirror_mode": {
    "name": "ipython",
    "version": 3
   },
   "file_extension": ".py",
   "mimetype": "text/x-python",
   "name": "python",
   "nbconvert_exporter": "python",
   "pygments_lexer": "ipython3",
   "version": "3.8.3"
  }
 },
 "nbformat": 4,
 "nbformat_minor": 4
}
