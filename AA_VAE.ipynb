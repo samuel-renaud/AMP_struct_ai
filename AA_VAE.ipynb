{
 "cells": [
  {
   "cell_type": "markdown",
   "metadata": {},
   "source": [
    "# Import the Prepared Data"
   ]
  },
  {
   "cell_type": "code",
   "execution_count": 1,
   "metadata": {},
   "outputs": [
    {
     "data": {
      "text/html": [
       "<div>\n",
       "<style scoped>\n",
       "    .dataframe tbody tr th:only-of-type {\n",
       "        vertical-align: middle;\n",
       "    }\n",
       "\n",
       "    .dataframe tbody tr th {\n",
       "        vertical-align: top;\n",
       "    }\n",
       "\n",
       "    .dataframe thead th {\n",
       "        text-align: right;\n",
       "    }\n",
       "</style>\n",
       "<table border=\"1\" class=\"dataframe\">\n",
       "  <thead>\n",
       "    <tr style=\"text-align: right;\">\n",
       "      <th></th>\n",
       "      <th>Unnamed: 0</th>\n",
       "      <th>Unnamed: 0.1</th>\n",
       "      <th>Amino Acids</th>\n",
       "      <th>phi</th>\n",
       "      <th>psi</th>\n",
       "      <th>Coded_AA</th>\n",
       "      <th>scaled_phi</th>\n",
       "      <th>scaled_psi</th>\n",
       "    </tr>\n",
       "  </thead>\n",
       "  <tbody>\n",
       "    <tr>\n",
       "      <th>0</th>\n",
       "      <td>0</td>\n",
       "      <td>0</td>\n",
       "      <td>ALA</td>\n",
       "      <td>NaN</td>\n",
       "      <td>2.833464</td>\n",
       "      <td>0.000000</td>\n",
       "      <td>0.000000</td>\n",
       "      <td>0.950972</td>\n",
       "    </tr>\n",
       "    <tr>\n",
       "      <th>1</th>\n",
       "      <td>1</td>\n",
       "      <td>1</td>\n",
       "      <td>ALA</td>\n",
       "      <td>-2.637405</td>\n",
       "      <td>2.960152</td>\n",
       "      <td>0.000000</td>\n",
       "      <td>0.079848</td>\n",
       "      <td>0.971136</td>\n",
       "    </tr>\n",
       "    <tr>\n",
       "      <th>2</th>\n",
       "      <td>2</td>\n",
       "      <td>2</td>\n",
       "      <td>ALA</td>\n",
       "      <td>-1.349753</td>\n",
       "      <td>2.491088</td>\n",
       "      <td>0.000000</td>\n",
       "      <td>0.284933</td>\n",
       "      <td>0.896479</td>\n",
       "    </tr>\n",
       "    <tr>\n",
       "      <th>3</th>\n",
       "      <td>3</td>\n",
       "      <td>3</td>\n",
       "      <td>ALA</td>\n",
       "      <td>-1.612154</td>\n",
       "      <td>-0.667668</td>\n",
       "      <td>0.000000</td>\n",
       "      <td>0.243140</td>\n",
       "      <td>0.393728</td>\n",
       "    </tr>\n",
       "    <tr>\n",
       "      <th>4</th>\n",
       "      <td>4</td>\n",
       "      <td>4</td>\n",
       "      <td>GLY</td>\n",
       "      <td>2.514027</td>\n",
       "      <td>-2.779758</td>\n",
       "      <td>0.409091</td>\n",
       "      <td>0.900319</td>\n",
       "      <td>0.057566</td>\n",
       "    </tr>\n",
       "    <tr>\n",
       "      <th>5</th>\n",
       "      <td>5</td>\n",
       "      <td>5</td>\n",
       "      <td>SER</td>\n",
       "      <td>-2.216942</td>\n",
       "      <td>2.486409</td>\n",
       "      <td>0.772727</td>\n",
       "      <td>0.146816</td>\n",
       "      <td>0.895735</td>\n",
       "    </tr>\n",
       "    <tr>\n",
       "      <th>6</th>\n",
       "      <td>6</td>\n",
       "      <td>6</td>\n",
       "      <td>VAL</td>\n",
       "      <td>-1.590854</td>\n",
       "      <td>-0.109528</td>\n",
       "      <td>0.954545</td>\n",
       "      <td>0.246533</td>\n",
       "      <td>0.482563</td>\n",
       "    </tr>\n",
       "    <tr>\n",
       "      <th>7</th>\n",
       "      <td>7</td>\n",
       "      <td>7</td>\n",
       "      <td>TRP</td>\n",
       "      <td>-1.795117</td>\n",
       "      <td>-0.296301</td>\n",
       "      <td>0.863636</td>\n",
       "      <td>0.214000</td>\n",
       "      <td>0.452836</td>\n",
       "    </tr>\n",
       "    <tr>\n",
       "      <th>8</th>\n",
       "      <td>8</td>\n",
       "      <td>8</td>\n",
       "      <td>GLY</td>\n",
       "      <td>-1.784287</td>\n",
       "      <td>1.648929</td>\n",
       "      <td>0.409091</td>\n",
       "      <td>0.215725</td>\n",
       "      <td>0.762440</td>\n",
       "    </tr>\n",
       "    <tr>\n",
       "      <th>9</th>\n",
       "      <td>9</td>\n",
       "      <td>9</td>\n",
       "      <td>ALA</td>\n",
       "      <td>-0.932471</td>\n",
       "      <td>-0.573457</td>\n",
       "      <td>0.000000</td>\n",
       "      <td>0.351394</td>\n",
       "      <td>0.408723</td>\n",
       "    </tr>\n",
       "  </tbody>\n",
       "</table>\n",
       "</div>"
      ],
      "text/plain": [
       "   Unnamed: 0  Unnamed: 0.1 Amino Acids       phi       psi  Coded_AA  \\\n",
       "0           0             0         ALA       NaN  2.833464  0.000000   \n",
       "1           1             1         ALA -2.637405  2.960152  0.000000   \n",
       "2           2             2         ALA -1.349753  2.491088  0.000000   \n",
       "3           3             3         ALA -1.612154 -0.667668  0.000000   \n",
       "4           4             4         GLY  2.514027 -2.779758  0.409091   \n",
       "5           5             5         SER -2.216942  2.486409  0.772727   \n",
       "6           6             6         VAL -1.590854 -0.109528  0.954545   \n",
       "7           7             7         TRP -1.795117 -0.296301  0.863636   \n",
       "8           8             8         GLY -1.784287  1.648929  0.409091   \n",
       "9           9             9         ALA -0.932471 -0.573457  0.000000   \n",
       "\n",
       "   scaled_phi  scaled_psi  \n",
       "0    0.000000    0.950972  \n",
       "1    0.079848    0.971136  \n",
       "2    0.284933    0.896479  \n",
       "3    0.243140    0.393728  \n",
       "4    0.900319    0.057566  \n",
       "5    0.146816    0.895735  \n",
       "6    0.246533    0.482563  \n",
       "7    0.214000    0.452836  \n",
       "8    0.215725    0.762440  \n",
       "9    0.351394    0.408723  "
      ]
     },
     "execution_count": 1,
     "metadata": {},
     "output_type": "execute_result"
    }
   ],
   "source": [
    "import pandas as pd\n",
    "\n",
    "src= \"C:\\\\Users\\\\samue\\\\Downloads\\\\research_project\\\\VAE\\\\prepped_data.csv\"\n",
    "df = pd.read_csv(src)\n",
    "\n",
    "df.head(10)"
   ]
  },
  {
   "cell_type": "markdown",
   "metadata": {},
   "source": [
    "# Create a formatted Torch Tensor and Shuffle the 1142 structures randomly"
   ]
  },
  {
   "cell_type": "code",
   "execution_count": 2,
   "metadata": {},
   "outputs": [
    {
     "ename": "ModuleNotFoundError",
     "evalue": "No module named 'torch'",
     "output_type": "error",
     "traceback": [
      "\u001b[1;31m---------------------------------------------------------------------------\u001b[0m",
      "\u001b[1;31mModuleNotFoundError\u001b[0m                       Traceback (most recent call last)",
      "\u001b[1;32m<ipython-input-2-6c2f0305687b>\u001b[0m in \u001b[0;36m<module>\u001b[1;34m\u001b[0m\n\u001b[1;32m----> 1\u001b[1;33m \u001b[1;32mimport\u001b[0m \u001b[0mtorch\u001b[0m\u001b[1;33m\u001b[0m\u001b[1;33m\u001b[0m\u001b[0m\n\u001b[0m\u001b[0;32m      2\u001b[0m \u001b[1;32mimport\u001b[0m \u001b[0mtorch\u001b[0m\u001b[1;33m.\u001b[0m\u001b[0mutils\u001b[0m\u001b[1;33m.\u001b[0m\u001b[0mdata\u001b[0m\u001b[1;33m\u001b[0m\u001b[1;33m\u001b[0m\u001b[0m\n\u001b[0;32m      3\u001b[0m \u001b[1;32mfrom\u001b[0m \u001b[0mtorch\u001b[0m \u001b[1;32mimport\u001b[0m \u001b[0mnn\u001b[0m\u001b[1;33m,\u001b[0m \u001b[0moptim\u001b[0m\u001b[1;33m\u001b[0m\u001b[1;33m\u001b[0m\u001b[0m\n\u001b[0;32m      4\u001b[0m \u001b[1;33m\u001b[0m\u001b[0m\n\u001b[0;32m      5\u001b[0m \u001b[1;31m#reshape the data into (#structures,#channels,#amino_acids) = [1142,1,44]\u001b[0m\u001b[1;33m\u001b[0m\u001b[1;33m\u001b[0m\u001b[1;33m\u001b[0m\u001b[0m\n",
      "\u001b[1;31mModuleNotFoundError\u001b[0m: No module named 'torch'"
     ]
    }
   ],
   "source": [
    "import torch\n",
    "import torch.utils.data\n",
    "from torch import nn, optim\n",
    "\n",
    "#reshape the data into (#structures,#channels,#amino_acids) = [1142,1,44]\n",
    "#this will ensure propper reshape latter on\n",
    "Amino_Acids = torch.tensor([df.iloc[:,[5]].values])\n",
    "Amino_Acids = torch.reshape(Amino_Acids, (1142,1,44))\n",
    "phi = torch.tensor([df.iloc[:,[6]].values])\n",
    "phi = torch.reshape(phi, (1142,1,44))\n",
    "psi = torch.tensor([df.iloc[:,[7]].values])\n",
    "psi = torch.reshape(psi, (1142,1,44))\n",
    "\n",
    "#cat concatenates the tensors into the given dimension here the dim is the channel dim\n",
    "LOAD_DATA = torch.cat((Amino_Acids,phi,psi),1)\n",
    "print(LOAD_DATA.shape)\n",
    "\n",
    "MIXED_DATA = LOAD_DATA\n",
    "# shuffle all the 1142 3channel44length input structures\n",
    "# MIXED_DATA = LOAD_DATA[torch.randperm(LOAD_DATA.size()[0])]\n",
    "# print(\"After Mixing shape:\", MIXED_DATA.shape)\n",
    "# print(LOAD_DATA[0][0][0:5],MIXED_DATA[0][0][0:5])"
   ]
  },
  {
   "cell_type": "markdown",
   "metadata": {},
   "source": [
    "# Seperate the Train and Test data: 90/10"
   ]
  },
  {
   "cell_type": "code",
   "execution_count": 124,
   "metadata": {},
   "outputs": [],
   "source": [
    "#seperate training and testing data\n",
    "VAL_PCT = 0.1\n",
    "val_size = int(MIXED_DATA.size()[0]*VAL_PCT) #use the size of the first dim(the # of structures to split 10%/90%)\n",
    "\n",
    "train_X =MIXED_DATA[:-val_size]\n",
    "test_X = MIXED_DATA[-val_size:]"
   ]
  },
  {
   "cell_type": "code",
   "execution_count": 125,
   "metadata": {},
   "outputs": [
    {
     "name": "stdout",
     "output_type": "stream",
     "text": [
      "train shape:  torch.Size([1028, 3, 44]) test shape:  torch.Size([114, 3, 44])\n"
     ]
    }
   ],
   "source": [
    "print(\"train shape: \",train_X.shape,\"test shape: \",test_X.shape)"
   ]
  },
  {
   "cell_type": "markdown",
   "metadata": {},
   "source": [
    "# Implement the Convolutional VAE"
   ]
  },
  {
   "cell_type": "code",
   "execution_count": 126,
   "metadata": {},
   "outputs": [
    {
     "name": "stderr",
     "output_type": "stream",
     "text": [
      "100%|██████████| 65/65 [00:00<00:00, 115.48it/s]\n",
      "100%|██████████| 114/114 [00:00<00:00, 1279.34it/s]\n",
      " 18%|█▊        | 12/65 [00:00<00:00, 117.21it/s]"
     ]
    },
    {
     "name": "stdout",
     "output_type": "stream",
     "text": [
      "====> Epoch: 1 Average loss: 63.2441\n",
      "====> Test set loss: 60.6213\n"
     ]
    },
    {
     "name": "stderr",
     "output_type": "stream",
     "text": [
      "100%|██████████| 65/65 [00:00<00:00, 117.89it/s]\n",
      "100%|██████████| 114/114 [00:00<00:00, 1212.11it/s]\n",
      " 17%|█▋        | 11/65 [00:00<00:00, 109.33it/s]"
     ]
    },
    {
     "name": "stdout",
     "output_type": "stream",
     "text": [
      "====> Epoch: 2 Average loss: 48.0993\n",
      "====> Test set loss: 55.3053\n"
     ]
    },
    {
     "name": "stderr",
     "output_type": "stream",
     "text": [
      "100%|██████████| 65/65 [00:00<00:00, 117.65it/s]\n",
      "100%|██████████| 114/114 [00:00<00:00, 1161.40it/s]\n",
      "  0%|          | 0/65 [00:00<?, ?it/s]"
     ]
    },
    {
     "name": "stdout",
     "output_type": "stream",
     "text": [
      "====> Epoch: 3 Average loss: 45.8749\n",
      "====> Test set loss: 55.0328\n"
     ]
    },
    {
     "name": "stderr",
     "output_type": "stream",
     "text": [
      "100%|██████████| 65/65 [00:00<00:00, 111.21it/s]\n",
      "100%|██████████| 114/114 [00:00<00:00, 1282.58it/s]\n",
      " 17%|█▋        | 11/65 [00:00<00:00, 109.84it/s]"
     ]
    },
    {
     "name": "stdout",
     "output_type": "stream",
     "text": [
      "====> Epoch: 4 Average loss: 45.0114\n",
      "====> Test set loss: 53.0010\n"
     ]
    },
    {
     "name": "stderr",
     "output_type": "stream",
     "text": [
      "100%|██████████| 65/65 [00:00<00:00, 117.15it/s]\n",
      "100%|██████████| 114/114 [00:00<00:00, 1223.32it/s]\n",
      " 18%|█▊        | 12/65 [00:00<00:00, 119.27it/s]"
     ]
    },
    {
     "name": "stdout",
     "output_type": "stream",
     "text": [
      "====> Epoch: 5 Average loss: 44.6713\n",
      "====> Test set loss: 52.8610\n"
     ]
    },
    {
     "name": "stderr",
     "output_type": "stream",
     "text": [
      "100%|██████████| 65/65 [00:00<00:00, 116.21it/s]\n",
      "100%|██████████| 114/114 [00:00<00:00, 1250.01it/s]\n",
      " 18%|█▊        | 12/65 [00:00<00:00, 119.23it/s]"
     ]
    },
    {
     "name": "stdout",
     "output_type": "stream",
     "text": [
      "====> Epoch: 6 Average loss: 44.1765\n",
      "====> Test set loss: 53.1289\n"
     ]
    },
    {
     "name": "stderr",
     "output_type": "stream",
     "text": [
      "100%|██████████| 65/65 [00:00<00:00, 117.33it/s]\n",
      "100%|██████████| 114/114 [00:00<00:00, 1167.33it/s]\n",
      "  0%|          | 0/65 [00:00<?, ?it/s]"
     ]
    },
    {
     "name": "stdout",
     "output_type": "stream",
     "text": [
      "====> Epoch: 7 Average loss: 43.7417\n",
      "====> Test set loss: 52.6539\n"
     ]
    },
    {
     "name": "stderr",
     "output_type": "stream",
     "text": [
      "100%|██████████| 65/65 [00:00<00:00, 113.08it/s]\n",
      "100%|██████████| 114/114 [00:00<00:00, 1163.65it/s]\n",
      "  0%|          | 0/65 [00:00<?, ?it/s]"
     ]
    },
    {
     "name": "stdout",
     "output_type": "stream",
     "text": [
      "====> Epoch: 8 Average loss: 43.4818\n",
      "====> Test set loss: 52.1196\n"
     ]
    },
    {
     "name": "stderr",
     "output_type": "stream",
     "text": [
      "100%|██████████| 65/65 [00:00<00:00, 115.66it/s]\n",
      "100%|██████████| 114/114 [00:00<00:00, 1175.64it/s]\n",
      "  0%|          | 0/65 [00:00<?, ?it/s]"
     ]
    },
    {
     "name": "stdout",
     "output_type": "stream",
     "text": [
      "====> Epoch: 9 Average loss: 42.9907\n",
      "====> Test set loss: 51.6827\n"
     ]
    },
    {
     "name": "stderr",
     "output_type": "stream",
     "text": [
      "100%|██████████| 65/65 [00:00<00:00, 115.57it/s]\n",
      "100%|██████████| 114/114 [00:00<00:00, 1226.61it/s]\n",
      " 20%|██        | 13/65 [00:00<00:00, 121.54it/s]"
     ]
    },
    {
     "name": "stdout",
     "output_type": "stream",
     "text": [
      "====> Epoch: 10 Average loss: 42.8186\n",
      "====> Test set loss: 51.7806\n"
     ]
    },
    {
     "name": "stderr",
     "output_type": "stream",
     "text": [
      "100%|██████████| 65/65 [00:00<00:00, 118.52it/s]\n",
      "100%|██████████| 114/114 [00:00<00:00, 1280.03it/s]\n",
      " 18%|█▊        | 12/65 [00:00<00:00, 111.36it/s]"
     ]
    },
    {
     "name": "stdout",
     "output_type": "stream",
     "text": [
      "====> Epoch: 11 Average loss: 42.6219\n",
      "====> Test set loss: 51.1877\n"
     ]
    },
    {
     "name": "stderr",
     "output_type": "stream",
     "text": [
      "100%|██████████| 65/65 [00:00<00:00, 115.86it/s]\n",
      "100%|██████████| 114/114 [00:00<00:00, 1261.15it/s]\n",
      " 17%|█▋        | 11/65 [00:00<00:00, 109.47it/s]"
     ]
    },
    {
     "name": "stdout",
     "output_type": "stream",
     "text": [
      "====> Epoch: 12 Average loss: 42.1772\n",
      "====> Test set loss: 51.0242\n"
     ]
    },
    {
     "name": "stderr",
     "output_type": "stream",
     "text": [
      "100%|██████████| 65/65 [00:00<00:00, 113.60it/s]\n",
      "100%|██████████| 114/114 [00:00<00:00, 1259.91it/s]\n",
      " 17%|█▋        | 11/65 [00:00<00:00, 107.79it/s]"
     ]
    },
    {
     "name": "stdout",
     "output_type": "stream",
     "text": [
      "====> Epoch: 13 Average loss: 41.9962\n",
      "====> Test set loss: 50.5431\n"
     ]
    },
    {
     "name": "stderr",
     "output_type": "stream",
     "text": [
      "100%|██████████| 65/65 [00:00<00:00, 109.60it/s]\n",
      "100%|██████████| 114/114 [00:00<00:00, 1116.91it/s]\n",
      "  0%|          | 0/65 [00:00<?, ?it/s]"
     ]
    },
    {
     "name": "stdout",
     "output_type": "stream",
     "text": [
      "====> Epoch: 14 Average loss: 41.7179\n",
      "====> Test set loss: 50.2569\n"
     ]
    },
    {
     "name": "stderr",
     "output_type": "stream",
     "text": [
      "100%|██████████| 65/65 [00:00<00:00, 107.98it/s]\n",
      "100%|██████████| 114/114 [00:00<00:00, 1175.64it/s]\n",
      "  0%|          | 0/65 [00:00<?, ?it/s]"
     ]
    },
    {
     "name": "stdout",
     "output_type": "stream",
     "text": [
      "====> Epoch: 15 Average loss: 41.6190\n",
      "====> Test set loss: 50.5050\n"
     ]
    },
    {
     "name": "stderr",
     "output_type": "stream",
     "text": [
      "100%|██████████| 65/65 [00:00<00:00, 113.87it/s]\n",
      "100%|██████████| 114/114 [00:00<00:00, 1298.90it/s]\n",
      " 15%|█▌        | 10/65 [00:00<00:00, 96.89it/s]"
     ]
    },
    {
     "name": "stdout",
     "output_type": "stream",
     "text": [
      "====> Epoch: 16 Average loss: 41.5732\n",
      "====> Test set loss: 50.3057\n"
     ]
    },
    {
     "name": "stderr",
     "output_type": "stream",
     "text": [
      "100%|██████████| 65/65 [00:00<00:00, 109.78it/s]\n",
      "100%|██████████| 114/114 [00:00<00:00, 1060.46it/s]\n",
      "  0%|          | 0/65 [00:00<?, ?it/s]"
     ]
    },
    {
     "name": "stdout",
     "output_type": "stream",
     "text": [
      "====> Epoch: 17 Average loss: 41.5315\n",
      "====> Test set loss: 49.8787\n"
     ]
    },
    {
     "name": "stderr",
     "output_type": "stream",
     "text": [
      "100%|██████████| 65/65 [00:00<00:00, 105.89it/s]\n",
      "100%|██████████| 114/114 [00:00<00:00, 940.53it/s]\n",
      "  0%|          | 0/65 [00:00<?, ?it/s]"
     ]
    },
    {
     "name": "stdout",
     "output_type": "stream",
     "text": [
      "====> Epoch: 18 Average loss: 41.1958\n",
      "====> Test set loss: 50.2695\n"
     ]
    },
    {
     "name": "stderr",
     "output_type": "stream",
     "text": [
      "100%|██████████| 65/65 [00:00<00:00, 89.92it/s]\n",
      "100%|██████████| 114/114 [00:00<00:00, 1238.30it/s]\n",
      " 20%|██        | 13/65 [00:00<00:00, 118.29it/s]"
     ]
    },
    {
     "name": "stdout",
     "output_type": "stream",
     "text": [
      "====> Epoch: 19 Average loss: 41.5156\n",
      "====> Test set loss: 50.0282\n"
     ]
    },
    {
     "name": "stderr",
     "output_type": "stream",
     "text": [
      "100%|██████████| 65/65 [00:00<00:00, 111.18it/s]\n",
      "100%|██████████| 114/114 [00:00<00:00, 1200.39it/s]"
     ]
    },
    {
     "name": "stdout",
     "output_type": "stream",
     "text": [
      "====> Epoch: 20 Average loss: 41.3810\n",
      "====> Test set loss: 49.7771\n"
     ]
    },
    {
     "name": "stderr",
     "output_type": "stream",
     "text": [
      "\n"
     ]
    }
   ],
   "source": [
    "from __future__ import print_function\n",
    "import argparse\n",
    "import torch\n",
    "import torch.utils.data\n",
    "from torch import nn, optim\n",
    "from torch.nn import functional as F\n",
    "from torchvision import datasets, transforms\n",
    "from torchvision.utils import save_image\n",
    "from tqdm import tqdm\n",
    "\n",
    "\n",
    "#----------------------------------------HYPER-PARAMS--------------------------------------------------------#\n",
    "batch_size=16\n",
    "epochs=20\n",
    "cuda=False\n",
    "seed=1\n",
    "\n",
    "cuda = not cuda and torch.cuda.is_available()\n",
    "device = torch.device(\"cuda\" if cuda else \"cpu\")\n",
    "torch.manual_seed(seed)\n",
    "\n",
    "#----------------------------------------VAE--------------------------------------------------------#\n",
    "#inspired by:https://github.com/sksq96/pytorch-vae/blob/master/vae-cnn.ipynb\n",
    "class VAE(nn.Module):\n",
    "    def __init__(self):\n",
    "        super(VAE, self).__init__()\n",
    "        self.encoder = nn.Sequential(\n",
    "            #conv1d(in_shape,out_shape,conv_kernels)\n",
    "            nn.Conv1d(3, 32, kernel_size=4),\n",
    "            nn.ReLU(),\n",
    "            nn.Conv1d(32, 64, kernel_size=4),\n",
    "            nn.ReLU()\n",
    "        )\n",
    "        \n",
    "        # the linear layer inputs were determined from the conv output of: [16,64,9] where 64*9=576\n",
    "        self.fc1 = nn.Linear(2432, 16)\n",
    "        self.fc2 = nn.Linear(2432, 16)\n",
    "        self.fc3 = nn.Linear(16, 2432) #this one is for decoding\n",
    "        \n",
    "        self.decoder = nn.Sequential(\n",
    "            nn.ConvTranspose1d(64, 32, kernel_size=4),\n",
    "            nn.ReLU(),\n",
    "            nn.ConvTranspose1d(32, 3, kernel_size=4),\n",
    "            nn.Sigmoid()\n",
    "        )\n",
    "\n",
    "    def bottleneck(self, h):\n",
    "        mu, logvar = self.fc1(h), self.fc2(h)\n",
    "        z = self.reparameterize(mu, logvar)\n",
    "        return z, mu, logvar\n",
    "\n",
    "    def reparameterize(self, mu, logvar):\n",
    "        std = logvar.mul(0.5).exp_()\n",
    "        # return torch.normal(mu, std)\n",
    "        esp = torch.randn(*mu.size())\n",
    "        z = mu + std * esp\n",
    "        return z\n",
    "    \n",
    "    def encode(self, x):\n",
    "        h = self.encoder(x)\n",
    "        h = h.view(h.size(0),-1) #flattening\n",
    "        z, mu, logvar = self.bottleneck(h)\n",
    "        return z, mu, logvar\n",
    "\n",
    "    def decode(self, z):\n",
    "        z = self.fc3(z)\n",
    "        z = z.view(z.size(0),64,38) #unflattening\n",
    "        z = self.decoder(z)\n",
    "        return z\n",
    "\n",
    "    def forward(self, x):\n",
    "        z, mu, logvar = self.encode(x)\n",
    "        z = self.decode(z)\n",
    "        return z, mu, logvar\n",
    "#----------------------------------------VAE-END--------------------------------------------------------#\n",
    "    \n",
    "model = VAE().to(device)\n",
    "optimizer = optim.Adam(model.parameters(), lr=1e-3)\n",
    "\n",
    "#----------------------------------------LOSS/TRAIN/TEST--------------------------------------------------------#\n",
    "# Reconstruction + KL divergence losses summed over all elements and batch\n",
    "def loss_function(recon_x, x, mu, logvar):\n",
    "    BCE = F.binary_cross_entropy(recon_x, x, reduction='sum')\n",
    "\n",
    "    # see Appendix B from VAE paper:\n",
    "    # Kingma and Welling. Auto-Encoding Variational Bayes. ICLR, 2014\n",
    "    # https://arxiv.org/abs/1312.6114\n",
    "    # 0.5 * sum(1 + log(sigma^2) - mu^2 - sigma^2)\n",
    "    KLD = -0.5 * torch.sum(1 + logvar - mu.pow(2) - logvar.exp())\n",
    "    return BCE + KLD\n",
    "\n",
    "\n",
    "def train(epoch):\n",
    "    model.train()\n",
    "    train_loss = 0\n",
    "\n",
    "    for i in tqdm(range(0, len(train_X), batch_size)):\n",
    "        batch_X = train_X[i:i+batch_size] #grab the batch\n",
    "        batch_X = batch_X.float()\n",
    "        batch_X = batch_X.to(device)\n",
    "        optimizer.zero_grad()\n",
    "        recon_batch, mu, logvar = model(batch_X)\n",
    "        \n",
    "        loss = loss_function(recon_batch, batch_X, mu, logvar)\n",
    "        loss.backward()\n",
    "        train_loss += loss.item()\n",
    "        optimizer.step()\n",
    "\n",
    "    print('====> Epoch: {} Average loss: {:.4f}'.format(\n",
    "          epoch, train_loss / 1142))\n",
    "\n",
    "def test(epoch):\n",
    "    model.eval()\n",
    "    test_loss = 0\n",
    "    with torch.no_grad():\n",
    "        for i in tqdm(range(0, len(test_X) )): #no longer need to do batches\n",
    "            batch_X = test_X[i].view(1,3,44) #grab the batch\n",
    "            batch_X = batch_X.float()\n",
    "            batch_X = batch_X.to(device)\n",
    "            recon_batch, mu, logvar = model(batch_X)\n",
    "            test_loss += loss_function(recon_batch, batch_X, mu, logvar).item()\n",
    "            \n",
    "\n",
    "    test_loss /= len(test_X)\n",
    "    print('====> Test set loss: {:.4f}'.format(test_loss))\n",
    "#----------------------------------------(LOSS/TRAIN/TEST)-END--------------------------------------------------------#\n",
    "if __name__ == \"__main__\":\n",
    "    for epoch in range(1, epochs + 1):\n",
    "        train(epoch)\n",
    "        test(epoch)\n",
    "        "
   ]
  },
  {
   "cell_type": "markdown",
   "metadata": {},
   "source": [
    "# Print out a sample from the latent space and check the results"
   ]
  },
  {
   "cell_type": "code",
   "execution_count": 127,
   "metadata": {},
   "outputs": [
    {
     "name": "stdout",
     "output_type": "stream",
     "text": [
      "torch.Size([1, 3, 44])\n"
     ]
    }
   ],
   "source": [
    "with torch.no_grad():\n",
    "#     sample = torch.randn(1, 16).to(device) #this is the current shape of the lattent space for batches of 1\n",
    "    sample = test_X[0].float().view(1,3,44)\n",
    "    sample, mu, logvar = model.encode(sample)\n",
    "    sample = model.decode(sample).cpu()\n",
    "    print(sample.shape)\n",
    "df_out = pd.DataFrame({\"AA\":test_X[0][0],\"phi\":test_X[0][1],\"psi\":test_X[0][2],\"decoded_AA\":sample[0][0],\"decoded_phi\":sample[0][1],\"decoded_psi\":sample[0][2]})"
   ]
  },
  {
   "cell_type": "markdown",
   "metadata": {},
   "source": [
    "# Since the input to the latent space was random, the result will not be good"
   ]
  },
  {
   "cell_type": "code",
   "execution_count": 128,
   "metadata": {},
   "outputs": [
    {
     "data": {
      "text/html": [
       "<div>\n",
       "<style scoped>\n",
       "    .dataframe tbody tr th:only-of-type {\n",
       "        vertical-align: middle;\n",
       "    }\n",
       "\n",
       "    .dataframe tbody tr th {\n",
       "        vertical-align: top;\n",
       "    }\n",
       "\n",
       "    .dataframe thead th {\n",
       "        text-align: right;\n",
       "    }\n",
       "</style>\n",
       "<table border=\"1\" class=\"dataframe\">\n",
       "  <thead>\n",
       "    <tr style=\"text-align: right;\">\n",
       "      <th></th>\n",
       "      <th>AA</th>\n",
       "      <th>phi</th>\n",
       "      <th>psi</th>\n",
       "      <th>decoded_AA</th>\n",
       "      <th>decoded_phi</th>\n",
       "      <th>decoded_psi</th>\n",
       "    </tr>\n",
       "  </thead>\n",
       "  <tbody>\n",
       "    <tr>\n",
       "      <th>0</th>\n",
       "      <td>0.772727</td>\n",
       "      <td>0.000000</td>\n",
       "      <td>0.950876</td>\n",
       "      <td>0.394411</td>\n",
       "      <td>0.010200</td>\n",
       "      <td>0.644614</td>\n",
       "    </tr>\n",
       "    <tr>\n",
       "      <th>1</th>\n",
       "      <td>0.681818</td>\n",
       "      <td>0.680659</td>\n",
       "      <td>0.351397</td>\n",
       "      <td>0.562589</td>\n",
       "      <td>0.303928</td>\n",
       "      <td>0.597150</td>\n",
       "    </tr>\n",
       "    <tr>\n",
       "      <th>2</th>\n",
       "      <td>0.409091</td>\n",
       "      <td>0.266307</td>\n",
       "      <td>0.593341</td>\n",
       "      <td>0.549786</td>\n",
       "      <td>0.340138</td>\n",
       "      <td>0.571380</td>\n",
       "    </tr>\n",
       "    <tr>\n",
       "      <th>3</th>\n",
       "      <td>0.545455</td>\n",
       "      <td>0.218300</td>\n",
       "      <td>0.489069</td>\n",
       "      <td>0.385565</td>\n",
       "      <td>0.269737</td>\n",
       "      <td>0.548632</td>\n",
       "    </tr>\n",
       "    <tr>\n",
       "      <th>4</th>\n",
       "      <td>0.227273</td>\n",
       "      <td>0.036527</td>\n",
       "      <td>0.070271</td>\n",
       "      <td>0.474248</td>\n",
       "      <td>0.282619</td>\n",
       "      <td>0.524657</td>\n",
       "    </tr>\n",
       "    <tr>\n",
       "      <th>5</th>\n",
       "      <td>0.045455</td>\n",
       "      <td>0.690544</td>\n",
       "      <td>0.331210</td>\n",
       "      <td>0.488924</td>\n",
       "      <td>0.297017</td>\n",
       "      <td>0.549171</td>\n",
       "    </tr>\n",
       "    <tr>\n",
       "      <th>6</th>\n",
       "      <td>0.545455</td>\n",
       "      <td>0.658091</td>\n",
       "      <td>0.310984</td>\n",
       "      <td>0.465320</td>\n",
       "      <td>0.302121</td>\n",
       "      <td>0.543996</td>\n",
       "    </tr>\n",
       "    <tr>\n",
       "      <th>7</th>\n",
       "      <td>0.045455</td>\n",
       "      <td>0.098858</td>\n",
       "      <td>0.354551</td>\n",
       "      <td>0.495860</td>\n",
       "      <td>0.306751</td>\n",
       "      <td>0.495955</td>\n",
       "    </tr>\n",
       "    <tr>\n",
       "      <th>8</th>\n",
       "      <td>0.045455</td>\n",
       "      <td>0.199266</td>\n",
       "      <td>0.520113</td>\n",
       "      <td>0.471378</td>\n",
       "      <td>0.314326</td>\n",
       "      <td>0.503505</td>\n",
       "    </tr>\n",
       "    <tr>\n",
       "      <th>9</th>\n",
       "      <td>0.409091</td>\n",
       "      <td>0.271484</td>\n",
       "      <td>0.909011</td>\n",
       "      <td>0.394323</td>\n",
       "      <td>0.288743</td>\n",
       "      <td>0.491342</td>\n",
       "    </tr>\n",
       "    <tr>\n",
       "      <th>10</th>\n",
       "      <td>0.681818</td>\n",
       "      <td>0.108603</td>\n",
       "      <td>0.999597</td>\n",
       "      <td>0.481342</td>\n",
       "      <td>0.302115</td>\n",
       "      <td>0.563482</td>\n",
       "    </tr>\n",
       "    <tr>\n",
       "      <th>11</th>\n",
       "      <td>0.227273</td>\n",
       "      <td>0.138179</td>\n",
       "      <td>0.921395</td>\n",
       "      <td>0.396480</td>\n",
       "      <td>0.278275</td>\n",
       "      <td>0.538557</td>\n",
       "    </tr>\n",
       "    <tr>\n",
       "      <th>12</th>\n",
       "      <td>0.000000</td>\n",
       "      <td>0.111886</td>\n",
       "      <td>0.866464</td>\n",
       "      <td>0.488247</td>\n",
       "      <td>0.344187</td>\n",
       "      <td>0.506642</td>\n",
       "    </tr>\n",
       "    <tr>\n",
       "      <th>13</th>\n",
       "      <td>0.454545</td>\n",
       "      <td>0.309324</td>\n",
       "      <td>0.888022</td>\n",
       "      <td>0.481174</td>\n",
       "      <td>0.311638</td>\n",
       "      <td>0.548486</td>\n",
       "    </tr>\n",
       "    <tr>\n",
       "      <th>14</th>\n",
       "      <td>0.409091</td>\n",
       "      <td>0.716585</td>\n",
       "      <td>0.286625</td>\n",
       "      <td>0.421801</td>\n",
       "      <td>0.250555</td>\n",
       "      <td>0.542765</td>\n",
       "    </tr>\n",
       "    <tr>\n",
       "      <th>15</th>\n",
       "      <td>0.045455</td>\n",
       "      <td>0.108586</td>\n",
       "      <td>0.913307</td>\n",
       "      <td>0.456664</td>\n",
       "      <td>0.282443</td>\n",
       "      <td>0.546062</td>\n",
       "    </tr>\n",
       "    <tr>\n",
       "      <th>16</th>\n",
       "      <td>0.227273</td>\n",
       "      <td>0.297051</td>\n",
       "      <td>0.952566</td>\n",
       "      <td>0.455875</td>\n",
       "      <td>0.256736</td>\n",
       "      <td>0.607228</td>\n",
       "    </tr>\n",
       "    <tr>\n",
       "      <th>17</th>\n",
       "      <td>0.045455</td>\n",
       "      <td>0.101105</td>\n",
       "      <td>0.963722</td>\n",
       "      <td>0.444038</td>\n",
       "      <td>0.272195</td>\n",
       "      <td>0.666244</td>\n",
       "    </tr>\n",
       "    <tr>\n",
       "      <th>18</th>\n",
       "      <td>0.681818</td>\n",
       "      <td>0.366645</td>\n",
       "      <td>0.369688</td>\n",
       "      <td>0.498690</td>\n",
       "      <td>0.293185</td>\n",
       "      <td>0.586961</td>\n",
       "    </tr>\n",
       "    <tr>\n",
       "      <th>19</th>\n",
       "      <td>0.727273</td>\n",
       "      <td>0.277986</td>\n",
       "      <td>0.513611</td>\n",
       "      <td>0.465053</td>\n",
       "      <td>0.368294</td>\n",
       "      <td>0.600012</td>\n",
       "    </tr>\n",
       "    <tr>\n",
       "      <th>20</th>\n",
       "      <td>0.772727</td>\n",
       "      <td>0.090849</td>\n",
       "      <td>0.759186</td>\n",
       "      <td>0.467137</td>\n",
       "      <td>0.260046</td>\n",
       "      <td>0.605829</td>\n",
       "    </tr>\n",
       "    <tr>\n",
       "      <th>21</th>\n",
       "      <td>0.500000</td>\n",
       "      <td>0.310747</td>\n",
       "      <td>0.888772</td>\n",
       "      <td>0.458415</td>\n",
       "      <td>0.282224</td>\n",
       "      <td>0.639563</td>\n",
       "    </tr>\n",
       "    <tr>\n",
       "      <th>22</th>\n",
       "      <td>0.727273</td>\n",
       "      <td>0.318343</td>\n",
       "      <td>0.924569</td>\n",
       "      <td>0.425871</td>\n",
       "      <td>0.282564</td>\n",
       "      <td>0.576018</td>\n",
       "    </tr>\n",
       "    <tr>\n",
       "      <th>23</th>\n",
       "      <td>0.500000</td>\n",
       "      <td>0.127225</td>\n",
       "      <td>0.437151</td>\n",
       "      <td>0.491700</td>\n",
       "      <td>0.346140</td>\n",
       "      <td>0.549036</td>\n",
       "    </tr>\n",
       "    <tr>\n",
       "      <th>24</th>\n",
       "      <td>0.409091</td>\n",
       "      <td>0.997655</td>\n",
       "      <td>0.080414</td>\n",
       "      <td>0.485052</td>\n",
       "      <td>0.318535</td>\n",
       "      <td>0.570489</td>\n",
       "    </tr>\n",
       "    <tr>\n",
       "      <th>25</th>\n",
       "      <td>0.045455</td>\n",
       "      <td>0.170107</td>\n",
       "      <td>0.927624</td>\n",
       "      <td>0.412856</td>\n",
       "      <td>0.226582</td>\n",
       "      <td>0.647888</td>\n",
       "    </tr>\n",
       "    <tr>\n",
       "      <th>26</th>\n",
       "      <td>0.227273</td>\n",
       "      <td>0.178848</td>\n",
       "      <td>0.423961</td>\n",
       "      <td>0.427586</td>\n",
       "      <td>0.281462</td>\n",
       "      <td>0.568905</td>\n",
       "    </tr>\n",
       "    <tr>\n",
       "      <th>27</th>\n",
       "      <td>0.772727</td>\n",
       "      <td>0.060456</td>\n",
       "      <td>0.998037</td>\n",
       "      <td>0.561245</td>\n",
       "      <td>0.343825</td>\n",
       "      <td>0.488083</td>\n",
       "    </tr>\n",
       "    <tr>\n",
       "      <th>28</th>\n",
       "      <td>0.045455</td>\n",
       "      <td>0.342753</td>\n",
       "      <td>0.382669</td>\n",
       "      <td>0.505768</td>\n",
       "      <td>0.342051</td>\n",
       "      <td>0.607718</td>\n",
       "    </tr>\n",
       "    <tr>\n",
       "      <th>29</th>\n",
       "      <td>0.681818</td>\n",
       "      <td>0.194262</td>\n",
       "      <td>0.538228</td>\n",
       "      <td>0.435413</td>\n",
       "      <td>0.332637</td>\n",
       "      <td>0.656192</td>\n",
       "    </tr>\n",
       "    <tr>\n",
       "      <th>30</th>\n",
       "      <td>0.954545</td>\n",
       "      <td>0.152855</td>\n",
       "      <td>0.857785</td>\n",
       "      <td>0.411258</td>\n",
       "      <td>0.336484</td>\n",
       "      <td>0.638166</td>\n",
       "    </tr>\n",
       "    <tr>\n",
       "      <th>31</th>\n",
       "      <td>0.318182</td>\n",
       "      <td>0.252488</td>\n",
       "      <td>0.943400</td>\n",
       "      <td>0.558599</td>\n",
       "      <td>0.285421</td>\n",
       "      <td>0.647873</td>\n",
       "    </tr>\n",
       "    <tr>\n",
       "      <th>32</th>\n",
       "      <td>0.227273</td>\n",
       "      <td>0.207383</td>\n",
       "      <td>0.864045</td>\n",
       "      <td>0.497533</td>\n",
       "      <td>0.251731</td>\n",
       "      <td>0.783460</td>\n",
       "    </tr>\n",
       "    <tr>\n",
       "      <th>33</th>\n",
       "      <td>0.227273</td>\n",
       "      <td>0.141620</td>\n",
       "      <td>0.870300</td>\n",
       "      <td>0.374496</td>\n",
       "      <td>0.238060</td>\n",
       "      <td>0.752938</td>\n",
       "    </tr>\n",
       "    <tr>\n",
       "      <th>34</th>\n",
       "      <td>0.045455</td>\n",
       "      <td>0.251206</td>\n",
       "      <td>0.826162</td>\n",
       "      <td>0.384329</td>\n",
       "      <td>0.261683</td>\n",
       "      <td>0.729572</td>\n",
       "    </tr>\n",
       "    <tr>\n",
       "      <th>35</th>\n",
       "      <td>0.045455</td>\n",
       "      <td>0.303768</td>\n",
       "      <td>0.940038</td>\n",
       "      <td>0.419059</td>\n",
       "      <td>0.200502</td>\n",
       "      <td>0.604291</td>\n",
       "    </tr>\n",
       "    <tr>\n",
       "      <th>36</th>\n",
       "      <td>0.954545</td>\n",
       "      <td>0.274003</td>\n",
       "      <td>0.470161</td>\n",
       "      <td>0.415082</td>\n",
       "      <td>0.178621</td>\n",
       "      <td>0.461079</td>\n",
       "    </tr>\n",
       "    <tr>\n",
       "      <th>37</th>\n",
       "      <td>0.863636</td>\n",
       "      <td>0.201505</td>\n",
       "      <td>0.000000</td>\n",
       "      <td>0.228132</td>\n",
       "      <td>0.159623</td>\n",
       "      <td>0.130928</td>\n",
       "    </tr>\n",
       "    <tr>\n",
       "      <th>38</th>\n",
       "      <td>0.000000</td>\n",
       "      <td>0.000000</td>\n",
       "      <td>0.000000</td>\n",
       "      <td>0.027967</td>\n",
       "      <td>0.018122</td>\n",
       "      <td>0.024099</td>\n",
       "    </tr>\n",
       "    <tr>\n",
       "      <th>39</th>\n",
       "      <td>0.000000</td>\n",
       "      <td>0.000000</td>\n",
       "      <td>0.000000</td>\n",
       "      <td>0.005460</td>\n",
       "      <td>0.004602</td>\n",
       "      <td>0.001177</td>\n",
       "    </tr>\n",
       "    <tr>\n",
       "      <th>40</th>\n",
       "      <td>0.000000</td>\n",
       "      <td>0.000000</td>\n",
       "      <td>0.000000</td>\n",
       "      <td>0.000339</td>\n",
       "      <td>0.000239</td>\n",
       "      <td>0.000042</td>\n",
       "    </tr>\n",
       "    <tr>\n",
       "      <th>41</th>\n",
       "      <td>0.000000</td>\n",
       "      <td>0.000000</td>\n",
       "      <td>0.000000</td>\n",
       "      <td>0.000113</td>\n",
       "      <td>0.000065</td>\n",
       "      <td>0.000025</td>\n",
       "    </tr>\n",
       "    <tr>\n",
       "      <th>42</th>\n",
       "      <td>0.000000</td>\n",
       "      <td>0.000000</td>\n",
       "      <td>0.000000</td>\n",
       "      <td>0.000074</td>\n",
       "      <td>0.000072</td>\n",
       "      <td>0.000027</td>\n",
       "    </tr>\n",
       "    <tr>\n",
       "      <th>43</th>\n",
       "      <td>0.000000</td>\n",
       "      <td>0.000000</td>\n",
       "      <td>0.000000</td>\n",
       "      <td>0.000665</td>\n",
       "      <td>0.000907</td>\n",
       "      <td>0.000490</td>\n",
       "    </tr>\n",
       "  </tbody>\n",
       "</table>\n",
       "</div>"
      ],
      "text/plain": [
       "          AA       phi       psi  decoded_AA  decoded_phi  decoded_psi\n",
       "0   0.772727  0.000000  0.950876    0.394411     0.010200     0.644614\n",
       "1   0.681818  0.680659  0.351397    0.562589     0.303928     0.597150\n",
       "2   0.409091  0.266307  0.593341    0.549786     0.340138     0.571380\n",
       "3   0.545455  0.218300  0.489069    0.385565     0.269737     0.548632\n",
       "4   0.227273  0.036527  0.070271    0.474248     0.282619     0.524657\n",
       "5   0.045455  0.690544  0.331210    0.488924     0.297017     0.549171\n",
       "6   0.545455  0.658091  0.310984    0.465320     0.302121     0.543996\n",
       "7   0.045455  0.098858  0.354551    0.495860     0.306751     0.495955\n",
       "8   0.045455  0.199266  0.520113    0.471378     0.314326     0.503505\n",
       "9   0.409091  0.271484  0.909011    0.394323     0.288743     0.491342\n",
       "10  0.681818  0.108603  0.999597    0.481342     0.302115     0.563482\n",
       "11  0.227273  0.138179  0.921395    0.396480     0.278275     0.538557\n",
       "12  0.000000  0.111886  0.866464    0.488247     0.344187     0.506642\n",
       "13  0.454545  0.309324  0.888022    0.481174     0.311638     0.548486\n",
       "14  0.409091  0.716585  0.286625    0.421801     0.250555     0.542765\n",
       "15  0.045455  0.108586  0.913307    0.456664     0.282443     0.546062\n",
       "16  0.227273  0.297051  0.952566    0.455875     0.256736     0.607228\n",
       "17  0.045455  0.101105  0.963722    0.444038     0.272195     0.666244\n",
       "18  0.681818  0.366645  0.369688    0.498690     0.293185     0.586961\n",
       "19  0.727273  0.277986  0.513611    0.465053     0.368294     0.600012\n",
       "20  0.772727  0.090849  0.759186    0.467137     0.260046     0.605829\n",
       "21  0.500000  0.310747  0.888772    0.458415     0.282224     0.639563\n",
       "22  0.727273  0.318343  0.924569    0.425871     0.282564     0.576018\n",
       "23  0.500000  0.127225  0.437151    0.491700     0.346140     0.549036\n",
       "24  0.409091  0.997655  0.080414    0.485052     0.318535     0.570489\n",
       "25  0.045455  0.170107  0.927624    0.412856     0.226582     0.647888\n",
       "26  0.227273  0.178848  0.423961    0.427586     0.281462     0.568905\n",
       "27  0.772727  0.060456  0.998037    0.561245     0.343825     0.488083\n",
       "28  0.045455  0.342753  0.382669    0.505768     0.342051     0.607718\n",
       "29  0.681818  0.194262  0.538228    0.435413     0.332637     0.656192\n",
       "30  0.954545  0.152855  0.857785    0.411258     0.336484     0.638166\n",
       "31  0.318182  0.252488  0.943400    0.558599     0.285421     0.647873\n",
       "32  0.227273  0.207383  0.864045    0.497533     0.251731     0.783460\n",
       "33  0.227273  0.141620  0.870300    0.374496     0.238060     0.752938\n",
       "34  0.045455  0.251206  0.826162    0.384329     0.261683     0.729572\n",
       "35  0.045455  0.303768  0.940038    0.419059     0.200502     0.604291\n",
       "36  0.954545  0.274003  0.470161    0.415082     0.178621     0.461079\n",
       "37  0.863636  0.201505  0.000000    0.228132     0.159623     0.130928\n",
       "38  0.000000  0.000000  0.000000    0.027967     0.018122     0.024099\n",
       "39  0.000000  0.000000  0.000000    0.005460     0.004602     0.001177\n",
       "40  0.000000  0.000000  0.000000    0.000339     0.000239     0.000042\n",
       "41  0.000000  0.000000  0.000000    0.000113     0.000065     0.000025\n",
       "42  0.000000  0.000000  0.000000    0.000074     0.000072     0.000027\n",
       "43  0.000000  0.000000  0.000000    0.000665     0.000907     0.000490"
      ]
     },
     "execution_count": 128,
     "metadata": {},
     "output_type": "execute_result"
    }
   ],
   "source": [
    "#if the inputs are not random the test_X should correspond to the structure found at row 45232 in the prepped_data excel file\n",
    "df_out"
   ]
  },
  {
   "cell_type": "code",
   "execution_count": 129,
   "metadata": {},
   "outputs": [
    {
     "data": {
      "text/plain": [
       "<AxesSubplot:>"
      ]
     },
     "execution_count": 129,
     "metadata": {},
     "output_type": "execute_result"
    },
    {
     "data": {
      "image/png": "[encoded data removed]",
      "text/plain": [
       "<Figure size 432x288 with 1 Axes>"
      ]
     },
     "metadata": {
      "needs_background": "light"
     },
     "output_type": "display_data"
    },
    {
     "data": {
      "image/png": "[encoded data removed]",
      "text/plain": [
       "<Figure size 432x288 with 1 Axes>"
      ]
     },
     "metadata": {
      "needs_background": "light"
     },
     "output_type": "display_data"
    },
    {
     "data": {
      "image/png": "[encoded data removed]",
      "text/plain": [
       "<Figure size 432x288 with 1 Axes>"
      ]
     },
     "metadata": {
      "needs_background": "light"
     },
     "output_type": "display_data"
    }
   ],
   "source": [
    "df_out.plot(y=(['AA','decoded_AA']))\n",
    "df_out.plot(y=(['phi','decoded_phi']))\n",
    "df_out.plot(y=(['psi','decoded_psi']))"
   ]
  },
  {
   "cell_type": "code",
   "execution_count": null,
   "metadata": {},
   "outputs": [],
   "source": [
    "################USED THIS TO MAKE SURE THE TENSOR SHAPES WORKED################\n",
    "import torch.nn.functional as F\n",
    "\n",
    "m = nn.Conv1d(3, 32, kernel_size=4)\n",
    "n = nn.Conv1d(32, 64, kernel_size=4)\n",
    "\n",
    "linear1 = nn.Linear(2432, 16)\n",
    "linear2 = nn.Linear(2432, 16)\n",
    "\n",
    "linear3 = nn.Linear(16, 2432)\n",
    "\n",
    "o = nn.ConvTranspose1d(64, 32, kernel_size=4)\n",
    "p = nn.ConvTranspose1d(32, 3, kernel_size=4)\n",
    "\n",
    "sigmoid = nn.Sigmoid()\n",
    "\n",
    "def reparameterize(self, mu, logvar):\n",
    "        std = logvar.mul(0.5).exp_()\n",
    "        # return torch.normal(mu, std)\n",
    "        esp = torch.randn(*mu.size())\n",
    "        z = mu + std * esp\n",
    "        return z\n",
    "\n",
    "\n",
    "\n",
    "input = torch.randn(16,3,44)\n",
    "print(\"input to conv1d\",input.shape)\n",
    "output = m(input)\n",
    "output = n(output)\n",
    "output = (F.relu(output))\n",
    "print(\"POST CONV's\",output.shape)\n",
    "output = output.view(output.size(0),-1)\n",
    "print(\"POST VIEW output\",output.shape)\n",
    "\n",
    "#reparametrize\n",
    "mu, logvar = linear1(output), linear2(output)\n",
    "print(\"POST LINEAR mu\",mu.shape)\n",
    "z = reparameterize(output,mu, logvar)\n",
    "print(\"POST REPARAMETRIZING Z\",z.shape)\n",
    "\n",
    "print(\"Done the endoding ! \",\"Z:\",z.shape,\"mu:\",mu.shape,\"logvar:\",logvar.shape)\n",
    "print(\"\\n\",\"now decoding\")\n",
    "#decoding\n",
    "z = linear3(z)\n",
    "print(\"POST LINEAR mu\",mu.shape)\n",
    "z = z.view(z.size(0),64,38)\n",
    "print(\"POST UNFLATTEN z\",z.shape)\n",
    "z = o(z)\n",
    "z = p(z)\n",
    "print(\"POST CONV's\",z.shape)\n",
    "z = sigmoid(z)\n",
    "print(\"POST SIGMOID! :\",z.shape)\n",
    "print(\"FINISHED THE PASS THROUGH!\")\n"
   ]
  }
 ],
 "metadata": {
  "kernelspec": {
   "display_name": "Python 3",
   "language": "python",
   "name": "python3"
  },
  "language_info": {
   "codemirror_mode": {
    "name": "ipython",
    "version": 3
   },
   "file_extension": ".py",
   "mimetype": "text/x-python",
   "name": "python",
   "nbconvert_exporter": "python",
   "pygments_lexer": "ipython3",
   "version": "3.8.3"
  }
 },
 "nbformat": 4,
 "nbformat_minor": 4
}
