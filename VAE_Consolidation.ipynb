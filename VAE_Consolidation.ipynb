{
 "cells": [
  {
   "cell_type": "markdown",
   "metadata": {},
   "source": [
    "download the source code from the query results of the YADAMP website (search:with 3D structure only filter)\n",
    "\n",
    "URL : \" view-source:http://yadamp.unisa.it/searchDatabase.aspx \"\n",
    "\n",
    "rename it: \"list_of_sequences\".aspx\n"
   ]
  },
  {
   "cell_type": "code",
   "execution_count": 2,
   "metadata": {},
   "outputs": [
    {
     "name": "stdout",
     "output_type": "stream",
     "text": [
      "ten extracted sequences:  ['ACSAG', 'AMVGT', 'AMVSS', 'DDDDDD', 'FRWWHR', 'PGLGFY', 'RRWQWR', 'RRWWRF', 'CLAIGRR', 'FPWWWPF']\n",
      "total numbers of extracted sequences:  1136\n"
     ]
    }
   ],
   "source": [
    "#note to get the list of sequences an html backend was copied and now we scan through this html file for the sequences.\n",
    "#read from the file and pre process the strings extracting the sequences\n",
    "src = 'C:\\\\Users\\\\samue\\\\Downloads\\\\'\n",
    "keep=[]\n",
    "with open(src+'list_of_sequences.aspx') as f:\n",
    "    for line in f:\n",
    "        if(line.find('seq=')!= -1):\n",
    "            temp = line.split(\"seq=\")\n",
    "            temp = temp[1].split(\"\\\"\")\n",
    "            keep.append(temp[0])\n",
    "\n",
    "print(\"ten extracted sequences: \",keep[0:10]);\n",
    "print(\"total numbers of extracted sequences: \",len(keep))\n",
    "f.close()\n",
    "\n",
    "# only write the sequences to a text file for later use.\n",
    "with open(src+'yadamp_sequences.txt',\"w\") as f:\n",
    "    for seq in keep:\n",
    "        f.write(seq)\n",
    "        f.write(\"\\n\")\n",
    "f.close()"
   ]
  },
  {
   "cell_type": "markdown",
   "metadata": {},
   "source": [
    "Next Search the YADAMP website for the matching PDB files for all the noted sequences and store them in a folder\n",
    "(folder name used below: \"PDBs\")"
   ]
  },
  {
   "cell_type": "code",
   "execution_count": 3,
   "metadata": {
    "collapsed": true
   },
   "outputs": [
    {
     "name": "stdout",
     "output_type": "stream",
     "text": [
      "count:5 finished FRWWHR.pdb\n"
     ]
    },
    {
     "ename": "KeyboardInterrupt",
     "evalue": "",
     "output_type": "error",
     "traceback": [
      "\u001b[1;31m---------------------------------------------------------------------------\u001b[0m",
      "\u001b[1;31mKeyboardInterrupt\u001b[0m                         Traceback (most recent call last)",
      "\u001b[1;32m<ipython-input-3-d148ab57cd2a>\u001b[0m in \u001b[0;36m<module>\u001b[1;34m\u001b[0m\n\u001b[0;32m      7\u001b[0m         \u001b[0msequence\u001b[0m \u001b[1;33m=\u001b[0m \u001b[0msequence\u001b[0m\u001b[1;33m.\u001b[0m\u001b[0mstrip\u001b[0m\u001b[1;33m(\u001b[0m\u001b[1;34m\"\\n\"\u001b[0m\u001b[1;33m)\u001b[0m\u001b[1;33m+\u001b[0m\u001b[1;34m\".pdb\"\u001b[0m\u001b[1;33m\u001b[0m\u001b[1;33m\u001b[0m\u001b[0m\n\u001b[0;32m      8\u001b[0m         \u001b[0mtime\u001b[0m\u001b[1;33m.\u001b[0m\u001b[0msleep\u001b[0m\u001b[1;33m(\u001b[0m\u001b[1;36m0.001\u001b[0m\u001b[1;33m)\u001b[0m\u001b[1;33m\u001b[0m\u001b[1;33m\u001b[0m\u001b[0m\n\u001b[1;32m----> 9\u001b[1;33m         \u001b[0mwebUrl\u001b[0m \u001b[1;33m=\u001b[0m \u001b[0murllib\u001b[0m\u001b[1;33m.\u001b[0m\u001b[0mrequest\u001b[0m\u001b[1;33m.\u001b[0m\u001b[0murlopen\u001b[0m\u001b[1;33m(\u001b[0m\u001b[1;34m'http://yadamp.unisa.it/gmol/%s'\u001b[0m \u001b[1;33m%\u001b[0m \u001b[0msequence\u001b[0m\u001b[1;33m)\u001b[0m\u001b[1;33m\u001b[0m\u001b[1;33m\u001b[0m\u001b[0m\n\u001b[0m\u001b[0;32m     10\u001b[0m         \u001b[0mdata\u001b[0m \u001b[1;33m=\u001b[0m \u001b[0mwebUrl\u001b[0m\u001b[1;33m.\u001b[0m\u001b[0mreadlines\u001b[0m\u001b[1;33m(\u001b[0m\u001b[1;33m)\u001b[0m\u001b[1;33m\u001b[0m\u001b[1;33m\u001b[0m\u001b[0m\n\u001b[0;32m     11\u001b[0m \u001b[1;33m\u001b[0m\u001b[0m\n",
      "\u001b[1;32m~\\anaconda3\\envs\\research_project\\lib\\urllib\\request.py\u001b[0m in \u001b[0;36murlopen\u001b[1;34m(url, data, timeout, cafile, capath, cadefault, context)\u001b[0m\n\u001b[0;32m    220\u001b[0m     \u001b[1;32melse\u001b[0m\u001b[1;33m:\u001b[0m\u001b[1;33m\u001b[0m\u001b[1;33m\u001b[0m\u001b[0m\n\u001b[0;32m    221\u001b[0m         \u001b[0mopener\u001b[0m \u001b[1;33m=\u001b[0m \u001b[0m_opener\u001b[0m\u001b[1;33m\u001b[0m\u001b[1;33m\u001b[0m\u001b[0m\n\u001b[1;32m--> 222\u001b[1;33m     \u001b[1;32mreturn\u001b[0m \u001b[0mopener\u001b[0m\u001b[1;33m.\u001b[0m\u001b[0mopen\u001b[0m\u001b[1;33m(\u001b[0m\u001b[0murl\u001b[0m\u001b[1;33m,\u001b[0m \u001b[0mdata\u001b[0m\u001b[1;33m,\u001b[0m \u001b[0mtimeout\u001b[0m\u001b[1;33m)\u001b[0m\u001b[1;33m\u001b[0m\u001b[1;33m\u001b[0m\u001b[0m\n\u001b[0m\u001b[0;32m    223\u001b[0m \u001b[1;33m\u001b[0m\u001b[0m\n\u001b[0;32m    224\u001b[0m \u001b[1;32mdef\u001b[0m \u001b[0minstall_opener\u001b[0m\u001b[1;33m(\u001b[0m\u001b[0mopener\u001b[0m\u001b[1;33m)\u001b[0m\u001b[1;33m:\u001b[0m\u001b[1;33m\u001b[0m\u001b[1;33m\u001b[0m\u001b[0m\n",
      "\u001b[1;32m~\\anaconda3\\envs\\research_project\\lib\\urllib\\request.py\u001b[0m in \u001b[0;36mopen\u001b[1;34m(self, fullurl, data, timeout)\u001b[0m\n\u001b[0;32m    523\u001b[0m \u001b[1;33m\u001b[0m\u001b[0m\n\u001b[0;32m    524\u001b[0m         \u001b[0msys\u001b[0m\u001b[1;33m.\u001b[0m\u001b[0maudit\u001b[0m\u001b[1;33m(\u001b[0m\u001b[1;34m'urllib.Request'\u001b[0m\u001b[1;33m,\u001b[0m \u001b[0mreq\u001b[0m\u001b[1;33m.\u001b[0m\u001b[0mfull_url\u001b[0m\u001b[1;33m,\u001b[0m \u001b[0mreq\u001b[0m\u001b[1;33m.\u001b[0m\u001b[0mdata\u001b[0m\u001b[1;33m,\u001b[0m \u001b[0mreq\u001b[0m\u001b[1;33m.\u001b[0m\u001b[0mheaders\u001b[0m\u001b[1;33m,\u001b[0m \u001b[0mreq\u001b[0m\u001b[1;33m.\u001b[0m\u001b[0mget_method\u001b[0m\u001b[1;33m(\u001b[0m\u001b[1;33m)\u001b[0m\u001b[1;33m)\u001b[0m\u001b[1;33m\u001b[0m\u001b[1;33m\u001b[0m\u001b[0m\n\u001b[1;32m--> 525\u001b[1;33m         \u001b[0mresponse\u001b[0m \u001b[1;33m=\u001b[0m \u001b[0mself\u001b[0m\u001b[1;33m.\u001b[0m\u001b[0m_open\u001b[0m\u001b[1;33m(\u001b[0m\u001b[0mreq\u001b[0m\u001b[1;33m,\u001b[0m \u001b[0mdata\u001b[0m\u001b[1;33m)\u001b[0m\u001b[1;33m\u001b[0m\u001b[1;33m\u001b[0m\u001b[0m\n\u001b[0m\u001b[0;32m    526\u001b[0m \u001b[1;33m\u001b[0m\u001b[0m\n\u001b[0;32m    527\u001b[0m         \u001b[1;31m# post-process response\u001b[0m\u001b[1;33m\u001b[0m\u001b[1;33m\u001b[0m\u001b[1;33m\u001b[0m\u001b[0m\n",
      "\u001b[1;32m~\\anaconda3\\envs\\research_project\\lib\\urllib\\request.py\u001b[0m in \u001b[0;36m_open\u001b[1;34m(self, req, data)\u001b[0m\n\u001b[0;32m    540\u001b[0m \u001b[1;33m\u001b[0m\u001b[0m\n\u001b[0;32m    541\u001b[0m         \u001b[0mprotocol\u001b[0m \u001b[1;33m=\u001b[0m \u001b[0mreq\u001b[0m\u001b[1;33m.\u001b[0m\u001b[0mtype\u001b[0m\u001b[1;33m\u001b[0m\u001b[1;33m\u001b[0m\u001b[0m\n\u001b[1;32m--> 542\u001b[1;33m         result = self._call_chain(self.handle_open, protocol, protocol +\n\u001b[0m\u001b[0;32m    543\u001b[0m                                   '_open', req)\n\u001b[0;32m    544\u001b[0m         \u001b[1;32mif\u001b[0m \u001b[0mresult\u001b[0m\u001b[1;33m:\u001b[0m\u001b[1;33m\u001b[0m\u001b[1;33m\u001b[0m\u001b[0m\n",
      "\u001b[1;32m~\\anaconda3\\envs\\research_project\\lib\\urllib\\request.py\u001b[0m in \u001b[0;36m_call_chain\u001b[1;34m(self, chain, kind, meth_name, *args)\u001b[0m\n\u001b[0;32m    500\u001b[0m         \u001b[1;32mfor\u001b[0m \u001b[0mhandler\u001b[0m \u001b[1;32min\u001b[0m \u001b[0mhandlers\u001b[0m\u001b[1;33m:\u001b[0m\u001b[1;33m\u001b[0m\u001b[1;33m\u001b[0m\u001b[0m\n\u001b[0;32m    501\u001b[0m             \u001b[0mfunc\u001b[0m \u001b[1;33m=\u001b[0m \u001b[0mgetattr\u001b[0m\u001b[1;33m(\u001b[0m\u001b[0mhandler\u001b[0m\u001b[1;33m,\u001b[0m \u001b[0mmeth_name\u001b[0m\u001b[1;33m)\u001b[0m\u001b[1;33m\u001b[0m\u001b[1;33m\u001b[0m\u001b[0m\n\u001b[1;32m--> 502\u001b[1;33m             \u001b[0mresult\u001b[0m \u001b[1;33m=\u001b[0m \u001b[0mfunc\u001b[0m\u001b[1;33m(\u001b[0m\u001b[1;33m*\u001b[0m\u001b[0margs\u001b[0m\u001b[1;33m)\u001b[0m\u001b[1;33m\u001b[0m\u001b[1;33m\u001b[0m\u001b[0m\n\u001b[0m\u001b[0;32m    503\u001b[0m             \u001b[1;32mif\u001b[0m \u001b[0mresult\u001b[0m \u001b[1;32mis\u001b[0m \u001b[1;32mnot\u001b[0m \u001b[1;32mNone\u001b[0m\u001b[1;33m:\u001b[0m\u001b[1;33m\u001b[0m\u001b[1;33m\u001b[0m\u001b[0m\n\u001b[0;32m    504\u001b[0m                 \u001b[1;32mreturn\u001b[0m \u001b[0mresult\u001b[0m\u001b[1;33m\u001b[0m\u001b[1;33m\u001b[0m\u001b[0m\n",
      "\u001b[1;32m~\\anaconda3\\envs\\research_project\\lib\\urllib\\request.py\u001b[0m in \u001b[0;36mhttp_open\u001b[1;34m(self, req)\u001b[0m\n\u001b[0;32m   1377\u001b[0m \u001b[1;33m\u001b[0m\u001b[0m\n\u001b[0;32m   1378\u001b[0m     \u001b[1;32mdef\u001b[0m \u001b[0mhttp_open\u001b[0m\u001b[1;33m(\u001b[0m\u001b[0mself\u001b[0m\u001b[1;33m,\u001b[0m \u001b[0mreq\u001b[0m\u001b[1;33m)\u001b[0m\u001b[1;33m:\u001b[0m\u001b[1;33m\u001b[0m\u001b[1;33m\u001b[0m\u001b[0m\n\u001b[1;32m-> 1379\u001b[1;33m         \u001b[1;32mreturn\u001b[0m \u001b[0mself\u001b[0m\u001b[1;33m.\u001b[0m\u001b[0mdo_open\u001b[0m\u001b[1;33m(\u001b[0m\u001b[0mhttp\u001b[0m\u001b[1;33m.\u001b[0m\u001b[0mclient\u001b[0m\u001b[1;33m.\u001b[0m\u001b[0mHTTPConnection\u001b[0m\u001b[1;33m,\u001b[0m \u001b[0mreq\u001b[0m\u001b[1;33m)\u001b[0m\u001b[1;33m\u001b[0m\u001b[1;33m\u001b[0m\u001b[0m\n\u001b[0m\u001b[0;32m   1380\u001b[0m \u001b[1;33m\u001b[0m\u001b[0m\n\u001b[0;32m   1381\u001b[0m     \u001b[0mhttp_request\u001b[0m \u001b[1;33m=\u001b[0m \u001b[0mAbstractHTTPHandler\u001b[0m\u001b[1;33m.\u001b[0m\u001b[0mdo_request_\u001b[0m\u001b[1;33m\u001b[0m\u001b[1;33m\u001b[0m\u001b[0m\n",
      "\u001b[1;32m~\\anaconda3\\envs\\research_project\\lib\\urllib\\request.py\u001b[0m in \u001b[0;36mdo_open\u001b[1;34m(self, http_class, req, **http_conn_args)\u001b[0m\n\u001b[0;32m   1352\u001b[0m             \u001b[1;32mexcept\u001b[0m \u001b[0mOSError\u001b[0m \u001b[1;32mas\u001b[0m \u001b[0merr\u001b[0m\u001b[1;33m:\u001b[0m \u001b[1;31m# timeout error\u001b[0m\u001b[1;33m\u001b[0m\u001b[1;33m\u001b[0m\u001b[0m\n\u001b[0;32m   1353\u001b[0m                 \u001b[1;32mraise\u001b[0m \u001b[0mURLError\u001b[0m\u001b[1;33m(\u001b[0m\u001b[0merr\u001b[0m\u001b[1;33m)\u001b[0m\u001b[1;33m\u001b[0m\u001b[1;33m\u001b[0m\u001b[0m\n\u001b[1;32m-> 1354\u001b[1;33m             \u001b[0mr\u001b[0m \u001b[1;33m=\u001b[0m \u001b[0mh\u001b[0m\u001b[1;33m.\u001b[0m\u001b[0mgetresponse\u001b[0m\u001b[1;33m(\u001b[0m\u001b[1;33m)\u001b[0m\u001b[1;33m\u001b[0m\u001b[1;33m\u001b[0m\u001b[0m\n\u001b[0m\u001b[0;32m   1355\u001b[0m         \u001b[1;32mexcept\u001b[0m\u001b[1;33m:\u001b[0m\u001b[1;33m\u001b[0m\u001b[1;33m\u001b[0m\u001b[0m\n\u001b[0;32m   1356\u001b[0m             \u001b[0mh\u001b[0m\u001b[1;33m.\u001b[0m\u001b[0mclose\u001b[0m\u001b[1;33m(\u001b[0m\u001b[1;33m)\u001b[0m\u001b[1;33m\u001b[0m\u001b[1;33m\u001b[0m\u001b[0m\n",
      "\u001b[1;32m~\\anaconda3\\envs\\research_project\\lib\\http\\client.py\u001b[0m in \u001b[0;36mgetresponse\u001b[1;34m(self)\u001b[0m\n\u001b[0;32m   1345\u001b[0m         \u001b[1;32mtry\u001b[0m\u001b[1;33m:\u001b[0m\u001b[1;33m\u001b[0m\u001b[1;33m\u001b[0m\u001b[0m\n\u001b[0;32m   1346\u001b[0m             \u001b[1;32mtry\u001b[0m\u001b[1;33m:\u001b[0m\u001b[1;33m\u001b[0m\u001b[1;33m\u001b[0m\u001b[0m\n\u001b[1;32m-> 1347\u001b[1;33m                 \u001b[0mresponse\u001b[0m\u001b[1;33m.\u001b[0m\u001b[0mbegin\u001b[0m\u001b[1;33m(\u001b[0m\u001b[1;33m)\u001b[0m\u001b[1;33m\u001b[0m\u001b[1;33m\u001b[0m\u001b[0m\n\u001b[0m\u001b[0;32m   1348\u001b[0m             \u001b[1;32mexcept\u001b[0m \u001b[0mConnectionError\u001b[0m\u001b[1;33m:\u001b[0m\u001b[1;33m\u001b[0m\u001b[1;33m\u001b[0m\u001b[0m\n\u001b[0;32m   1349\u001b[0m                 \u001b[0mself\u001b[0m\u001b[1;33m.\u001b[0m\u001b[0mclose\u001b[0m\u001b[1;33m(\u001b[0m\u001b[1;33m)\u001b[0m\u001b[1;33m\u001b[0m\u001b[1;33m\u001b[0m\u001b[0m\n",
      "\u001b[1;32m~\\anaconda3\\envs\\research_project\\lib\\http\\client.py\u001b[0m in \u001b[0;36mbegin\u001b[1;34m(self)\u001b[0m\n\u001b[0;32m    305\u001b[0m         \u001b[1;31m# read until we get a non-100 response\u001b[0m\u001b[1;33m\u001b[0m\u001b[1;33m\u001b[0m\u001b[1;33m\u001b[0m\u001b[0m\n\u001b[0;32m    306\u001b[0m         \u001b[1;32mwhile\u001b[0m \u001b[1;32mTrue\u001b[0m\u001b[1;33m:\u001b[0m\u001b[1;33m\u001b[0m\u001b[1;33m\u001b[0m\u001b[0m\n\u001b[1;32m--> 307\u001b[1;33m             \u001b[0mversion\u001b[0m\u001b[1;33m,\u001b[0m \u001b[0mstatus\u001b[0m\u001b[1;33m,\u001b[0m \u001b[0mreason\u001b[0m \u001b[1;33m=\u001b[0m \u001b[0mself\u001b[0m\u001b[1;33m.\u001b[0m\u001b[0m_read_status\u001b[0m\u001b[1;33m(\u001b[0m\u001b[1;33m)\u001b[0m\u001b[1;33m\u001b[0m\u001b[1;33m\u001b[0m\u001b[0m\n\u001b[0m\u001b[0;32m    308\u001b[0m             \u001b[1;32mif\u001b[0m \u001b[0mstatus\u001b[0m \u001b[1;33m!=\u001b[0m \u001b[0mCONTINUE\u001b[0m\u001b[1;33m:\u001b[0m\u001b[1;33m\u001b[0m\u001b[1;33m\u001b[0m\u001b[0m\n\u001b[0;32m    309\u001b[0m                 \u001b[1;32mbreak\u001b[0m\u001b[1;33m\u001b[0m\u001b[1;33m\u001b[0m\u001b[0m\n",
      "\u001b[1;32m~\\anaconda3\\envs\\research_project\\lib\\http\\client.py\u001b[0m in \u001b[0;36m_read_status\u001b[1;34m(self)\u001b[0m\n\u001b[0;32m    266\u001b[0m \u001b[1;33m\u001b[0m\u001b[0m\n\u001b[0;32m    267\u001b[0m     \u001b[1;32mdef\u001b[0m \u001b[0m_read_status\u001b[0m\u001b[1;33m(\u001b[0m\u001b[0mself\u001b[0m\u001b[1;33m)\u001b[0m\u001b[1;33m:\u001b[0m\u001b[1;33m\u001b[0m\u001b[1;33m\u001b[0m\u001b[0m\n\u001b[1;32m--> 268\u001b[1;33m         \u001b[0mline\u001b[0m \u001b[1;33m=\u001b[0m \u001b[0mstr\u001b[0m\u001b[1;33m(\u001b[0m\u001b[0mself\u001b[0m\u001b[1;33m.\u001b[0m\u001b[0mfp\u001b[0m\u001b[1;33m.\u001b[0m\u001b[0mreadline\u001b[0m\u001b[1;33m(\u001b[0m\u001b[0m_MAXLINE\u001b[0m \u001b[1;33m+\u001b[0m \u001b[1;36m1\u001b[0m\u001b[1;33m)\u001b[0m\u001b[1;33m,\u001b[0m \u001b[1;34m\"iso-8859-1\"\u001b[0m\u001b[1;33m)\u001b[0m\u001b[1;33m\u001b[0m\u001b[1;33m\u001b[0m\u001b[0m\n\u001b[0m\u001b[0;32m    269\u001b[0m         \u001b[1;32mif\u001b[0m \u001b[0mlen\u001b[0m\u001b[1;33m(\u001b[0m\u001b[0mline\u001b[0m\u001b[1;33m)\u001b[0m \u001b[1;33m>\u001b[0m \u001b[0m_MAXLINE\u001b[0m\u001b[1;33m:\u001b[0m\u001b[1;33m\u001b[0m\u001b[1;33m\u001b[0m\u001b[0m\n\u001b[0;32m    270\u001b[0m             \u001b[1;32mraise\u001b[0m \u001b[0mLineTooLong\u001b[0m\u001b[1;33m(\u001b[0m\u001b[1;34m\"status line\"\u001b[0m\u001b[1;33m)\u001b[0m\u001b[1;33m\u001b[0m\u001b[1;33m\u001b[0m\u001b[0m\n",
      "\u001b[1;32m~\\anaconda3\\envs\\research_project\\lib\\socket.py\u001b[0m in \u001b[0;36mreadinto\u001b[1;34m(self, b)\u001b[0m\n\u001b[0;32m    667\u001b[0m         \u001b[1;32mwhile\u001b[0m \u001b[1;32mTrue\u001b[0m\u001b[1;33m:\u001b[0m\u001b[1;33m\u001b[0m\u001b[1;33m\u001b[0m\u001b[0m\n\u001b[0;32m    668\u001b[0m             \u001b[1;32mtry\u001b[0m\u001b[1;33m:\u001b[0m\u001b[1;33m\u001b[0m\u001b[1;33m\u001b[0m\u001b[0m\n\u001b[1;32m--> 669\u001b[1;33m                 \u001b[1;32mreturn\u001b[0m \u001b[0mself\u001b[0m\u001b[1;33m.\u001b[0m\u001b[0m_sock\u001b[0m\u001b[1;33m.\u001b[0m\u001b[0mrecv_into\u001b[0m\u001b[1;33m(\u001b[0m\u001b[0mb\u001b[0m\u001b[1;33m)\u001b[0m\u001b[1;33m\u001b[0m\u001b[1;33m\u001b[0m\u001b[0m\n\u001b[0m\u001b[0;32m    670\u001b[0m             \u001b[1;32mexcept\u001b[0m \u001b[0mtimeout\u001b[0m\u001b[1;33m:\u001b[0m\u001b[1;33m\u001b[0m\u001b[1;33m\u001b[0m\u001b[0m\n\u001b[0;32m    671\u001b[0m                 \u001b[0mself\u001b[0m\u001b[1;33m.\u001b[0m\u001b[0m_timeout_occurred\u001b[0m \u001b[1;33m=\u001b[0m \u001b[1;32mTrue\u001b[0m\u001b[1;33m\u001b[0m\u001b[1;33m\u001b[0m\u001b[0m\n",
      "\u001b[1;31mKeyboardInterrupt\u001b[0m: "
     ]
    }
   ],
   "source": [
    "import urllib.request\n",
    "import time\n",
    "\n",
    "count=0\n",
    "with open(src+'yadamp_sequences.txt') as f:\n",
    "    for sequence in f:\n",
    "        sequence = sequence.strip(\"\\n\")+\".pdb\"\n",
    "        time.sleep(0.001)\n",
    "        webUrl = urllib.request.urlopen('http://yadamp.unisa.it/gmol/%s' % sequence)\n",
    "        data = webUrl.readlines()\n",
    "\n",
    "        #create a new directory in which all the PDB files should be stored\n",
    "        with open(src+'PDBs\\\\'+'%s' % sequence, 'wb') as f_cor:\n",
    "            for line in data:\n",
    "                f_cor.write(line)\n",
    "        f_cor.close()\n",
    "\n",
    "        count += 1\n",
    "        if count%5==0: print(\"count:%d finished %s\" % (count, sequence))\n",
    "f.close"
   ]
  },
  {
   "cell_type": "markdown",
   "metadata": {},
   "source": [
    "The next step is to go through all the PDB files and extract the amino acids, phi and psi dihedral angles. (using BIOpython)"
   ]
  },
  {
   "cell_type": "code",
   "execution_count": 5,
   "metadata": {
    "scrolled": true
   },
   "outputs": [
    {
     "name": "stdout",
     "output_type": "stream",
     "text": [
      "(part 1 of 1) \tlength 5\n",
      "from ALA1 to GLY5\n",
      "(part 1 of 1) \tlength 5\n",
      "from ALA1 to THR5\n",
      "(part 1 of 1) \tlength 5\n",
      "from ALA1 to SER5\n",
      "(part 1 of 1) \tlength 6\n",
      "from ASP1 to ASP6\n",
      "(part 1 of 1) \tlength 6\n",
      "from PHE1 to ARG6\n",
      "81\n"
     ]
    }
   ],
   "source": [
    "from Bio.PDB import PDBParser\n",
    "import Bio.PDB\n",
    "from Bio.PDB import PPBuilder\n",
    "from Bio.Struct.Geometry import center_of_mass\n",
    "from Bio.PDB import internal_coords\n",
    "import pandas as pd\n",
    "import numpy as np\n",
    "import os\n",
    "import warnings\n",
    "warnings.filterwarnings('ignore')\n",
    "\n",
    "AA_list = np.zeros((0))\n",
    "#open the folder where all of the PDBs are stored\n",
    "for file in os.listdir(src+\"PDBs\"):\n",
    "\n",
    "    directory = src+\"PDBs\\\\%s\" % file\n",
    "    #print(counter,directory)\n",
    "    p = PDBParser()\n",
    "    s = p.get_structure(\"\", directory) \n",
    "    \n",
    "\n",
    "    #https://warwick.ac.uk/fac/sci/moac/people/students/peter_cock/python/ramachandran/calculate VERY USEFUL!!\n",
    "    #get the phi and psi angles using biopython\n",
    "    for chain in s :\n",
    "        polypeptides = Bio.PDB.PPBuilder().build_peptides(chain)\n",
    "        for poly_index, poly in enumerate(polypeptides) :\n",
    "            \n",
    "            print (\"(part %i of %i)\" % (poly_index+1, len(polypeptides)), \"\\tlength %i\" % (len(poly))),\n",
    "            print (\"from %s%i\" % (poly[0].resname, poly[0].id[1]) ,\"to %s%i\" % (poly[-1].resname, poly[-1].id[1]))\n",
    "            \n",
    "            phi_psi = poly.get_phi_psi_list()\n",
    "            for res_index, residue in enumerate(poly) :\n",
    "                res_name = \"%s%i\" % (residue.resname, residue.id[1])\n",
    "                AA_list =np.append(AA_list,[res_name[:3], phi_psi[res_index][0],phi_psi[res_index][1]])\n",
    "\n",
    "print(AA_list.size)\n",
    "d = {\"Amino Acids\":AA_list[range(0,AA_list.size,3)],\"phi\":AA_list[range(1,AA_list.size,3)],\"psi\":AA_list[range(2,AA_list.size,3)]}\n",
    "df = pd.DataFrame(d)\n",
    "#save the dataframe so that this only needs to be done once\n",
    "df.to_csv('dataframe_internal_coordinates.csv')\n"
   ]
  },
  {
   "cell_type": "markdown",
   "metadata": {},
   "source": [
    "Now that the structures are saved in a csv file, with their angles, we can start preparing the data for Neural Net input"
   ]
  },
  {
   "cell_type": "code",
   "execution_count": 175,
   "metadata": {},
   "outputs": [],
   "source": [
    "import pandas as pd\n",
    "import numpy as np\n",
    "src= \"C:\\\\Users\\\\samue\\\\Downloads\\\\research_project\\\\Databases\\\\dataframe_internal_coordinates.csv\"\n",
    "df = pd.read_csv(src)"
   ]
  },
  {
   "cell_type": "markdown",
   "metadata": {},
   "source": [
    "The first step will be to scale the phi/psi angles to fit between 0 and 1"
   ]
  },
  {
   "cell_type": "code",
   "execution_count": 176,
   "metadata": {},
   "outputs": [
    {
     "data": {
      "text/html": [
       "<div>\n",
       "<style scoped>\n",
       "    .dataframe tbody tr th:only-of-type {\n",
       "        vertical-align: middle;\n",
       "    }\n",
       "\n",
       "    .dataframe tbody tr th {\n",
       "        vertical-align: top;\n",
       "    }\n",
       "\n",
       "    .dataframe thead th {\n",
       "        text-align: right;\n",
       "    }\n",
       "</style>\n",
       "<table border=\"1\" class=\"dataframe\">\n",
       "  <thead>\n",
       "    <tr style=\"text-align: right;\">\n",
       "      <th></th>\n",
       "      <th>Unnamed: 0</th>\n",
       "      <th>Amino Acids</th>\n",
       "      <th>phi</th>\n",
       "      <th>psi</th>\n",
       "    </tr>\n",
       "  </thead>\n",
       "  <tbody>\n",
       "    <tr>\n",
       "      <th>0</th>\n",
       "      <td>0</td>\n",
       "      <td>ALA</td>\n",
       "      <td>NaN</td>\n",
       "      <td>2.833464</td>\n",
       "    </tr>\n",
       "    <tr>\n",
       "      <th>1</th>\n",
       "      <td>1</td>\n",
       "      <td>ALA</td>\n",
       "      <td>-2.637405</td>\n",
       "      <td>2.960152</td>\n",
       "    </tr>\n",
       "    <tr>\n",
       "      <th>2</th>\n",
       "      <td>2</td>\n",
       "      <td>ALA</td>\n",
       "      <td>-1.349753</td>\n",
       "      <td>2.491088</td>\n",
       "    </tr>\n",
       "  </tbody>\n",
       "</table>\n",
       "</div>"
      ],
      "text/plain": [
       "   Unnamed: 0 Amino Acids       phi       psi\n",
       "0           0         ALA       NaN  2.833464\n",
       "1           1         ALA -2.637405  2.960152\n",
       "2           2         ALA -1.349753  2.491088"
      ]
     },
     "execution_count": 176,
     "metadata": {},
     "output_type": "execute_result"
    }
   ],
   "source": [
    "df.head(3)"
   ]
  },
  {
   "cell_type": "code",
   "execution_count": 177,
   "metadata": {},
   "outputs": [],
   "source": [
    "coded_AA_list=[]\n",
    "possible_AA= ['ala','arg','asn','asp','cys','glu','gln','gly','his','ile','leu','lys','met','phe','pro','ser','thr','trp','tyr','val']\n",
    "for i in df['Amino Acids']:\n",
    "    for acid in possible_AA:\n",
    "        if i.lower() == acid:\n",
    "            #print(acid,possible_AA.index(acid))    #to visualize the conversion uncomment this\n",
    "            coded_AA_list.append((possible_AA.index(acid)+1)/20) #normalizing\n",
    "            \n",
    "               \n",
    "df.insert(loc=df.columns.size, column='Coded_AA', value=coded_AA_list)"
   ]
  },
  {
   "cell_type": "code",
   "execution_count": 178,
   "metadata": {},
   "outputs": [],
   "source": [
    "from sklearn import preprocessing\n",
    "import math\n",
    "#Scaling the angles appropriately\n",
    "scaler = preprocessing.MinMaxScaler(feature_range=(0,1))\n",
    "scaler.fit(np.reshape([-np.pi,np.pi],(-1,1))) #this makes sure to scale data using min -pi and max +pi\n",
    "scaled_phi = scaler.transform(df['phi'].values.reshape(-1,1))\n",
    "scaled_psi = scaler.transform(df['psi'].values.reshape(-1,1))\n",
    "\n",
    "df.insert(loc=df.columns.size, column='scaled_phi', value=scaled_phi)\n",
    "df.insert(loc=df.columns.size, column='scaled_psi', value=scaled_psi)"
   ]
  },
  {
   "cell_type": "code",
   "execution_count": 179,
   "metadata": {},
   "outputs": [
    {
     "data": {
      "text/html": [
       "<div>\n",
       "<style scoped>\n",
       "    .dataframe tbody tr th:only-of-type {\n",
       "        vertical-align: middle;\n",
       "    }\n",
       "\n",
       "    .dataframe tbody tr th {\n",
       "        vertical-align: top;\n",
       "    }\n",
       "\n",
       "    .dataframe thead th {\n",
       "        text-align: right;\n",
       "    }\n",
       "</style>\n",
       "<table border=\"1\" class=\"dataframe\">\n",
       "  <thead>\n",
       "    <tr style=\"text-align: right;\">\n",
       "      <th></th>\n",
       "      <th>Unnamed: 0</th>\n",
       "      <th>Amino Acids</th>\n",
       "      <th>phi</th>\n",
       "      <th>psi</th>\n",
       "      <th>Coded_AA</th>\n",
       "      <th>scaled_phi</th>\n",
       "      <th>scaled_psi</th>\n",
       "    </tr>\n",
       "  </thead>\n",
       "  <tbody>\n",
       "    <tr>\n",
       "      <th>0</th>\n",
       "      <td>0</td>\n",
       "      <td>ALA</td>\n",
       "      <td>NaN</td>\n",
       "      <td>2.833464</td>\n",
       "      <td>0.05</td>\n",
       "      <td>NaN</td>\n",
       "      <td>0.950960</td>\n",
       "    </tr>\n",
       "    <tr>\n",
       "      <th>1</th>\n",
       "      <td>1</td>\n",
       "      <td>ALA</td>\n",
       "      <td>-2.637405</td>\n",
       "      <td>2.960152</td>\n",
       "      <td>0.05</td>\n",
       "      <td>0.080244</td>\n",
       "      <td>0.971123</td>\n",
       "    </tr>\n",
       "    <tr>\n",
       "      <th>2</th>\n",
       "      <td>2</td>\n",
       "      <td>ALA</td>\n",
       "      <td>-1.349753</td>\n",
       "      <td>2.491088</td>\n",
       "      <td>0.05</td>\n",
       "      <td>0.285180</td>\n",
       "      <td>0.896469</td>\n",
       "    </tr>\n",
       "    <tr>\n",
       "      <th>3</th>\n",
       "      <td>3</td>\n",
       "      <td>ALA</td>\n",
       "      <td>-1.612154</td>\n",
       "      <td>-0.667668</td>\n",
       "      <td>0.05</td>\n",
       "      <td>0.243418</td>\n",
       "      <td>0.393737</td>\n",
       "    </tr>\n",
       "    <tr>\n",
       "      <th>4</th>\n",
       "      <td>4</td>\n",
       "      <td>GLY</td>\n",
       "      <td>2.514027</td>\n",
       "      <td>-2.779758</td>\n",
       "      <td>0.40</td>\n",
       "      <td>0.900120</td>\n",
       "      <td>0.057588</td>\n",
       "    </tr>\n",
       "  </tbody>\n",
       "</table>\n",
       "</div>"
      ],
      "text/plain": [
       "   Unnamed: 0 Amino Acids       phi       psi  Coded_AA  scaled_phi  \\\n",
       "0           0         ALA       NaN  2.833464      0.05         NaN   \n",
       "1           1         ALA -2.637405  2.960152      0.05    0.080244   \n",
       "2           2         ALA -1.349753  2.491088      0.05    0.285180   \n",
       "3           3         ALA -1.612154 -0.667668      0.05    0.243418   \n",
       "4           4         GLY  2.514027 -2.779758      0.40    0.900120   \n",
       "\n",
       "   scaled_psi  \n",
       "0    0.950960  \n",
       "1    0.971123  \n",
       "2    0.896469  \n",
       "3    0.393737  \n",
       "4    0.057588  "
      ]
     },
     "execution_count": 179,
     "metadata": {},
     "output_type": "execute_result"
    }
   ],
   "source": [
    "df.head(5)"
   ]
  },
  {
   "cell_type": "markdown",
   "metadata": {},
   "source": [
    "Next the longest AMP structure is found and the other AMP's are padded with 0's in order to match the length"
   ]
  },
  {
   "cell_type": "code",
   "execution_count": 180,
   "metadata": {},
   "outputs": [
    {
     "data": {
      "text/plain": [
       "45"
      ]
     },
     "execution_count": 180,
     "metadata": {},
     "output_type": "execute_result"
    }
   ],
   "source": [
    "#find max length to know how much to pad, sequences are currently delimited by 0's\n",
    "counter=0\n",
    "lengths=[]\n",
    "for phi in scaled_phi:\n",
    "    if(phi==scaled_phi[-1]):\n",
    "        lengths.append(counter+2)\n",
    "        counter=0\n",
    "    if(math.isnan(phi)):\n",
    "        lengths.append(counter+1)\n",
    "        counter=0\n",
    "    else:\n",
    "        counter+=1\n",
    "longest_amp = max(lengths)\n",
    "longest_amp"
   ]
  },
  {
   "cell_type": "code",
   "execution_count": 181,
   "metadata": {},
   "outputs": [],
   "source": [
    "#Here the propper length and order of the AMPS is stored and will come in handy later on\n",
    "list_of_AA_lengths = pd.DataFrame([lengths[1:]])\n",
    "list_of_AA_lengths = list_of_AA_lengths.transpose()\n",
    "list_of_AA_lengths.columns = [\"lengths\"]\n",
    "list_of_AA_lengths.to_csv(\"sorted_AA_endpoints.csv\")"
   ]
  },
  {
   "cell_type": "code",
   "execution_count": 182,
   "metadata": {
    "scrolled": true
   },
   "outputs": [],
   "source": [
    "#Here we split up the AMPs in order to pad them individually to equal lengths\n",
    "temp_df = list_of_AA_lengths\n",
    "df_save=[]\n",
    "for i in range(len(temp_df.values)):\n",
    "    #print(df[\"Amino Acids\"][:temp_df['lengths'][i]+1].values) #uncomment to get more information\n",
    "    #print(temp_df['lengths'][i]+1)\n",
    "    df_save.append(df[: temp_df['lengths'][i]])\n",
    "    df = df[ temp_df['lengths'][i] :]\n",
    "    "
   ]
  },
  {
   "cell_type": "markdown",
   "metadata": {},
   "source": [
    "Then the padding is done such that all entries are the same length"
   ]
  },
  {
   "cell_type": "code",
   "execution_count": 183,
   "metadata": {
    "collapsed": true
   },
   "outputs": [
    {
     "name": "stdout",
     "output_type": "stream",
     "text": [
      "43\n",
      "40\n",
      "10\n",
      "10\n",
      "16\n",
      "20\n",
      "20\n",
      "20\n",
      "20\n",
      "33\n",
      "17\n",
      "19\n",
      "18\n",
      "20\n",
      "37\n",
      "37\n",
      "36\n",
      "5\n",
      "30\n",
      "30\n",
      "30\n",
      "30\n",
      "30\n",
      "30\n",
      "24\n",
      "12\n",
      "8\n",
      "32\n",
      "38\n",
      "30\n",
      "13\n",
      "39\n",
      "9\n",
      "9\n",
      "14\n",
      "29\n",
      "43\n",
      "30\n",
      "42\n",
      "42\n",
      "15\n",
      "12\n",
      "15\n",
      "15\n",
      "15\n",
      "15\n",
      "17\n",
      "18\n",
      "15\n",
      "9\n",
      "9\n",
      "9\n",
      "9\n",
      "31\n",
      "9\n",
      "9\n",
      "17\n",
      "18\n",
      "9\n",
      "9\n",
      "5\n",
      "5\n",
      "31\n",
      "15\n",
      "30\n",
      "40\n",
      "41\n",
      "8\n",
      "8\n",
      "8\n",
      "8\n",
      "8\n",
      "8\n",
      "8\n",
      "40\n",
      "40\n",
      "44\n",
      "45\n",
      "15\n",
      "41\n",
      "26\n",
      "43\n",
      "43\n",
      "40\n",
      "43\n",
      "40\n",
      "40\n",
      "40\n",
      "40\n",
      "40\n",
      "40\n",
      "40\n",
      "40\n",
      "40\n",
      "40\n",
      "40\n",
      "10\n",
      "40\n",
      "20\n",
      "40\n",
      "44\n",
      "17\n",
      "38\n",
      "44\n",
      "44\n",
      "43\n",
      "39\n",
      "16\n",
      "17\n",
      "17\n",
      "13\n",
      "11\n",
      "41\n",
      "15\n",
      "9\n",
      "9\n",
      "30\n",
      "23\n",
      "19\n",
      "31\n",
      "31\n",
      "30\n",
      "34\n",
      "34\n",
      "36\n",
      "34\n",
      "36\n",
      "19\n",
      "7\n",
      "21\n",
      "19\n",
      "19\n",
      "29\n",
      "16\n",
      "29\n",
      "34\n",
      "38\n",
      "38\n",
      "44\n",
      "16\n",
      "30\n",
      "6\n",
      "10\n",
      "42\n",
      "9\n",
      "38\n",
      "37\n",
      "36\n",
      "15\n",
      "11\n",
      "11\n",
      "37\n",
      "44\n",
      "43\n",
      "44\n",
      "43\n",
      "44\n",
      "44\n",
      "11\n",
      "10\n",
      "39\n",
      "34\n",
      "25\n",
      "15\n",
      "43\n",
      "13\n",
      "42\n",
      "18\n",
      "9\n",
      "15\n",
      "37\n",
      "13\n",
      "40\n",
      "40\n",
      "40\n",
      "16\n",
      "36\n",
      "16\n",
      "15\n",
      "18\n",
      "18\n",
      "36\n",
      "9\n",
      "9\n",
      "11\n",
      "11\n",
      "14\n",
      "11\n",
      "11\n",
      "11\n",
      "15\n",
      "10\n",
      "15\n",
      "15\n",
      "18\n",
      "16\n",
      "18\n",
      "39\n",
      "18\n",
      "18\n",
      "40\n",
      "20\n",
      "15\n",
      "18\n",
      "11\n",
      "12\n",
      "14\n",
      "15\n",
      "15\n",
      "14\n",
      "14\n",
      "14\n",
      "14\n",
      "11\n",
      "8\n",
      "18\n",
      "13\n",
      "13\n",
      "22\n",
      "23\n",
      "22\n",
      "23\n",
      "23\n",
      "23\n",
      "8\n",
      "14\n",
      "16\n",
      "13\n",
      "16\n",
      "10\n",
      "13\n",
      "13\n",
      "16\n",
      "14\n",
      "17\n",
      "17\n",
      "13\n",
      "19\n",
      "19\n",
      "31\n",
      "17\n",
      "15\n",
      "13\n",
      "13\n",
      "13\n",
      "13\n",
      "16\n",
      "14\n",
      "14\n",
      "14\n",
      "13\n",
      "13\n",
      "17\n",
      "15\n",
      "25\n",
      "13\n",
      "15\n",
      "15\n",
      "16\n",
      "13\n",
      "18\n",
      "14\n",
      "18\n",
      "18\n",
      "18\n",
      "13\n",
      "13\n",
      "13\n",
      "17\n",
      "17\n",
      "13\n",
      "14\n",
      "17\n",
      "13\n",
      "13\n",
      "13\n",
      "13\n",
      "13\n",
      "13\n",
      "13\n",
      "16\n",
      "17\n",
      "12\n",
      "13\n",
      "13\n",
      "13\n",
      "13\n",
      "13\n",
      "13\n",
      "13\n",
      "13\n",
      "13\n",
      "14\n",
      "13\n",
      "13\n",
      "13\n",
      "16\n",
      "16\n",
      "13\n",
      "13\n",
      "14\n",
      "18\n",
      "13\n",
      "13\n",
      "13\n",
      "15\n",
      "13\n",
      "13\n",
      "13\n",
      "13\n",
      "13\n",
      "13\n",
      "13\n",
      "13\n",
      "17\n",
      "13\n",
      "13\n",
      "14\n",
      "13\n",
      "17\n",
      "17\n",
      "13\n",
      "13\n",
      "29\n",
      "13\n",
      "13\n",
      "13\n",
      "19\n",
      "13\n",
      "13\n",
      "13\n",
      "13\n",
      "30\n",
      "18\n",
      "12\n",
      "13\n",
      "13\n",
      "12\n",
      "12\n",
      "12\n",
      "12\n",
      "13\n",
      "13\n",
      "7\n",
      "11\n",
      "6\n",
      "12\n",
      "13\n",
      "43\n",
      "17\n",
      "14\n",
      "13\n",
      "13\n",
      "30\n",
      "13\n",
      "22\n",
      "17\n",
      "17\n",
      "34\n",
      "34\n",
      "21\n",
      "16\n",
      "37\n",
      "25\n",
      "18\n",
      "14\n",
      "43\n",
      "18\n",
      "18\n",
      "33\n",
      "33\n",
      "33\n",
      "35\n",
      "40\n",
      "37\n",
      "37\n",
      "43\n",
      "43\n",
      "38\n",
      "38\n",
      "36\n",
      "38\n",
      "37\n",
      "38\n",
      "37\n",
      "39\n",
      "39\n",
      "38\n",
      "43\n",
      "38\n",
      "19\n",
      "35\n",
      "35\n",
      "35\n",
      "35\n",
      "16\n",
      "17\n",
      "17\n",
      "34\n",
      "24\n",
      "33\n",
      "18\n",
      "17\n",
      "18\n",
      "29\n",
      "30\n",
      "14\n",
      "45\n",
      "18\n",
      "14\n",
      "21\n",
      "18\n",
      "18\n",
      "37\n",
      "37\n",
      "18\n",
      "18\n",
      "33\n",
      "33\n",
      "38\n",
      "26\n",
      "26\n",
      "19\n",
      "23\n",
      "23\n",
      "23\n",
      "23\n",
      "22\n",
      "40\n",
      "17\n",
      "23\n",
      "17\n",
      "12\n",
      "19\n",
      "45\n",
      "45\n",
      "45\n",
      "17\n",
      "23\n",
      "14\n",
      "19\n",
      "33\n",
      "32\n",
      "37\n",
      "32\n",
      "33\n",
      "41\n",
      "33\n",
      "33\n",
      "37\n",
      "19\n",
      "32\n",
      "32\n",
      "32\n",
      "32\n",
      "28\n",
      "28\n",
      "28\n",
      "28\n",
      "33\n",
      "28\n",
      "28\n",
      "33\n",
      "30\n",
      "30\n",
      "30\n",
      "30\n",
      "30\n",
      "19\n",
      "21\n",
      "41\n",
      "42\n",
      "43\n",
      "18\n",
      "19\n",
      "19\n",
      "40\n",
      "44\n",
      "19\n",
      "16\n",
      "16\n",
      "16\n",
      "13\n",
      "13\n",
      "11\n",
      "16\n",
      "16\n",
      "18\n",
      "18\n",
      "13\n",
      "13\n",
      "14\n",
      "17\n",
      "17\n",
      "17\n",
      "13\n",
      "16\n",
      "16\n",
      "15\n",
      "16\n",
      "16\n",
      "16\n",
      "13\n",
      "16\n",
      "16\n",
      "16\n",
      "18\n",
      "18\n",
      "33\n",
      "33\n",
      "26\n",
      "26\n",
      "16\n",
      "31\n",
      "33\n",
      "33\n",
      "33\n",
      "17\n",
      "17\n",
      "33\n",
      "17\n",
      "32\n",
      "12\n",
      "16\n",
      "17\n",
      "17\n",
      "16\n",
      "16\n",
      "33\n",
      "33\n",
      "33\n",
      "33\n",
      "33\n",
      "33\n",
      "33\n",
      "33\n",
      "33\n",
      "18\n",
      "15\n",
      "18\n",
      "10\n",
      "31\n",
      "33\n",
      "12\n",
      "12\n",
      "10\n",
      "28\n",
      "28\n",
      "28\n",
      "28\n",
      "33\n",
      "29\n",
      "29\n",
      "29\n",
      "20\n",
      "20\n",
      "20\n",
      "37\n",
      "20\n",
      "18\n",
      "19\n",
      "18\n",
      "18\n",
      "18\n",
      "17\n",
      "15\n",
      "15\n",
      "38\n",
      "38\n",
      "38\n",
      "18\n",
      "14\n",
      "39\n",
      "39\n",
      "40\n",
      "18\n",
      "16\n",
      "16\n",
      "18\n",
      "7\n",
      "21\n",
      "23\n",
      "22\n",
      "19\n",
      "21\n",
      "18\n",
      "31\n",
      "31\n",
      "19\n",
      "39\n",
      "39\n",
      "9\n",
      "18\n",
      "17\n",
      "17\n",
      "17\n",
      "23\n",
      "23\n",
      "17\n",
      "17\n",
      "17\n",
      "17\n",
      "17\n",
      "17\n",
      "31\n",
      "31\n",
      "17\n",
      "30\n",
      "29\n",
      "41\n",
      "23\n",
      "13\n",
      "13\n",
      "15\n",
      "18\n",
      "14\n",
      "19\n",
      "37\n",
      "37\n",
      "37\n",
      "8\n",
      "15\n",
      "14\n",
      "14\n",
      "13\n",
      "10\n",
      "26\n",
      "28\n",
      "21\n",
      "25\n",
      "19\n",
      "38\n",
      "20\n",
      "14\n",
      "14\n",
      "14\n",
      "13\n",
      "18\n",
      "11\n",
      "13\n",
      "16\n",
      "12\n",
      "42\n",
      "16\n",
      "15\n",
      "15\n",
      "18\n",
      "20\n",
      "20\n",
      "21\n",
      "32\n",
      "13\n",
      "17\n",
      "17\n",
      "25\n",
      "14\n",
      "13\n",
      "16\n",
      "12\n",
      "13\n",
      "13\n",
      "13\n",
      "13\n",
      "13\n",
      "12\n",
      "16\n",
      "17\n",
      "20\n",
      "20\n",
      "20\n",
      "20\n",
      "20\n",
      "12\n",
      "12\n",
      "13\n",
      "15\n",
      "13\n",
      "13\n",
      "13\n",
      "17\n",
      "13\n",
      "13\n",
      "13\n",
      "17\n",
      "14\n",
      "15\n",
      "14\n",
      "14\n",
      "14\n",
      "14\n",
      "45\n",
      "17\n",
      "14\n",
      "14\n",
      "13\n",
      "17\n",
      "17\n",
      "17\n",
      "14\n",
      "14\n",
      "14\n",
      "14\n",
      "14\n",
      "14\n",
      "14\n",
      "13\n",
      "30\n",
      "36\n",
      "12\n",
      "32\n",
      "32\n",
      "32\n",
      "13\n",
      "17\n",
      "17\n",
      "17\n",
      "14\n",
      "20\n",
      "15\n",
      "12\n",
      "19\n",
      "44\n",
      "44\n",
      "16\n",
      "19\n",
      "10\n",
      "18\n",
      "16\n",
      "30\n",
      "30\n",
      "13\n",
      "13\n",
      "41\n",
      "14\n",
      "11\n",
      "11\n",
      "35\n",
      "35\n",
      "26\n",
      "8\n",
      "11\n",
      "29\n",
      "13\n",
      "42\n",
      "18\n",
      "18\n",
      "18\n",
      "43\n",
      "43\n",
      "16\n",
      "17\n",
      "10\n",
      "24\n",
      "12\n",
      "14\n",
      "44\n",
      "26\n",
      "14\n",
      "43\n",
      "10\n",
      "20\n",
      "10\n",
      "7\n",
      "11\n",
      "39\n",
      "39\n",
      "38\n",
      "38\n",
      "38\n",
      "38\n",
      "17\n",
      "17\n",
      "16\n",
      "28\n",
      "30\n",
      "15\n",
      "15\n",
      "15\n",
      "15\n",
      "18\n",
      "28\n",
      "26\n",
      "26\n",
      "29\n",
      "17\n",
      "18\n",
      "18\n",
      "18\n",
      "15\n",
      "17\n",
      "15\n",
      "26\n",
      "38\n",
      "43\n",
      "37\n",
      "18\n",
      "43\n",
      "42\n",
      "37\n",
      "37\n",
      "43\n",
      "43\n",
      "44\n",
      "37\n",
      "44\n",
      "44\n",
      "37\n",
      "36\n",
      "19\n",
      "15\n",
      "12\n",
      "12\n",
      "12\n",
      "12\n",
      "12\n",
      "14\n",
      "15\n",
      "17\n",
      "8\n",
      "19\n",
      "20\n",
      "21\n",
      "16\n",
      "15\n",
      "10\n",
      "12\n",
      "14\n",
      "14\n",
      "7\n",
      "15\n",
      "14\n",
      "18\n",
      "17\n",
      "16\n",
      "12\n",
      "18\n",
      "18\n",
      "16\n",
      "14\n",
      "13\n",
      "13\n",
      "13\n",
      "13\n",
      "10\n",
      "27\n",
      "15\n",
      "15\n",
      "15\n",
      "19\n",
      "38\n",
      "38\n",
      "38\n",
      "12\n",
      "34\n",
      "12\n",
      "10\n",
      "10\n",
      "15\n",
      "36\n",
      "43\n",
      "32\n",
      "32\n",
      "12\n",
      "32\n",
      "14\n",
      "7\n",
      "7\n",
      "21\n",
      "18\n",
      "18\n",
      "14\n",
      "14\n",
      "14\n",
      "36\n",
      "43\n",
      "14\n",
      "18\n",
      "9\n",
      "25\n",
      "36\n",
      "38\n",
      "36\n",
      "38\n",
      "15\n",
      "18\n",
      "10\n",
      "9\n",
      "15\n",
      "23\n",
      "8\n",
      "8\n",
      "6\n",
      "9\n",
      "13\n",
      "10\n",
      "19\n",
      "14\n",
      "16\n",
      "19\n",
      "20\n",
      "37\n",
      "18\n",
      "26\n",
      "37\n",
      "15\n",
      "8\n",
      "40\n",
      "40\n",
      "42\n",
      "42\n",
      "40\n",
      "18\n",
      "18\n",
      "13\n",
      "15\n",
      "36\n",
      "23\n",
      "27\n",
      "41\n",
      "40\n",
      "41\n",
      "41\n",
      "36\n",
      "41\n",
      "41\n",
      "40\n",
      "42\n",
      "32\n",
      "21\n",
      "9\n",
      "9\n",
      "9\n",
      "18\n",
      "9\n",
      "18\n",
      "14\n",
      "9\n",
      "18\n",
      "18\n",
      "9\n",
      "18\n",
      "18\n",
      "18\n",
      "18\n",
      "27\n",
      "16\n",
      "10\n",
      "23\n",
      "33\n",
      "42\n",
      "18\n",
      "18\n",
      "18\n",
      "16\n",
      "18\n",
      "29\n",
      "9\n",
      "10\n",
      "18\n",
      "12\n",
      "11\n",
      "12\n",
      "14\n",
      "16\n",
      "17\n",
      "18\n",
      "19\n",
      "20\n",
      "21\n",
      "22\n",
      "23\n",
      "24\n",
      "25\n",
      "26\n",
      "14\n",
      "13\n",
      "12\n",
      "12\n",
      "13\n",
      "11\n",
      "10\n",
      "9\n",
      "12\n",
      "19\n",
      "19\n",
      "11\n",
      "14\n",
      "8\n",
      "16\n",
      "16\n",
      "16\n",
      "11\n",
      "11\n",
      "15\n",
      "32\n",
      "18\n",
      "18\n",
      "6\n",
      "6\n",
      "18\n",
      "12\n",
      "12\n",
      "12\n",
      "11\n",
      "12\n",
      "29\n",
      "26\n",
      "29\n",
      "17\n",
      "21\n",
      "21\n",
      "16\n",
      "16\n",
      "16\n",
      "17\n",
      "18\n",
      "34\n",
      "14\n",
      "12\n",
      "14\n",
      "14\n",
      "16\n",
      "38\n",
      "38\n",
      "38\n",
      "16\n",
      "33\n",
      "33\n",
      "33\n",
      "16\n",
      "13\n",
      "42\n",
      "14\n",
      "14\n",
      "31\n",
      "39\n",
      "15\n",
      "17\n",
      "17\n",
      "33\n",
      "11\n",
      "11\n",
      "17\n",
      "17\n",
      "25\n",
      "26\n",
      "10\n",
      "17\n",
      "24\n",
      "10\n",
      "19\n",
      "21\n",
      "14\n",
      "36\n",
      "35\n",
      "9\n",
      "37\n",
      "13\n",
      "8\n",
      "11\n",
      "43\n",
      "43\n",
      "9\n",
      "9\n",
      "12\n",
      "21\n",
      "13\n",
      "15\n",
      "41\n",
      "14\n",
      "15\n",
      "15\n",
      "29\n",
      "29\n",
      "33\n",
      "19\n",
      "15\n",
      "16\n",
      "15\n",
      "16\n",
      "15\n",
      "15\n",
      "15\n",
      "29\n",
      "30\n",
      "23\n",
      "18\n",
      "7\n",
      "13\n",
      "12\n",
      "13\n",
      "15\n",
      "15\n",
      "15\n",
      "31\n",
      "38\n",
      "40\n",
      "40\n",
      "8\n",
      "13\n",
      "15\n",
      "15\n",
      "43\n",
      "43\n",
      "43\n",
      "43\n",
      "43\n",
      "43\n",
      "19\n",
      "16\n",
      "15\n",
      "8\n",
      "14\n",
      "17\n",
      "18\n",
      "18\n",
      "21\n",
      "8\n",
      "36\n",
      "8\n",
      "41\n",
      "42\n",
      "42\n",
      "36\n",
      "36\n",
      "36\n",
      "7\n",
      "15\n",
      "17\n",
      "22\n",
      "44\n",
      "44\n",
      "19\n",
      "42\n",
      "35\n",
      "35\n"
     ]
    }
   ],
   "source": [
    "for i in range(len(df_save)):\n",
    "    if len(df_save[i]) < longest_amp:\n",
    "        zero_append = pd.DataFrame(np.zeros( (longest_amp-len(df_save[i]),len(df_save[i].columns)) ), columns=df_save[i].columns)\n",
    "        df_save[i] = df_save[i].append(zero_append)"
   ]
  },
  {
   "cell_type": "code",
   "execution_count": 187,
   "metadata": {},
   "outputs": [],
   "source": [
    "df1 = pd.DataFrame()\n",
    "for i in range(len(df_save)):\n",
    "    df1 = df1.append(df_save[i])"
   ]
  },
  {
   "cell_type": "code",
   "execution_count": 189,
   "metadata": {},
   "outputs": [
    {
     "name": "stdout",
     "output_type": "stream",
     "text": [
      "51120\n"
     ]
    }
   ],
   "source": [
    "print(len(df1)) #51120/55=1136 as expected"
   ]
  },
  {
   "cell_type": "markdown",
   "metadata": {},
   "source": [
    "Re-attach all AMPs into 1 dataframe and get rid of nan's"
   ]
  },
  {
   "cell_type": "code",
   "execution_count": 190,
   "metadata": {},
   "outputs": [
    {
     "data": {
      "text/html": [
       "<div>\n",
       "<style scoped>\n",
       "    .dataframe tbody tr th:only-of-type {\n",
       "        vertical-align: middle;\n",
       "    }\n",
       "\n",
       "    .dataframe tbody tr th {\n",
       "        vertical-align: top;\n",
       "    }\n",
       "\n",
       "    .dataframe thead th {\n",
       "        text-align: right;\n",
       "    }\n",
       "</style>\n",
       "<table border=\"1\" class=\"dataframe\">\n",
       "  <thead>\n",
       "    <tr style=\"text-align: right;\">\n",
       "      <th></th>\n",
       "      <th>Unnamed: 0</th>\n",
       "      <th>Amino Acids</th>\n",
       "      <th>phi</th>\n",
       "      <th>psi</th>\n",
       "      <th>Coded_AA</th>\n",
       "      <th>scaled_phi</th>\n",
       "      <th>scaled_psi</th>\n",
       "    </tr>\n",
       "  </thead>\n",
       "  <tbody>\n",
       "    <tr>\n",
       "      <th>0</th>\n",
       "      <td>0.0</td>\n",
       "      <td>ALA</td>\n",
       "      <td>NaN</td>\n",
       "      <td>2.833464</td>\n",
       "      <td>0.05</td>\n",
       "      <td>0.000000</td>\n",
       "      <td>0.950960</td>\n",
       "    </tr>\n",
       "    <tr>\n",
       "      <th>1</th>\n",
       "      <td>1.0</td>\n",
       "      <td>ALA</td>\n",
       "      <td>-2.637405</td>\n",
       "      <td>2.960152</td>\n",
       "      <td>0.05</td>\n",
       "      <td>0.080244</td>\n",
       "      <td>0.971123</td>\n",
       "    </tr>\n",
       "    <tr>\n",
       "      <th>2</th>\n",
       "      <td>2.0</td>\n",
       "      <td>ALA</td>\n",
       "      <td>-1.349753</td>\n",
       "      <td>2.491088</td>\n",
       "      <td>0.05</td>\n",
       "      <td>0.285180</td>\n",
       "      <td>0.896469</td>\n",
       "    </tr>\n",
       "    <tr>\n",
       "      <th>3</th>\n",
       "      <td>3.0</td>\n",
       "      <td>ALA</td>\n",
       "      <td>-1.612154</td>\n",
       "      <td>-0.667668</td>\n",
       "      <td>0.05</td>\n",
       "      <td>0.243418</td>\n",
       "      <td>0.393737</td>\n",
       "    </tr>\n",
       "    <tr>\n",
       "      <th>4</th>\n",
       "      <td>4.0</td>\n",
       "      <td>GLY</td>\n",
       "      <td>2.514027</td>\n",
       "      <td>-2.779758</td>\n",
       "      <td>0.40</td>\n",
       "      <td>0.900120</td>\n",
       "      <td>0.057588</td>\n",
       "    </tr>\n",
       "    <tr>\n",
       "      <th>...</th>\n",
       "      <td>...</td>\n",
       "      <td>...</td>\n",
       "      <td>...</td>\n",
       "      <td>...</td>\n",
       "      <td>...</td>\n",
       "      <td>...</td>\n",
       "      <td>...</td>\n",
       "    </tr>\n",
       "    <tr>\n",
       "      <th>5</th>\n",
       "      <td>0.0</td>\n",
       "      <td>0</td>\n",
       "      <td>0.000000</td>\n",
       "      <td>0.000000</td>\n",
       "      <td>0.00</td>\n",
       "      <td>0.000000</td>\n",
       "      <td>0.000000</td>\n",
       "    </tr>\n",
       "    <tr>\n",
       "      <th>6</th>\n",
       "      <td>0.0</td>\n",
       "      <td>0</td>\n",
       "      <td>0.000000</td>\n",
       "      <td>0.000000</td>\n",
       "      <td>0.00</td>\n",
       "      <td>0.000000</td>\n",
       "      <td>0.000000</td>\n",
       "    </tr>\n",
       "    <tr>\n",
       "      <th>7</th>\n",
       "      <td>0.0</td>\n",
       "      <td>0</td>\n",
       "      <td>0.000000</td>\n",
       "      <td>0.000000</td>\n",
       "      <td>0.00</td>\n",
       "      <td>0.000000</td>\n",
       "      <td>0.000000</td>\n",
       "    </tr>\n",
       "    <tr>\n",
       "      <th>8</th>\n",
       "      <td>0.0</td>\n",
       "      <td>0</td>\n",
       "      <td>0.000000</td>\n",
       "      <td>0.000000</td>\n",
       "      <td>0.00</td>\n",
       "      <td>0.000000</td>\n",
       "      <td>0.000000</td>\n",
       "    </tr>\n",
       "    <tr>\n",
       "      <th>9</th>\n",
       "      <td>0.0</td>\n",
       "      <td>0</td>\n",
       "      <td>0.000000</td>\n",
       "      <td>0.000000</td>\n",
       "      <td>0.00</td>\n",
       "      <td>0.000000</td>\n",
       "      <td>0.000000</td>\n",
       "    </tr>\n",
       "  </tbody>\n",
       "</table>\n",
       "<p>51120 rows × 7 columns</p>\n",
       "</div>"
      ],
      "text/plain": [
       "    Unnamed: 0 Amino Acids       phi       psi  Coded_AA  scaled_phi  \\\n",
       "0          0.0         ALA       NaN  2.833464      0.05    0.000000   \n",
       "1          1.0         ALA -2.637405  2.960152      0.05    0.080244   \n",
       "2          2.0         ALA -1.349753  2.491088      0.05    0.285180   \n",
       "3          3.0         ALA -1.612154 -0.667668      0.05    0.243418   \n",
       "4          4.0         GLY  2.514027 -2.779758      0.40    0.900120   \n",
       "..         ...         ...       ...       ...       ...         ...   \n",
       "5          0.0           0  0.000000  0.000000      0.00    0.000000   \n",
       "6          0.0           0  0.000000  0.000000      0.00    0.000000   \n",
       "7          0.0           0  0.000000  0.000000      0.00    0.000000   \n",
       "8          0.0           0  0.000000  0.000000      0.00    0.000000   \n",
       "9          0.0           0  0.000000  0.000000      0.00    0.000000   \n",
       "\n",
       "    scaled_psi  \n",
       "0     0.950960  \n",
       "1     0.971123  \n",
       "2     0.896469  \n",
       "3     0.393737  \n",
       "4     0.057588  \n",
       "..         ...  \n",
       "5     0.000000  \n",
       "6     0.000000  \n",
       "7     0.000000  \n",
       "8     0.000000  \n",
       "9     0.000000  \n",
       "\n",
       "[51120 rows x 7 columns]"
      ]
     },
     "execution_count": 190,
     "metadata": {},
     "output_type": "execute_result"
    }
   ],
   "source": [
    "#need to set the remaining NAN's in the angles to zero\n",
    "df1['scaled_phi'] = df1['scaled_phi'].fillna(0)\n",
    "df1['scaled_psi'] = df1['scaled_psi'].fillna(0)\n",
    "df1"
   ]
  },
  {
   "cell_type": "markdown",
   "metadata": {},
   "source": [
    "Finally export the modifed CSV"
   ]
  },
  {
   "cell_type": "code",
   "execution_count": 193,
   "metadata": {},
   "outputs": [],
   "source": [
    "df1.to_csv('prepped_data.csv')"
   ]
  },
  {
   "cell_type": "markdown",
   "metadata": {},
   "source": [
    "Re-load the saved csv and continue preparing for network input"
   ]
  },
  {
   "cell_type": "code",
   "execution_count": 3,
   "metadata": {},
   "outputs": [
    {
     "data": {
      "text/html": [
       "<div>\n",
       "<style scoped>\n",
       "    .dataframe tbody tr th:only-of-type {\n",
       "        vertical-align: middle;\n",
       "    }\n",
       "\n",
       "    .dataframe tbody tr th {\n",
       "        vertical-align: top;\n",
       "    }\n",
       "\n",
       "    .dataframe thead th {\n",
       "        text-align: right;\n",
       "    }\n",
       "</style>\n",
       "<table border=\"1\" class=\"dataframe\">\n",
       "  <thead>\n",
       "    <tr style=\"text-align: right;\">\n",
       "      <th></th>\n",
       "      <th>Unnamed: 0</th>\n",
       "      <th>Unnamed: 0.1</th>\n",
       "      <th>Amino Acids</th>\n",
       "      <th>phi</th>\n",
       "      <th>psi</th>\n",
       "      <th>Coded_AA</th>\n",
       "      <th>scaled_phi</th>\n",
       "      <th>scaled_psi</th>\n",
       "    </tr>\n",
       "  </thead>\n",
       "  <tbody>\n",
       "    <tr>\n",
       "      <th>0</th>\n",
       "      <td>0</td>\n",
       "      <td>0.0</td>\n",
       "      <td>ALA</td>\n",
       "      <td>NaN</td>\n",
       "      <td>2.833464</td>\n",
       "      <td>0.05</td>\n",
       "      <td>0.000000</td>\n",
       "      <td>0.950960</td>\n",
       "    </tr>\n",
       "    <tr>\n",
       "      <th>1</th>\n",
       "      <td>1</td>\n",
       "      <td>1.0</td>\n",
       "      <td>ALA</td>\n",
       "      <td>-2.637405</td>\n",
       "      <td>2.960152</td>\n",
       "      <td>0.05</td>\n",
       "      <td>0.080244</td>\n",
       "      <td>0.971123</td>\n",
       "    </tr>\n",
       "    <tr>\n",
       "      <th>2</th>\n",
       "      <td>2</td>\n",
       "      <td>2.0</td>\n",
       "      <td>ALA</td>\n",
       "      <td>-1.349753</td>\n",
       "      <td>2.491088</td>\n",
       "      <td>0.05</td>\n",
       "      <td>0.285180</td>\n",
       "      <td>0.896469</td>\n",
       "    </tr>\n",
       "    <tr>\n",
       "      <th>3</th>\n",
       "      <td>3</td>\n",
       "      <td>3.0</td>\n",
       "      <td>ALA</td>\n",
       "      <td>-1.612154</td>\n",
       "      <td>-0.667668</td>\n",
       "      <td>0.05</td>\n",
       "      <td>0.243418</td>\n",
       "      <td>0.393737</td>\n",
       "    </tr>\n",
       "    <tr>\n",
       "      <th>4</th>\n",
       "      <td>4</td>\n",
       "      <td>4.0</td>\n",
       "      <td>GLY</td>\n",
       "      <td>2.514027</td>\n",
       "      <td>-2.779758</td>\n",
       "      <td>0.40</td>\n",
       "      <td>0.900120</td>\n",
       "      <td>0.057588</td>\n",
       "    </tr>\n",
       "  </tbody>\n",
       "</table>\n",
       "</div>"
      ],
      "text/plain": [
       "   Unnamed: 0  Unnamed: 0.1 Amino Acids       phi       psi  Coded_AA  \\\n",
       "0           0           0.0         ALA       NaN  2.833464      0.05   \n",
       "1           1           1.0         ALA -2.637405  2.960152      0.05   \n",
       "2           2           2.0         ALA -1.349753  2.491088      0.05   \n",
       "3           3           3.0         ALA -1.612154 -0.667668      0.05   \n",
       "4           4           4.0         GLY  2.514027 -2.779758      0.40   \n",
       "\n",
       "   scaled_phi  scaled_psi  \n",
       "0    0.000000    0.950960  \n",
       "1    0.080244    0.971123  \n",
       "2    0.285180    0.896469  \n",
       "3    0.243418    0.393737  \n",
       "4    0.900120    0.057588  "
      ]
     },
     "execution_count": 3,
     "metadata": {},
     "output_type": "execute_result"
    }
   ],
   "source": [
    "import pandas as pd\n",
    "src= \"C:\\\\Users\\\\samue\\\\Downloads\\\\research_project\\\\VAE\\\\prepped_data.csv\"\n",
    "df = pd.read_csv(src)\n",
    "#this will be used when doing loss calculations in order to ignore the zeros.(by knowing the length of each AMP)\n",
    "src= \"C:\\\\Users\\\\samue\\\\Downloads\\\\research_project\\\\VAE\\\\sorted_AA_endpoints.csv\"\n",
    "endpts = pd.read_csv(src)\n",
    "df.head(5)"
   ]
  },
  {
   "cell_type": "markdown",
   "metadata": {},
   "source": [
    "Create a torch tensor from the dataframe and customize the shape such that it is of the form: [#structures,1,Max_seq_len]   \n",
    "then concatenate 3 of these together to obtain the shape [#structures,3,Max_seq_len]"
   ]
  },
  {
   "cell_type": "code",
   "execution_count": 4,
   "metadata": {},
   "outputs": [],
   "source": [
    "import torch\n",
    "import torch.utils.data\n",
    "from torch import nn, optim\n",
    "\n",
    "longest_amp=45\n",
    "Amino_Acids = torch.tensor([df.iloc[:,[5]].values])\n",
    "#dividing the total number of amino acids by the max found size of structures gives the total # of structures\n",
    "num_structures = Amino_Acids.shape[1]//longest_amp \n",
    "Amino_Acids = torch.reshape(Amino_Acids, (num_structures,1,longest_amp))\n",
    "phi = torch.tensor([df.iloc[:,[6]].values])\n",
    "phi = torch.reshape(phi, (num_structures,1,longest_amp))\n",
    "psi = torch.tensor([df.iloc[:,[7]].values])\n",
    "psi = torch.reshape(psi, (num_structures,1,longest_amp))\n",
    "\n",
    "#cat concatenates the tensors into the given dimension here the dim is the channel dim\n",
    "LOAD_DATA = torch.cat((Amino_Acids,phi,psi),1)\n",
    "\n",
    "#randomly shuffling first dimension of Torch Tensor soo re-allocating the 1142 AMPs with AA-seq and phi, psi angles\n",
    "idx = torch.randperm(LOAD_DATA.size()[0])\n",
    "shuffled = torch.zeros_like(LOAD_DATA)\n",
    "for i in range(len(idx)):\n",
    "    shuffled[i] = LOAD_DATA[idx[i]]\n",
    "LOAD_DATA_shuff = shuffled"
   ]
  },
  {
   "cell_type": "markdown",
   "metadata": {},
   "source": [
    "Seperate training and testing data into: 90% 10% respectively"
   ]
  },
  {
   "cell_type": "code",
   "execution_count": 5,
   "metadata": {},
   "outputs": [],
   "source": [
    "#seperate training and testing data\n",
    "VAL_PCT = 0.04\n",
    "val_size = int(LOAD_DATA.size()[0]*VAL_PCT) #use the size of the first dim(the # of structures to split 10%/90%)\n",
    "\n",
    "train_X =LOAD_DATA_shuff[:-val_size]\n",
    "test_X = LOAD_DATA_shuff[-val_size:]\n",
    "\n",
    "pre_train_X = train_X[:len(train_X)//1]\n",
    "pre_test_X = test_X[:len(test_X)//1]\n",
    "\n",
    "\n",
    "real_train_X = train_X[:len(train_X)//1]\n",
    "real_test_X = test_X[:len(test_X)//1]\n",
    "\n",
    "#real_train_X = train_X[len(train_X)//1:]\n",
    "#real_test_X = test_X[len(test_X)//1:]"
   ]
  },
  {
   "cell_type": "markdown",
   "metadata": {},
   "source": [
    "Identify and verify the input data and shape of the network"
   ]
  },
  {
   "cell_type": "code",
   "execution_count": 6,
   "metadata": {},
   "outputs": [
    {
     "name": "stdout",
     "output_type": "stream",
     "text": [
      "train shape:  torch.Size([1091, 3, 45]) test shape:  torch.Size([45, 3, 45])\n",
      "pre-train shape:  torch.Size([1091, 3, 45]) pre-test shape:  torch.Size([45, 3, 45])\n",
      "real-train shape:  torch.Size([1091, 3, 45]) real-test shape:  torch.Size([45, 3, 45])\n"
     ]
    }
   ],
   "source": [
    "print(\"train shape: \",train_X.shape,\"test shape: \",test_X.shape)\n",
    "print(\"pre-train shape: \",pre_train_X.shape,\"pre-test shape: \",pre_test_X.shape)\n",
    "print(\"real-train shape: \",real_train_X.shape,\"real-test shape: \",real_test_X.shape)"
   ]
  },
  {
   "cell_type": "code",
   "execution_count": null,
   "metadata": {
    "scrolled": true
   },
   "outputs": [
    {
     "name": "stderr",
     "output_type": "stream",
     "text": [
      "100%|██████████| 35/35 [00:02<00:00, 15.34it/s]\n",
      "100%|██████████| 45/45 [00:00<00:00, 292.30it/s]\n",
      "  0%|          | 0/35 [00:00<?, ?it/s]"
     ]
    },
    {
     "name": "stdout",
     "output_type": "stream",
     "text": [
      "====> Epoch: 1 Average loss: 45.7693, AA-accuracy:4.081%\n",
      "====> phi-error:0.357/1, psi-error:0.215/1\n",
      "====> Test set loss: 17.7170, AA-accuracy:4.356%\n",
      "====> phi-error:0.336/1, psi-error:0.267/1\n"
     ]
    },
    {
     "name": "stderr",
     "output_type": "stream",
     "text": [
      "100%|██████████| 35/35 [00:02<00:00, 15.69it/s]\n",
      "100%|██████████| 45/45 [00:00<00:00, 388.05it/s]\n",
      "  0%|          | 0/35 [00:00<?, ?it/s]"
     ]
    },
    {
     "name": "stdout",
     "output_type": "stream",
     "text": [
      "====> Epoch: 2 Average loss: 34.2531, AA-accuracy:4.639%\n",
      "====> phi-error:0.238/1, psi-error:0.199/1\n",
      "====> Test set loss: 9.5340, AA-accuracy:6.311%\n",
      "====> phi-error:0.196/1, psi-error:0.199/1\n"
     ]
    },
    {
     "name": "stderr",
     "output_type": "stream",
     "text": [
      "100%|██████████| 35/35 [00:02<00:00, 16.42it/s]\n",
      "100%|██████████| 45/45 [00:00<00:00, 346.26it/s]\n",
      "  0%|          | 0/35 [00:00<?, ?it/s]"
     ]
    },
    {
     "name": "stdout",
     "output_type": "stream",
     "text": [
      "====> Epoch: 3 Average loss: 24.6436, AA-accuracy:7.102%\n",
      "====> phi-error:0.172/1, psi-error:0.169/1\n",
      "====> Test set loss: 6.0472, AA-accuracy:11.200%\n",
      "====> phi-error:0.146/1, psi-error:0.171/1\n"
     ]
    },
    {
     "name": "stderr",
     "output_type": "stream",
     "text": [
      "100%|██████████| 35/35 [00:02<00:00, 14.37it/s]\n",
      "100%|██████████| 45/45 [00:00<00:00, 306.22it/s]\n",
      "  0%|          | 0/35 [00:00<?, ?it/s]"
     ]
    },
    {
     "name": "stdout",
     "output_type": "stream",
     "text": [
      "====> Epoch: 4 Average loss: 21.3846, AA-accuracy:10.293%\n",
      "====> phi-error:0.142/1, psi-error:0.159/1\n",
      "====> Test set loss: 4.9453, AA-accuracy:20.711%\n",
      "====> phi-error:0.121/1, psi-error:0.159/1\n"
     ]
    },
    {
     "name": "stderr",
     "output_type": "stream",
     "text": [
      "100%|██████████| 35/35 [00:02<00:00, 15.79it/s]\n",
      "100%|██████████| 45/45 [00:00<00:00, 384.74it/s]\n",
      "  0%|          | 0/35 [00:00<?, ?it/s]"
     ]
    },
    {
     "name": "stdout",
     "output_type": "stream",
     "text": [
      "====> Epoch: 5 Average loss: 19.7496, AA-accuracy:13.035%\n",
      "====> phi-error:0.125/1, psi-error:0.154/1\n",
      "====> Test set loss: 4.2394, AA-accuracy:22.933%\n",
      "====> phi-error:0.118/1, psi-error:0.152/1\n"
     ]
    },
    {
     "name": "stderr",
     "output_type": "stream",
     "text": [
      "100%|██████████| 35/35 [00:02<00:00, 15.94it/s]\n",
      "100%|██████████| 45/45 [00:00<00:00, 381.48it/s]\n",
      "  0%|          | 0/35 [00:00<?, ?it/s]"
     ]
    },
    {
     "name": "stdout",
     "output_type": "stream",
     "text": [
      "====> Epoch: 6 Average loss: 18.7826, AA-accuracy:14.939%\n",
      "====> phi-error:0.116/1, psi-error:0.152/1\n",
      "====> Test set loss: 3.7488, AA-accuracy:26.044%\n",
      "====> phi-error:0.109/1, psi-error:0.145/1\n"
     ]
    },
    {
     "name": "stderr",
     "output_type": "stream",
     "text": [
      "100%|██████████| 35/35 [00:02<00:00, 16.18it/s]\n",
      "100%|██████████| 45/45 [00:00<00:00, 384.74it/s]\n",
      "  0%|          | 0/35 [00:00<?, ?it/s]"
     ]
    },
    {
     "name": "stdout",
     "output_type": "stream",
     "text": [
      "====> Epoch: 7 Average loss: 18.0752, AA-accuracy:16.415%\n",
      "====> phi-error:0.112/1, psi-error:0.150/1\n",
      "====> Test set loss: 3.4131, AA-accuracy:28.267%\n",
      "====> phi-error:0.105/1, psi-error:0.140/1\n"
     ]
    },
    {
     "name": "stderr",
     "output_type": "stream",
     "text": [
      "100%|██████████| 35/35 [00:02<00:00, 15.50it/s]\n",
      "100%|██████████| 45/45 [00:00<00:00, 381.99it/s]\n",
      "  0%|          | 0/35 [00:00<?, ?it/s]"
     ]
    },
    {
     "name": "stdout",
     "output_type": "stream",
     "text": [
      "====> Epoch: 8 Average loss: 17.5124, AA-accuracy:17.376%\n",
      "====> phi-error:0.109/1, psi-error:0.149/1\n",
      "====> Test set loss: 3.1629, AA-accuracy:28.800%\n",
      "====> phi-error:0.104/1, psi-error:0.136/1\n"
     ]
    },
    {
     "name": "stderr",
     "output_type": "stream",
     "text": [
      "100%|██████████| 35/35 [00:02<00:00, 16.41it/s]\n",
      "100%|██████████| 45/45 [00:00<00:00, 381.48it/s]\n",
      "  0%|          | 0/35 [00:00<?, ?it/s]"
     ]
    },
    {
     "name": "stdout",
     "output_type": "stream",
     "text": [
      "====> Epoch: 9 Average loss: 17.0889, AA-accuracy:17.978%\n",
      "====> phi-error:0.106/1, psi-error:0.148/1\n",
      "====> Test set loss: 2.9750, AA-accuracy:29.867%\n",
      "====> phi-error:0.102/1, psi-error:0.136/1\n"
     ]
    },
    {
     "name": "stderr",
     "output_type": "stream",
     "text": [
      "100%|██████████| 35/35 [00:02<00:00, 15.56it/s]\n",
      "100%|██████████| 45/45 [00:00<00:00, 372.02it/s]\n",
      "  0%|          | 0/35 [00:00<?, ?it/s]"
     ]
    },
    {
     "name": "stdout",
     "output_type": "stream",
     "text": [
      "====> Epoch: 10 Average loss: 16.7715, AA-accuracy:18.819%\n",
      "====> phi-error:0.103/1, psi-error:0.148/1\n",
      "====> Test set loss: 2.8597, AA-accuracy:31.111%\n",
      "====> phi-error:0.098/1, psi-error:0.135/1\n"
     ]
    },
    {
     "name": "stderr",
     "output_type": "stream",
     "text": [
      "100%|██████████| 35/35 [00:02<00:00, 14.64it/s]\n",
      "100%|██████████| 45/45 [00:00<00:00, 326.19it/s]\n",
      "  0%|          | 0/35 [00:00<?, ?it/s]"
     ]
    },
    {
     "name": "stdout",
     "output_type": "stream",
     "text": [
      "====> Epoch: 11 Average loss: 16.4068, AA-accuracy:19.515%\n",
      "====> phi-error:0.100/1, psi-error:0.146/1\n",
      "====> Test set loss: 2.8381, AA-accuracy:31.556%\n",
      "====> phi-error:0.096/1, psi-error:0.134/1\n"
     ]
    },
    {
     "name": "stderr",
     "output_type": "stream",
     "text": [
      "100%|██████████| 35/35 [00:02<00:00, 15.78it/s]\n",
      "100%|██████████| 45/45 [00:00<00:00, 338.45it/s]\n",
      "  0%|          | 0/35 [00:00<?, ?it/s]"
     ]
    },
    {
     "name": "stdout",
     "output_type": "stream",
     "text": [
      "====> Epoch: 12 Average loss: 16.1480, AA-accuracy:19.826%\n",
      "====> phi-error:0.097/1, psi-error:0.145/1\n",
      "====> Test set loss: 2.7199, AA-accuracy:32.178%\n",
      "====> phi-error:0.093/1, psi-error:0.132/1\n"
     ]
    },
    {
     "name": "stderr",
     "output_type": "stream",
     "text": [
      "100%|██████████| 35/35 [00:02<00:00, 14.72it/s]\n",
      "100%|██████████| 45/45 [00:00<00:00, 365.97it/s]\n",
      "  0%|          | 0/35 [00:00<?, ?it/s]"
     ]
    },
    {
     "name": "stdout",
     "output_type": "stream",
     "text": [
      "====> Epoch: 13 Average loss: 15.9549, AA-accuracy:20.052%\n",
      "====> phi-error:0.095/1, psi-error:0.145/1\n",
      "====> Test set loss: 2.5384, AA-accuracy:31.289%\n",
      "====> phi-error:0.096/1, psi-error:0.132/1\n"
     ]
    },
    {
     "name": "stderr",
     "output_type": "stream",
     "text": [
      "100%|██████████| 35/35 [00:02<00:00, 14.31it/s]\n",
      "100%|██████████| 45/45 [00:00<00:00, 341.02it/s]\n",
      "  0%|          | 0/35 [00:00<?, ?it/s]"
     ]
    },
    {
     "name": "stdout",
     "output_type": "stream",
     "text": [
      "====> Epoch: 14 Average loss: 15.5170, AA-accuracy:20.937%\n",
      "====> phi-error:0.092/1, psi-error:0.142/1\n",
      "====> Test set loss: 2.4685, AA-accuracy:31.556%\n",
      "====> phi-error:0.094/1, psi-error:0.132/1\n"
     ]
    },
    {
     "name": "stderr",
     "output_type": "stream",
     "text": [
      "100%|██████████| 35/35 [00:02<00:00, 13.31it/s]\n",
      " 96%|█████████▌| 43/45 [00:00<00:00, 219.63it/s]"
     ]
    },
    {
     "name": "stdout",
     "output_type": "stream",
     "text": [
      "====> Epoch: 15 Average loss: 15.1920, AA-accuracy:22.544%\n",
      "====> phi-error:0.090/1, psi-error:0.141/1\n"
     ]
    },
    {
     "name": "stderr",
     "output_type": "stream",
     "text": [
      "100%|██████████| 45/45 [00:00<00:00, 209.37it/s]\n",
      "  3%|▎         | 1/35 [00:00<00:03,  9.62it/s]"
     ]
    },
    {
     "name": "stdout",
     "output_type": "stream",
     "text": [
      "====> Test set loss: 2.4199, AA-accuracy:34.044%\n",
      "====> phi-error:0.089/1, psi-error:0.127/1\n"
     ]
    },
    {
     "name": "stderr",
     "output_type": "stream",
     "text": [
      "100%|██████████| 35/35 [00:03<00:00,  9.83it/s]\n",
      "100%|██████████| 45/45 [00:00<00:00, 394.86it/s]\n",
      "  0%|          | 0/35 [00:00<?, ?it/s]"
     ]
    },
    {
     "name": "stdout",
     "output_type": "stream",
     "text": [
      "====> Epoch: 16 Average loss: 14.8726, AA-accuracy:24.250%\n",
      "====> phi-error:0.088/1, psi-error:0.140/1\n",
      "====> Test set loss: 2.4497, AA-accuracy:35.022%\n",
      "====> phi-error:0.087/1, psi-error:0.126/1\n"
     ]
    },
    {
     "name": "stderr",
     "output_type": "stream",
     "text": [
      "100%|██████████| 35/35 [00:02<00:00, 14.23it/s]\n",
      "100%|██████████| 45/45 [00:00<00:00, 343.62it/s]\n",
      "  0%|          | 0/35 [00:00<?, ?it/s]"
     ]
    },
    {
     "name": "stdout",
     "output_type": "stream",
     "text": [
      "====> Epoch: 17 Average loss: 14.6150, AA-accuracy:26.538%\n",
      "====> phi-error:0.087/1, psi-error:0.139/1\n",
      "====> Test set loss: 2.4209, AA-accuracy:37.333%\n",
      "====> phi-error:0.086/1, psi-error:0.126/1\n"
     ]
    },
    {
     "name": "stderr",
     "output_type": "stream",
     "text": [
      "100%|██████████| 35/35 [00:02<00:00, 16.56it/s]\n",
      "100%|██████████| 45/45 [00:00<00:00, 394.86it/s]\n",
      "  0%|          | 0/35 [00:00<?, ?it/s]"
     ]
    },
    {
     "name": "stdout",
     "output_type": "stream",
     "text": [
      "====> Epoch: 18 Average loss: 14.4023, AA-accuracy:28.808%\n",
      "====> phi-error:0.086/1, psi-error:0.138/1\n",
      "====> Test set loss: 2.2571, AA-accuracy:39.022%\n",
      "====> phi-error:0.088/1, psi-error:0.125/1\n"
     ]
    },
    {
     "name": "stderr",
     "output_type": "stream",
     "text": [
      "100%|██████████| 35/35 [00:02<00:00, 13.88it/s]\n",
      "100%|██████████| 45/45 [00:00<00:00, 290.41it/s]\n",
      "  0%|          | 0/35 [00:00<?, ?it/s]"
     ]
    },
    {
     "name": "stdout",
     "output_type": "stream",
     "text": [
      "====> Epoch: 19 Average loss: 14.3672, AA-accuracy:30.020%\n",
      "====> phi-error:0.086/1, psi-error:0.138/1\n",
      "====> Test set loss: 2.2305, AA-accuracy:37.422%\n",
      "====> phi-error:0.091/1, psi-error:0.125/1\n"
     ]
    },
    {
     "name": "stderr",
     "output_type": "stream",
     "text": [
      "100%|██████████| 35/35 [00:04<00:00,  8.26it/s]\n",
      "100%|██████████| 45/45 [00:00<00:00, 267.94it/s]\n",
      "  0%|          | 0/35 [00:00<?, ?it/s]"
     ]
    },
    {
     "name": "stdout",
     "output_type": "stream",
     "text": [
      "====> Epoch: 20 Average loss: 14.1675, AA-accuracy:31.819%\n",
      "====> phi-error:0.085/1, psi-error:0.136/1\n",
      "====> Test set loss: 2.4448, AA-accuracy:40.800%\n",
      "====> phi-error:0.086/1, psi-error:0.125/1\n"
     ]
    },
    {
     "name": "stderr",
     "output_type": "stream",
     "text": [
      "100%|██████████| 35/35 [00:02<00:00, 12.73it/s]\n",
      "100%|██████████| 45/45 [00:00<00:00, 321.53it/s]\n",
      "  0%|          | 0/35 [00:00<?, ?it/s]"
     ]
    },
    {
     "name": "stdout",
     "output_type": "stream",
     "text": [
      "====> Epoch: 21 Average loss: 14.0384, AA-accuracy:33.671%\n",
      "====> phi-error:0.084/1, psi-error:0.135/1\n",
      "====> Test set loss: 2.1505, AA-accuracy:42.933%\n",
      "====> phi-error:0.084/1, psi-error:0.121/1\n"
     ]
    },
    {
     "name": "stderr",
     "output_type": "stream",
     "text": [
      "100%|██████████| 35/35 [00:02<00:00, 15.43it/s]\n",
      "100%|██████████| 45/45 [00:00<00:00, 302.11it/s]\n",
      "  0%|          | 0/35 [00:00<?, ?it/s]"
     ]
    },
    {
     "name": "stdout",
     "output_type": "stream",
     "text": [
      "====> Epoch: 22 Average loss: 13.8570, AA-accuracy:34.957%\n",
      "====> phi-error:0.083/1, psi-error:0.133/1\n",
      "====> Test set loss: 2.1291, AA-accuracy:41.244%\n",
      "====> phi-error:0.090/1, psi-error:0.126/1\n"
     ]
    },
    {
     "name": "stderr",
     "output_type": "stream",
     "text": [
      "100%|██████████| 35/35 [00:02<00:00, 14.79it/s]\n",
      "100%|██████████| 45/45 [00:00<00:00, 375.12it/s]\n",
      "  0%|          | 0/35 [00:00<?, ?it/s]"
     ]
    },
    {
     "name": "stdout",
     "output_type": "stream",
     "text": [
      "====> Epoch: 23 Average loss: 13.7599, AA-accuracy:35.398%\n",
      "====> phi-error:0.082/1, psi-error:0.132/1\n",
      "====> Test set loss: 2.0462, AA-accuracy:44.711%\n",
      "====> phi-error:0.084/1, psi-error:0.120/1\n"
     ]
    },
    {
     "name": "stderr",
     "output_type": "stream",
     "text": [
      "100%|██████████| 35/35 [00:02<00:00, 15.94it/s]\n",
      "100%|██████████| 45/45 [00:00<00:00, 411.48it/s]\n",
      "  0%|          | 0/35 [00:00<?, ?it/s]"
     ]
    },
    {
     "name": "stdout",
     "output_type": "stream",
     "text": [
      "====> Epoch: 24 Average loss: 13.5819, AA-accuracy:37.164%\n",
      "====> phi-error:0.081/1, psi-error:0.130/1\n",
      "====> Test set loss: 2.0184, AA-accuracy:47.378%\n",
      "====> phi-error:0.082/1, psi-error:0.115/1\n"
     ]
    },
    {
     "name": "stderr",
     "output_type": "stream",
     "text": [
      "100%|██████████| 35/35 [00:02<00:00, 16.19it/s]\n",
      "100%|██████████| 45/45 [00:00<00:00, 343.62it/s]\n",
      "  0%|          | 0/35 [00:00<?, ?it/s]"
     ]
    },
    {
     "name": "stdout",
     "output_type": "stream",
     "text": [
      "====> Epoch: 25 Average loss: 13.4666, AA-accuracy:38.724%\n",
      "====> phi-error:0.080/1, psi-error:0.128/1\n",
      "====> Test set loss: 1.9820, AA-accuracy:48.622%\n",
      "====> phi-error:0.081/1, psi-error:0.114/1\n"
     ]
    },
    {
     "name": "stderr",
     "output_type": "stream",
     "text": [
      "100%|██████████| 35/35 [00:02<00:00, 13.95it/s]\n",
      "100%|██████████| 45/45 [00:00<00:00, 351.68it/s]\n",
      "  0%|          | 0/35 [00:00<?, ?it/s]"
     ]
    },
    {
     "name": "stdout",
     "output_type": "stream",
     "text": [
      "====> Epoch: 26 Average loss: 13.3701, AA-accuracy:39.824%\n",
      "====> phi-error:0.080/1, psi-error:0.126/1\n",
      "====> Test set loss: 1.9341, AA-accuracy:50.044%\n",
      "====> phi-error:0.081/1, psi-error:0.112/1\n"
     ]
    },
    {
     "name": "stderr",
     "output_type": "stream",
     "text": [
      "100%|██████████| 35/35 [00:02<00:00, 15.45it/s]\n",
      "100%|██████████| 45/45 [00:00<00:00, 381.48it/s]\n",
      "  0%|          | 0/35 [00:00<?, ?it/s]"
     ]
    },
    {
     "name": "stdout",
     "output_type": "stream",
     "text": [
      "====> Epoch: 27 Average loss: 13.2859, AA-accuracy:40.726%\n",
      "====> phi-error:0.079/1, psi-error:0.124/1\n",
      "====> Test set loss: 1.8917, AA-accuracy:49.956%\n",
      "====> phi-error:0.081/1, psi-error:0.111/1\n"
     ]
    },
    {
     "name": "stderr",
     "output_type": "stream",
     "text": [
      "100%|██████████| 35/35 [00:02<00:00, 15.72it/s]\n",
      "100%|██████████| 45/45 [00:00<00:00, 343.62it/s]\n",
      "  0%|          | 0/35 [00:00<?, ?it/s]"
     ]
    },
    {
     "name": "stdout",
     "output_type": "stream",
     "text": [
      "====> Epoch: 28 Average loss: 13.2233, AA-accuracy:41.424%\n",
      "====> phi-error:0.079/1, psi-error:0.123/1\n",
      "====> Test set loss: 1.8606, AA-accuracy:49.067%\n",
      "====> phi-error:0.082/1, psi-error:0.111/1\n"
     ]
    },
    {
     "name": "stderr",
     "output_type": "stream",
     "text": [
      "100%|██████████| 35/35 [00:02<00:00, 15.33it/s]\n",
      "100%|██████████| 45/45 [00:00<00:00, 330.22it/s]\n",
      "  0%|          | 0/35 [00:00<?, ?it/s]"
     ]
    },
    {
     "name": "stdout",
     "output_type": "stream",
     "text": [
      "====> Epoch: 29 Average loss: 13.1778, AA-accuracy:41.866%\n",
      "====> phi-error:0.078/1, psi-error:0.122/1\n",
      "====> Test set loss: 1.8314, AA-accuracy:48.000%\n",
      "====> phi-error:0.082/1, psi-error:0.110/1\n"
     ]
    },
    {
     "name": "stderr",
     "output_type": "stream",
     "text": [
      "100%|██████████| 35/35 [00:02<00:00, 14.75it/s]\n",
      "100%|██████████| 45/45 [00:00<00:00, 388.05it/s]\n",
      "  0%|          | 0/35 [00:00<?, ?it/s]"
     ]
    },
    {
     "name": "stdout",
     "output_type": "stream",
     "text": [
      "====> Epoch: 30 Average loss: 13.1661, AA-accuracy:41.768%\n",
      "====> phi-error:0.078/1, psi-error:0.121/1\n",
      "====> Test set loss: 1.8319, AA-accuracy:50.756%\n",
      "====> phi-error:0.078/1, psi-error:0.107/1\n"
     ]
    },
    {
     "name": "stderr",
     "output_type": "stream",
     "text": [
      "100%|██████████| 35/35 [00:02<00:00, 15.64it/s]\n",
      " 49%|████▉     | 22/45 [00:00<00:00, 213.66it/s]"
     ]
    },
    {
     "name": "stdout",
     "output_type": "stream",
     "text": [
      "====> Epoch: 31 Average loss: 13.1413, AA-accuracy:40.475%\n",
      "====> phi-error:0.078/1, psi-error:0.120/1\n"
     ]
    },
    {
     "name": "stderr",
     "output_type": "stream",
     "text": [
      "100%|██████████| 45/45 [00:00<00:00, 274.54it/s]\n",
      "  6%|▌         | 2/35 [00:00<00:02, 13.85it/s]"
     ]
    },
    {
     "name": "stdout",
     "output_type": "stream",
     "text": [
      "====> Test set loss: 1.8427, AA-accuracy:44.711%\n",
      "====> phi-error:0.080/1, psi-error:0.109/1\n"
     ]
    },
    {
     "name": "stderr",
     "output_type": "stream",
     "text": [
      "100%|██████████| 35/35 [00:02<00:00, 12.90it/s]\n",
      "100%|██████████| 45/45 [00:00<00:00, 360.12it/s]\n",
      "  0%|          | 0/35 [00:00<?, ?it/s]"
     ]
    },
    {
     "name": "stdout",
     "output_type": "stream",
     "text": [
      "====> Epoch: 32 Average loss: 13.0638, AA-accuracy:41.861%\n",
      "====> phi-error:0.077/1, psi-error:0.119/1\n",
      "====> Test set loss: 1.7657, AA-accuracy:52.178%\n",
      "====> phi-error:0.080/1, psi-error:0.107/1\n"
     ]
    },
    {
     "name": "stderr",
     "output_type": "stream",
     "text": [
      "100%|██████████| 35/35 [00:02<00:00, 13.94it/s]\n",
      "100%|██████████| 45/45 [00:00<00:00, 341.02it/s]\n",
      "  0%|          | 0/35 [00:00<?, ?it/s]"
     ]
    },
    {
     "name": "stdout",
     "output_type": "stream",
     "text": [
      "====> Epoch: 33 Average loss: 12.9855, AA-accuracy:43.709%\n",
      "====> phi-error:0.076/1, psi-error:0.118/1\n",
      "====> Test set loss: 1.7407, AA-accuracy:53.511%\n",
      "====> phi-error:0.078/1, psi-error:0.104/1\n"
     ]
    },
    {
     "name": "stderr",
     "output_type": "stream",
     "text": [
      "100%|██████████| 35/35 [00:03<00:00,  9.11it/s]\n",
      "100%|██████████| 45/45 [00:00<00:00, 296.15it/s]\n",
      "  0%|          | 0/35 [00:00<?, ?it/s]"
     ]
    },
    {
     "name": "stdout",
     "output_type": "stream",
     "text": [
      "====> Epoch: 34 Average loss: 12.9283, AA-accuracy:44.790%\n",
      "====> phi-error:0.076/1, psi-error:0.116/1\n",
      "====> Test set loss: 1.7214, AA-accuracy:51.911%\n",
      "====> phi-error:0.079/1, psi-error:0.104/1\n"
     ]
    },
    {
     "name": "stderr",
     "output_type": "stream",
     "text": [
      "100%|██████████| 35/35 [00:03<00:00,  9.77it/s]\n",
      " 49%|████▉     | 22/45 [00:00<00:00, 215.75it/s]"
     ]
    },
    {
     "name": "stdout",
     "output_type": "stream",
     "text": [
      "====> Epoch: 35 Average loss: 12.8739, AA-accuracy:44.814%\n",
      "====> phi-error:0.075/1, psi-error:0.115/1\n"
     ]
    },
    {
     "name": "stderr",
     "output_type": "stream",
     "text": [
      "100%|██████████| 45/45 [00:00<00:00, 209.37it/s]\n",
      "  3%|▎         | 1/35 [00:00<00:03,  9.09it/s]"
     ]
    },
    {
     "name": "stdout",
     "output_type": "stream",
     "text": [
      "====> Test set loss: 1.6933, AA-accuracy:53.333%\n",
      "====> phi-error:0.080/1, psi-error:0.104/1\n"
     ]
    },
    {
     "name": "stderr",
     "output_type": "stream",
     "text": [
      "100%|██████████| 35/35 [00:05<00:00,  6.39it/s]\n",
      "100%|██████████| 45/45 [00:00<00:00, 267.94it/s]\n",
      "  0%|          | 0/35 [00:00<?, ?it/s]"
     ]
    },
    {
     "name": "stdout",
     "output_type": "stream",
     "text": [
      "====> Epoch: 36 Average loss: 12.8252, AA-accuracy:46.169%\n",
      "====> phi-error:0.075/1, psi-error:0.114/1\n",
      "====> Test set loss: 1.6713, AA-accuracy:52.800%\n",
      "====> phi-error:0.079/1, psi-error:0.103/1\n"
     ]
    },
    {
     "name": "stderr",
     "output_type": "stream",
     "text": [
      "100%|██████████| 35/35 [00:04<00:00,  8.20it/s]\n",
      "  9%|▉         | 4/45 [00:00<00:01, 38.47it/s]"
     ]
    },
    {
     "name": "stdout",
     "output_type": "stream",
     "text": [
      "====> Epoch: 37 Average loss: 12.7927, AA-accuracy:46.406%\n",
      "====> phi-error:0.075/1, psi-error:0.113/1\n"
     ]
    },
    {
     "name": "stderr",
     "output_type": "stream",
     "text": [
      "100%|██████████| 45/45 [00:00<00:00, 103.48it/s]\n",
      "  6%|▌         | 2/35 [00:00<00:03, 10.59it/s]"
     ]
    },
    {
     "name": "stdout",
     "output_type": "stream",
     "text": [
      "====> Test set loss: 1.6532, AA-accuracy:52.356%\n",
      "====> phi-error:0.080/1, psi-error:0.103/1\n"
     ]
    },
    {
     "name": "stderr",
     "output_type": "stream",
     "text": [
      "100%|██████████| 35/35 [00:05<00:00,  6.22it/s]\n",
      " 18%|█▊        | 8/45 [00:00<00:00, 77.69it/s]"
     ]
    },
    {
     "name": "stdout",
     "output_type": "stream",
     "text": [
      "====> Epoch: 38 Average loss: 12.7604, AA-accuracy:46.746%\n",
      "====> phi-error:0.074/1, psi-error:0.113/1\n"
     ]
    },
    {
     "name": "stderr",
     "output_type": "stream",
     "text": [
      "100%|██████████| 45/45 [00:00<00:00, 175.15it/s]\n",
      "  6%|▌         | 2/35 [00:00<00:02, 11.56it/s]"
     ]
    },
    {
     "name": "stdout",
     "output_type": "stream",
     "text": [
      "====> Test set loss: 1.6275, AA-accuracy:53.422%\n",
      "====> phi-error:0.079/1, psi-error:0.102/1\n"
     ]
    },
    {
     "name": "stderr",
     "output_type": "stream",
     "text": [
      "100%|██████████| 35/35 [00:03<00:00, 10.20it/s]\n",
      "100%|██████████| 45/45 [00:00<00:00, 341.02it/s]\n",
      "  0%|          | 0/35 [00:00<?, ?it/s]"
     ]
    },
    {
     "name": "stdout",
     "output_type": "stream",
     "text": [
      "====> Epoch: 39 Average loss: 12.7276, AA-accuracy:47.083%\n",
      "====> phi-error:0.074/1, psi-error:0.112/1\n",
      "====> Test set loss: 1.6021, AA-accuracy:56.444%\n",
      "====> phi-error:0.077/1, psi-error:0.100/1\n"
     ]
    },
    {
     "name": "stderr",
     "output_type": "stream",
     "text": [
      "100%|██████████| 35/35 [00:02<00:00, 11.85it/s]\n",
      "100%|██████████| 45/45 [00:00<00:00, 314.78it/s]\n",
      "  0%|          | 0/35 [00:00<?, ?it/s]"
     ]
    },
    {
     "name": "stdout",
     "output_type": "stream",
     "text": [
      "====> Epoch: 40 Average loss: 12.6991, AA-accuracy:46.848%\n",
      "====> phi-error:0.074/1, psi-error:0.111/1\n",
      "====> Test set loss: 1.5969, AA-accuracy:53.867%\n",
      "====> phi-error:0.076/1, psi-error:0.099/1\n"
     ]
    },
    {
     "name": "stderr",
     "output_type": "stream",
     "text": [
      "100%|██████████| 35/35 [00:02<00:00, 12.36it/s]\n",
      "100%|██████████| 45/45 [00:00<00:00, 267.94it/s]\n",
      "  0%|          | 0/35 [00:00<?, ?it/s]"
     ]
    },
    {
     "name": "stdout",
     "output_type": "stream",
     "text": [
      "====> Epoch: 41 Average loss: 12.7206, AA-accuracy:45.529%\n",
      "====> phi-error:0.074/1, psi-error:0.111/1\n",
      "====> Test set loss: 1.6832, AA-accuracy:43.911%\n",
      "====> phi-error:0.077/1, psi-error:0.103/1\n"
     ]
    },
    {
     "name": "stderr",
     "output_type": "stream",
     "text": [
      "100%|██████████| 35/35 [00:02<00:00, 11.89it/s]\n",
      "100%|██████████| 45/45 [00:00<00:00, 330.99it/s]\n",
      "  0%|          | 0/35 [00:00<?, ?it/s]"
     ]
    },
    {
     "name": "stdout",
     "output_type": "stream",
     "text": [
      "====> Epoch: 42 Average loss: 12.8141, AA-accuracy:45.327%\n",
      "====> phi-error:0.075/1, psi-error:0.111/1\n",
      "====> Test set loss: 1.6416, AA-accuracy:50.044%\n",
      "====> phi-error:0.085/1, psi-error:0.108/1\n"
     ]
    },
    {
     "name": "stderr",
     "output_type": "stream",
     "text": [
      "100%|██████████| 35/35 [00:02<00:00, 12.95it/s]\n",
      "100%|██████████| 45/45 [00:00<00:00, 343.62it/s]\n",
      "  0%|          | 0/35 [00:00<?, ?it/s]"
     ]
    },
    {
     "name": "stdout",
     "output_type": "stream",
     "text": [
      "====> Epoch: 43 Average loss: 12.6810, AA-accuracy:44.713%\n",
      "====> phi-error:0.073/1, psi-error:0.110/1\n",
      "====> Test set loss: 1.5474, AA-accuracy:54.844%\n",
      "====> phi-error:0.076/1, psi-error:0.100/1\n"
     ]
    },
    {
     "name": "stderr",
     "output_type": "stream",
     "text": [
      "100%|██████████| 35/35 [00:02<00:00, 13.29it/s]\n",
      "100%|██████████| 45/45 [00:00<00:00, 346.26it/s]\n",
      "  0%|          | 0/35 [00:00<?, ?it/s]"
     ]
    },
    {
     "name": "stdout",
     "output_type": "stream",
     "text": [
      "====> Epoch: 44 Average loss: 12.6026, AA-accuracy:44.825%\n",
      "====> phi-error:0.073/1, psi-error:0.109/1\n",
      "====> Test set loss: 1.5475, AA-accuracy:54.844%\n",
      "====> phi-error:0.075/1, psi-error:0.098/1\n"
     ]
    },
    {
     "name": "stderr",
     "output_type": "stream",
     "text": [
      "100%|██████████| 35/35 [00:02<00:00, 12.15it/s]\n",
      "100%|██████████| 45/45 [00:00<00:00, 365.97it/s]\n",
      "  0%|          | 0/35 [00:00<?, ?it/s]"
     ]
    },
    {
     "name": "stdout",
     "output_type": "stream",
     "text": [
      "====> Epoch: 45 Average loss: 12.5907, AA-accuracy:44.663%\n",
      "====> phi-error:0.073/1, psi-error:0.108/1\n",
      "====> Test set loss: 1.5297, AA-accuracy:50.578%\n",
      "====> phi-error:0.075/1, psi-error:0.099/1\n"
     ]
    },
    {
     "name": "stderr",
     "output_type": "stream",
     "text": [
      "100%|██████████| 35/35 [00:02<00:00, 14.43it/s]\n",
      "100%|██████████| 45/45 [00:00<00:00, 326.19it/s]\n",
      "  0%|          | 0/35 [00:00<?, ?it/s]"
     ]
    },
    {
     "name": "stdout",
     "output_type": "stream",
     "text": [
      "====> Epoch: 46 Average loss: 12.6241, AA-accuracy:42.433%\n",
      "====> phi-error:0.073/1, psi-error:0.108/1\n",
      "====> Test set loss: 1.5034, AA-accuracy:49.511%\n",
      "====> phi-error:0.077/1, psi-error:0.099/1\n"
     ]
    },
    {
     "name": "stderr",
     "output_type": "stream",
     "text": [
      "100%|██████████| 35/35 [00:02<00:00, 13.07it/s]\n",
      "100%|██████████| 45/45 [00:00<00:00, 330.99it/s]\n",
      "  0%|          | 0/35 [00:00<?, ?it/s]"
     ]
    },
    {
     "name": "stdout",
     "output_type": "stream",
     "text": [
      "====> Epoch: 47 Average loss: 12.5822, AA-accuracy:41.952%\n",
      "====> phi-error:0.073/1, psi-error:0.108/1\n",
      "====> Test set loss: 1.4799, AA-accuracy:53.422%\n",
      "====> phi-error:0.076/1, psi-error:0.095/1\n"
     ]
    },
    {
     "name": "stderr",
     "output_type": "stream",
     "text": [
      "100%|██████████| 35/35 [00:02<00:00, 12.67it/s]\n",
      "100%|██████████| 45/45 [00:00<00:00, 354.44it/s]\n",
      "  0%|          | 0/35 [00:00<?, ?it/s]"
     ]
    },
    {
     "name": "stdout",
     "output_type": "stream",
     "text": [
      "====> Epoch: 48 Average loss: 12.4886, AA-accuracy:49.028%\n",
      "====> phi-error:0.072/1, psi-error:0.105/1\n",
      "====> Test set loss: 1.4757, AA-accuracy:56.444%\n",
      "====> phi-error:0.074/1, psi-error:0.093/1\n"
     ]
    },
    {
     "name": "stderr",
     "output_type": "stream",
     "text": [
      "100%|██████████| 35/35 [00:02<00:00, 13.25it/s]\n",
      "100%|██████████| 45/45 [00:00<00:00, 372.02it/s]\n",
      "  0%|          | 0/35 [00:00<?, ?it/s]"
     ]
    },
    {
     "name": "stdout",
     "output_type": "stream",
     "text": [
      "====> Epoch: 49 Average loss: 12.4481, AA-accuracy:50.015%\n",
      "====> phi-error:0.072/1, psi-error:0.105/1\n",
      "====> Test set loss: 1.4543, AA-accuracy:56.089%\n",
      "====> phi-error:0.074/1, psi-error:0.093/1\n"
     ]
    },
    {
     "name": "stderr",
     "output_type": "stream",
     "text": [
      "100%|██████████| 35/35 [00:02<00:00, 14.81it/s]\n",
      "100%|██████████| 45/45 [00:00<00:00, 351.67it/s]\n",
      "  0%|          | 0/35 [00:00<?, ?it/s]"
     ]
    },
    {
     "name": "stdout",
     "output_type": "stream",
     "text": [
      "====> Epoch: 50 Average loss: 12.4266, AA-accuracy:49.213%\n",
      "====> phi-error:0.071/1, psi-error:0.104/1\n",
      "====> Test set loss: 1.4320, AA-accuracy:57.600%\n",
      "====> phi-error:0.075/1, psi-error:0.093/1\n"
     ]
    },
    {
     "name": "stderr",
     "output_type": "stream",
     "text": [
      "100%|██████████| 35/35 [00:02<00:00, 14.55it/s]\n",
      "100%|██████████| 45/45 [00:00<00:00, 372.02it/s]\n",
      "  0%|          | 0/35 [00:00<?, ?it/s]"
     ]
    },
    {
     "name": "stdout",
     "output_type": "stream",
     "text": [
      "====> Epoch: 51 Average loss: 12.3962, AA-accuracy:50.433%\n",
      "====> phi-error:0.071/1, psi-error:0.103/1\n",
      "====> Test set loss: 1.4166, AA-accuracy:57.867%\n",
      "====> phi-error:0.075/1, psi-error:0.093/1\n"
     ]
    },
    {
     "name": "stderr",
     "output_type": "stream",
     "text": [
      "100%|██████████| 35/35 [00:02<00:00, 14.16it/s]\n",
      "100%|██████████| 45/45 [00:00<00:00, 317.00it/s]\n",
      "  0%|          | 0/35 [00:00<?, ?it/s]"
     ]
    },
    {
     "name": "stdout",
     "output_type": "stream",
     "text": [
      "====> Epoch: 52 Average loss: 12.3719, AA-accuracy:51.126%\n",
      "====> phi-error:0.071/1, psi-error:0.103/1\n",
      "====> Test set loss: 1.4024, AA-accuracy:57.956%\n",
      "====> phi-error:0.075/1, psi-error:0.092/1\n"
     ]
    },
    {
     "name": "stderr",
     "output_type": "stream",
     "text": [
      "100%|██████████| 35/35 [00:02<00:00, 13.82it/s]\n",
      "100%|██████████| 45/45 [00:00<00:00, 335.93it/s]\n",
      "  0%|          | 0/35 [00:00<?, ?it/s]"
     ]
    },
    {
     "name": "stdout",
     "output_type": "stream",
     "text": [
      "====> Epoch: 53 Average loss: 12.3482, AA-accuracy:51.671%\n",
      "====> phi-error:0.071/1, psi-error:0.102/1\n",
      "====> Test set loss: 1.3918, AA-accuracy:56.889%\n",
      "====> phi-error:0.076/1, psi-error:0.093/1\n"
     ]
    },
    {
     "name": "stderr",
     "output_type": "stream",
     "text": [
      "100%|██████████| 35/35 [00:02<00:00, 13.22it/s]\n",
      "100%|██████████| 45/45 [00:00<00:00, 338.46it/s]\n",
      "  0%|          | 0/35 [00:00<?, ?it/s]"
     ]
    },
    {
     "name": "stdout",
     "output_type": "stream",
     "text": [
      "====> Epoch: 54 Average loss: 12.3283, AA-accuracy:51.946%\n",
      "====> phi-error:0.070/1, psi-error:0.101/1\n",
      "====> Test set loss: 1.3821, AA-accuracy:56.533%\n",
      "====> phi-error:0.076/1, psi-error:0.093/1\n"
     ]
    },
    {
     "name": "stderr",
     "output_type": "stream",
     "text": [
      "100%|██████████| 35/35 [00:02<00:00, 14.56it/s]\n",
      "100%|██████████| 45/45 [00:00<00:00, 328.57it/s]\n",
      "  0%|          | 0/35 [00:00<?, ?it/s]"
     ]
    },
    {
     "name": "stdout",
     "output_type": "stream",
     "text": [
      "====> Epoch: 55 Average loss: 12.3108, AA-accuracy:52.234%\n",
      "====> phi-error:0.070/1, psi-error:0.101/1\n",
      "====> Test set loss: 1.3666, AA-accuracy:56.533%\n",
      "====> phi-error:0.076/1, psi-error:0.092/1\n"
     ]
    },
    {
     "name": "stderr",
     "output_type": "stream",
     "text": [
      "100%|██████████| 35/35 [00:02<00:00, 14.07it/s]\n",
      "100%|██████████| 45/45 [00:00<00:00, 341.02it/s]\n",
      "  0%|          | 0/35 [00:00<?, ?it/s]"
     ]
    },
    {
     "name": "stdout",
     "output_type": "stream",
     "text": [
      "====> Epoch: 56 Average loss: 12.2997, AA-accuracy:51.868%\n",
      "====> phi-error:0.070/1, psi-error:0.100/1\n",
      "====> Test set loss: 1.3564, AA-accuracy:55.911%\n",
      "====> phi-error:0.076/1, psi-error:0.092/1\n"
     ]
    },
    {
     "name": "stderr",
     "output_type": "stream",
     "text": [
      "100%|██████████| 35/35 [00:02<00:00, 14.35it/s]\n",
      "100%|██████████| 45/45 [00:00<00:00, 357.26it/s]\n",
      "  0%|          | 0/35 [00:00<?, ?it/s]"
     ]
    },
    {
     "name": "stdout",
     "output_type": "stream",
     "text": [
      "====> Epoch: 57 Average loss: 12.3067, AA-accuracy:50.992%\n",
      "====> phi-error:0.070/1, psi-error:0.100/1\n",
      "====> Test set loss: 1.3901, AA-accuracy:49.778%\n",
      "====> phi-error:0.082/1, psi-error:0.095/1\n"
     ]
    },
    {
     "name": "stderr",
     "output_type": "stream",
     "text": [
      "100%|██████████| 35/35 [00:02<00:00, 14.73it/s]\n",
      "100%|██████████| 45/45 [00:00<00:00, 351.67it/s]\n",
      "  0%|          | 0/35 [00:00<?, ?it/s]"
     ]
    },
    {
     "name": "stdout",
     "output_type": "stream",
     "text": [
      "====> Epoch: 58 Average loss: 12.3861, AA-accuracy:47.449%\n",
      "====> phi-error:0.071/1, psi-error:0.101/1\n",
      "====> Test set loss: 1.3662, AA-accuracy:56.800%\n",
      "====> phi-error:0.072/1, psi-error:0.089/1\n"
     ]
    },
    {
     "name": "stderr",
     "output_type": "stream",
     "text": [
      "100%|██████████| 35/35 [00:02<00:00, 15.03it/s]\n",
      "100%|██████████| 45/45 [00:00<00:00, 351.67it/s]\n",
      "  0%|          | 0/35 [00:00<?, ?it/s]"
     ]
    },
    {
     "name": "stdout",
     "output_type": "stream",
     "text": [
      "====> Epoch: 59 Average loss: 12.4103, AA-accuracy:49.630%\n",
      "====> phi-error:0.071/1, psi-error:0.099/1\n",
      "====> Test set loss: 1.3447, AA-accuracy:53.511%\n",
      "====> phi-error:0.073/1, psi-error:0.088/1\n"
     ]
    },
    {
     "name": "stderr",
     "output_type": "stream",
     "text": [
      "100%|██████████| 35/35 [00:02<00:00, 14.81it/s]\n",
      "100%|██████████| 45/45 [00:00<00:00, 360.11it/s]\n",
      "  0%|          | 0/35 [00:00<?, ?it/s]"
     ]
    },
    {
     "name": "stdout",
     "output_type": "stream",
     "text": [
      "====> Epoch: 60 Average loss: 12.2705, AA-accuracy:51.205%\n",
      "====> phi-error:0.069/1, psi-error:0.098/1\n",
      "====> Test set loss: 1.3097, AA-accuracy:58.844%\n",
      "====> phi-error:0.072/1, psi-error:0.086/1\n"
     ]
    },
    {
     "name": "stderr",
     "output_type": "stream",
     "text": [
      "100%|██████████| 35/35 [00:02<00:00, 15.33it/s]\n",
      "100%|██████████| 45/45 [00:00<00:00, 360.12it/s]\n",
      "  0%|          | 0/35 [00:00<?, ?it/s]"
     ]
    },
    {
     "name": "stdout",
     "output_type": "stream",
     "text": [
      "====> Epoch: 61 Average loss: 12.2211, AA-accuracy:54.233%\n",
      "====> phi-error:0.069/1, psi-error:0.097/1\n",
      "====> Test set loss: 1.2985, AA-accuracy:57.067%\n",
      "====> phi-error:0.072/1, psi-error:0.086/1\n"
     ]
    },
    {
     "name": "stderr",
     "output_type": "stream",
     "text": [
      "100%|██████████| 35/35 [00:02<00:00, 14.64it/s]\n",
      "100%|██████████| 45/45 [00:00<00:00, 328.57it/s]\n",
      "  0%|          | 0/35 [00:00<?, ?it/s]"
     ]
    },
    {
     "name": "stdout",
     "output_type": "stream",
     "text": [
      "====> Epoch: 62 Average loss: 12.1956, AA-accuracy:54.162%\n",
      "====> phi-error:0.069/1, psi-error:0.097/1\n",
      "====> Test set loss: 1.2771, AA-accuracy:58.400%\n",
      "====> phi-error:0.072/1, psi-error:0.085/1\n"
     ]
    },
    {
     "name": "stderr",
     "output_type": "stream",
     "text": [
      "100%|██████████| 35/35 [00:02<00:00, 14.76it/s]\n",
      "100%|██████████| 45/45 [00:00<00:00, 272.81it/s]\n",
      "  0%|          | 0/35 [00:00<?, ?it/s]"
     ]
    },
    {
     "name": "stdout",
     "output_type": "stream",
     "text": [
      "====> Epoch: 63 Average loss: 12.1725, AA-accuracy:55.189%\n",
      "====> phi-error:0.069/1, psi-error:0.096/1\n",
      "====> Test set loss: 1.2637, AA-accuracy:59.556%\n",
      "====> phi-error:0.072/1, psi-error:0.084/1\n"
     ]
    },
    {
     "name": "stderr",
     "output_type": "stream",
     "text": [
      "100%|██████████| 35/35 [00:02<00:00, 13.70it/s]\n",
      "100%|██████████| 45/45 [00:00<00:00, 357.26it/s]\n",
      "  0%|          | 0/35 [00:00<?, ?it/s]"
     ]
    },
    {
     "name": "stdout",
     "output_type": "stream",
     "text": [
      "====> Epoch: 64 Average loss: 12.1524, AA-accuracy:55.329%\n",
      "====> phi-error:0.068/1, psi-error:0.095/1\n",
      "====> Test set loss: 1.2519, AA-accuracy:58.311%\n",
      "====> phi-error:0.071/1, psi-error:0.084/1\n"
     ]
    },
    {
     "name": "stderr",
     "output_type": "stream",
     "text": [
      "100%|██████████| 35/35 [00:02<00:00, 13.55it/s]\n",
      "100%|██████████| 45/45 [00:00<00:00, 348.95it/s]\n",
      "  0%|          | 0/35 [00:00<?, ?it/s]"
     ]
    },
    {
     "name": "stdout",
     "output_type": "stream",
     "text": [
      "====> Epoch: 65 Average loss: 12.1327, AA-accuracy:55.902%\n",
      "====> phi-error:0.068/1, psi-error:0.094/1\n",
      "====> Test set loss: 1.2358, AA-accuracy:59.022%\n",
      "====> phi-error:0.071/1, psi-error:0.083/1\n"
     ]
    },
    {
     "name": "stderr",
     "output_type": "stream",
     "text": [
      "100%|██████████| 35/35 [00:02<00:00, 12.07it/s]\n",
      "100%|██████████| 45/45 [00:00<00:00, 330.99it/s]\n",
      "  0%|          | 0/35 [00:00<?, ?it/s]"
     ]
    },
    {
     "name": "stdout",
     "output_type": "stream",
     "text": [
      "====> Epoch: 66 Average loss: 12.1123, AA-accuracy:56.613%\n",
      "====> phi-error:0.068/1, psi-error:0.094/1\n",
      "====> Test set loss: 1.2198, AA-accuracy:60.267%\n",
      "====> phi-error:0.071/1, psi-error:0.082/1\n"
     ]
    },
    {
     "name": "stderr",
     "output_type": "stream",
     "text": [
      "100%|██████████| 35/35 [00:02<00:00, 14.12it/s]\n",
      "100%|██████████| 45/45 [00:00<00:00, 326.19it/s]\n",
      "  0%|          | 0/35 [00:00<?, ?it/s]"
     ]
    },
    {
     "name": "stdout",
     "output_type": "stream",
     "text": [
      "====> Epoch: 67 Average loss: 12.0933, AA-accuracy:57.025%\n",
      "====> phi-error:0.068/1, psi-error:0.093/1\n",
      "====> Test set loss: 1.2065, AA-accuracy:60.000%\n",
      "====> phi-error:0.070/1, psi-error:0.081/1\n"
     ]
    },
    {
     "name": "stderr",
     "output_type": "stream",
     "text": [
      "100%|██████████| 35/35 [00:02<00:00, 13.92it/s]\n",
      "100%|██████████| 45/45 [00:00<00:00, 351.67it/s]\n",
      "  0%|          | 0/35 [00:00<?, ?it/s]"
     ]
    },
    {
     "name": "stdout",
     "output_type": "stream",
     "text": [
      "====> Epoch: 68 Average loss: 12.0747, AA-accuracy:57.412%\n",
      "====> phi-error:0.068/1, psi-error:0.092/1\n",
      "====> Test set loss: 1.1913, AA-accuracy:60.089%\n",
      "====> phi-error:0.071/1, psi-error:0.080/1\n"
     ]
    },
    {
     "name": "stderr",
     "output_type": "stream",
     "text": [
      "100%|██████████| 35/35 [00:02<00:00, 13.93it/s]\n",
      "100%|██████████| 45/45 [00:00<00:00, 294.21it/s]\n",
      "  0%|          | 0/35 [00:00<?, ?it/s]"
     ]
    },
    {
     "name": "stdout",
     "output_type": "stream",
     "text": [
      "====> Epoch: 69 Average loss: 12.0563, AA-accuracy:57.697%\n",
      "====> phi-error:0.067/1, psi-error:0.091/1\n",
      "====> Test set loss: 1.1780, AA-accuracy:59.289%\n",
      "====> phi-error:0.071/1, psi-error:0.080/1\n"
     ]
    },
    {
     "name": "stderr",
     "output_type": "stream",
     "text": [
      "100%|██████████| 35/35 [00:02<00:00, 13.75it/s]\n",
      "100%|██████████| 45/45 [00:00<00:00, 333.44it/s]\n",
      "  0%|          | 0/35 [00:00<?, ?it/s]"
     ]
    },
    {
     "name": "stdout",
     "output_type": "stream",
     "text": [
      "====> Epoch: 70 Average loss: 12.0389, AA-accuracy:57.561%\n",
      "====> phi-error:0.067/1, psi-error:0.091/1\n",
      "====> Test set loss: 1.1663, AA-accuracy:58.311%\n",
      "====> phi-error:0.070/1, psi-error:0.079/1\n"
     ]
    },
    {
     "name": "stderr",
     "output_type": "stream",
     "text": [
      "\r",
      "  6%|▌         | 2/35 [00:00<00:02, 14.19it/s]"
     ]
    }
   ],
   "source": [
    "from __future__ import print_function\n",
    "import argparse\n",
    "import torch\n",
    "import torch.utils.data\n",
    "from torch import nn, optim\n",
    "from torch.nn import functional as F\n",
    "from torchvision import datasets, transforms\n",
    "from torchvision.utils import save_image\n",
    "from tqdm import tqdm\n",
    "from matplotlib import pyplot as plt\n",
    "import numpy as np\n",
    "\n",
    "#----------------------------------------HYPER-PARAMS--------------------------------------------------------#\n",
    "batch_size=32\n",
    "k_size=[1,3,4] #kernel sizes\n",
    "NAA=45 #this variable represents the max number of AminoAcids in one structure\n",
    "epochs=200\n",
    "cuda=False\n",
    "seed=1\n",
    "\n",
    "cuda = not cuda and torch.cuda.is_available()\n",
    "device = torch.device(\"cuda\" if cuda else \"cpu\")\n",
    "torch.manual_seed(seed)\n",
    "\n",
    "#This function is necessary to allow variable kernel size input in the hyper-parameters\n",
    "def conv_output_shape(num_conv_layers, NAA, k_size, padding=0, stride=1):\n",
    "    #using a formula to calculate the shape output of CONV layers output [(W−K+2P)/S]+1\n",
    "    #W is the input volume //K is the Kernel size //P is the padding //S is the stride\n",
    "    c_out=NAA\n",
    "    tot_layers= num_conv_layers\n",
    "    while(num_conv_layers>0): \n",
    "        c_out =( (c_out-k_size[tot_layers-num_conv_layers]+(2*0)//1)+1 )\n",
    "        num_conv_layers-=1\n",
    "    return c_out\n",
    "        \n",
    "#----------------------------------------VAE--------------------------------------------------------#\n",
    "#inspired by:https://github.com/sksq96/pytorch-vae/blob/master/vae-cnn.ipynb\n",
    "class VAE_pre(nn.Module):\n",
    "    def __init__(self, NAA,k_size):\n",
    "        super(VAE_pre, self).__init__()\n",
    "        self.encoder = nn.Sequential(\n",
    "            #conv1d(in_shape,out_shape,conv_kernels)\n",
    "            nn.Conv1d(3, 32, kernel_size=k_size[0]),\n",
    "            nn.ReLU(),\n",
    "            nn.Conv1d(32, 64, kernel_size=k_size[1]),\n",
    "            nn.ReLU(),\n",
    "            nn.Conv1d(64, 128, kernel_size=k_size[2]),\n",
    "            nn.ReLU(),\n",
    "        )\n",
    "        \n",
    "        \n",
    "        c_out = conv_output_shape(3,NAA,k_size)\n",
    "        #input to flattened linear layer is conv_out*#channels\n",
    "        self.fc1 = nn.Linear(c_out*128, 64)\n",
    "        self.fc2 = nn.Linear(c_out*128, 64)\n",
    "        self.fc3 = nn.Linear(64, c_out*128) #this one is for decoding\n",
    "        \n",
    "        self.decoder = nn.Sequential(\n",
    "            nn.ConvTranspose1d(128, 64, kernel_size=k_size[2]),\n",
    "            nn.ReLU(),\n",
    "            nn.ConvTranspose1d(64, 32, kernel_size=k_size[1]),\n",
    "            nn.ReLU(),\n",
    "            nn.ConvTranspose1d(32, 3, kernel_size=k_size[0]),\n",
    "            nn.Sigmoid()\n",
    "        )\n",
    " \n",
    "    def bottleneck(self, h):\n",
    "        mu, logvar = self.fc1(h), self.fc2(h)\n",
    "        z = mu+logvar\n",
    "        return z, mu, logvar\n",
    "\n",
    "    def encode(self, x):\n",
    "        h = self.encoder(x)\n",
    "        h = h.view(h.size(0),-1) #flattening\n",
    "        z, mu, logvar = self.bottleneck(h)\n",
    "        return z, mu, logvar\n",
    "\n",
    "    def decode(self, z):\n",
    "        z = self.fc3(z)\n",
    "        z = z.view(z.size(0),128,conv_output_shape(3,NAA,k_size)) #unflattening\n",
    "        z = self.decoder(z)\n",
    "        return z\n",
    "\n",
    "    def forward(self, x):\n",
    "        z, mu, logvar = self.encode(x)\n",
    "        z = self.decode(z)\n",
    "        return z, mu, logvar\n",
    "#----------------------------------------VAE-END--------------------------------------------------------#\n",
    "model = VAE_pre(NAA, k_size).to(device)\n",
    "optimizer = optim.Adam(model.parameters(), lr=1e-4)\n",
    "#----------------------------------------LOSS/TRAIN/TEST--------------------------------------------------------#\n",
    "# Reconstruction + KL divergence losses summed over all elements and batch\n",
    "def loss_function(recon_x, x, mu, logvar, batch_number):\n",
    "    \n",
    "    MSE_list=0\n",
    "    BCE_list=0\n",
    "     #\"idx\" holds the index for scrambling the data. traverse scrambled data and find lengths of AMPS\n",
    "    for i in range(x.shape[0]):\n",
    "        AMP_len = endpts['lengths'][ int(torch.IntTensor.item(idx[i+batch_number])) ]\n",
    "        #separate the AA from the phi and psi angles and do BCE on AA and MSE on phi and psi\n",
    "        BCE_cur= F.binary_cross_entropy(recon_x[i][0],x[i][0], reduction='sum')\n",
    "        MSE_cur = F.mse_loss(recon_x[i][1:],x[i][1:], reduction='sum')\n",
    "        if i==0: \n",
    "            MSE_list = MSE_cur\n",
    "            AA_list = BCE_cur\n",
    "        else: \n",
    "            MSE_list = MSE_list+MSE_cur\n",
    "            BCE_list = BCE_list+BCE_cur\n",
    "    MSE = MSE_list\n",
    "    BCE = BCE_list\n",
    "    # 0.5 * sum(1 + log(sigma^2) - mu^2 - sigma^2)\n",
    "    KLD = -0.5 * torch.sum(1 + logvar - mu.pow(2) - logvar.exp())\n",
    "    return (MSE+ BCE) + KLD #+ total_difference*0.01\n",
    "  \n",
    "\n",
    "def accuracy(recon_x, x):\n",
    "    #recon_x[16,3,44], x[16,3,44]\n",
    "    recon_x_AA = torch.round(recon_x[:,0]*20)\n",
    "    x_AA = torch.round(x[:,0]*20)\n",
    "    AA_acc, phi, psi=0,0,0\n",
    "    for i in range(len(recon_x_AA)):\n",
    "        AMP_len = endpts['lengths'][ int(torch.IntTensor.item(idx[i])) ]  #find the length of the true AMP\n",
    "        narrow_x = torch.narrow(x_AA[i], dim=0, start=0, length=int(AMP_len) ) #narrow the batch and reconstructed output\n",
    "        narrow_recon = torch.narrow(recon_x_AA[i], dim=0, start=0, length=int(AMP_len))\n",
    "        difference = torch.sub(narrow_x, narrow_recon)\n",
    "        for j in difference: \n",
    "            if j==0: AA_acc+=(1/AMP_len) #if there is a match add one to that accuracy\n",
    "\n",
    "        #accuracy of phi and psi first normalized by the number of angles in 1 AMP(45) then normalized for AMPs in 1 batch(32)\n",
    "        narrow_x_phi = torch.narrow(x[:,1][i], dim=0, start=0, length=int(AMP_len))\n",
    "        narrow_x_psi = torch.narrow(x[:,2][i], dim=0, start=0, length=int(AMP_len))\n",
    "        narrow_recon_x_phi = torch.narrow(recon_x[:,1][i], dim=0, start=0, length=int(AMP_len))\n",
    "        narrow_recon_x_psi = torch.narrow(recon_x[:,2][i], dim=0, start=0, length=int(AMP_len))\n",
    "        phi += torch.sum( abs(torch.sub(narrow_x_phi, narrow_recon_x_phi)) ) / AMP_len\n",
    "        psi += torch.sum( abs(torch.sub(narrow_x_psi, narrow_recon_x_psi)) ) / AMP_len\n",
    "        \n",
    "    return AA_acc, phi, psi\n",
    "\n",
    " \n",
    "def train(epoch):\n",
    "    model.train()\n",
    "    train_loss = 0\n",
    "    acc_train, phi, psi = 0,0,0\n",
    "    for i in tqdm(range(0, len(pre_train_X), batch_size)):\n",
    "        batch_X = pre_train_X[i:i+batch_size] #grab the batch\n",
    "        batch_X = batch_X.float()\n",
    "        batch_X = batch_X.to(device)\n",
    "        optimizer.zero_grad()\n",
    "        recon_batch, mu, logvar = model(batch_X)\n",
    "        \n",
    "        all_acc = accuracy(recon_batch, batch_X)\n",
    "        acc_train += all_acc[0]/(batch_size)\n",
    "        phi += all_acc[1]/(batch_size)\n",
    "        psi += all_acc[2]/(batch_size)\n",
    "        loss = loss_function(recon_batch, batch_X, mu, logvar, i)\n",
    "        loss.backward()\n",
    "        train_loss += loss.item()\n",
    "        optimizer.step()\n",
    "        \n",
    "    train_loss_list.append(train_loss / len(pre_train_X) )\n",
    "    accuracy_train_list.append(acc_train / np.ceil(len(pre_train_X)/batch_size))\n",
    "    phi_train_list.append(phi / np.ceil(len(real_train_X)/batch_size))\n",
    "    psi_train_list.append(psi / np.ceil(len(real_train_X)/batch_size))\n",
    "    print('====> Epoch: {} Average loss: {:.4f}, AA-accuracy:{:.3f}%'.format(\n",
    "          epoch, train_loss /len(pre_train_X), (acc_train*100)/(len(pre_train_X)/batch_size) ))\n",
    "    print('====> phi-error:{:.3f}/1, psi-error:{:.3f}/1'.format(\n",
    "        (phi/(len(pre_train_X)/batch_size)),(psi/(len(pre_train_X)/batch_size))) )\n",
    "\n",
    "def test(epoch):\n",
    "    model.eval()\n",
    "    test_loss = 0\n",
    "    acc_test, phi_test, psi_test = 0,0,0\n",
    "    with torch.no_grad():\n",
    "        for i in tqdm(range(0, len(pre_test_X) )): #no longer need to do batches\n",
    "            batch_X = pre_test_X[i].view(1,3,NAA) #grab the batch\n",
    "            batch_X = batch_X.float()\n",
    "            batch_X = batch_X.to(device)\n",
    "            recon_batch, mu, logvar = model(batch_X)\n",
    "            \n",
    "            all_acc = accuracy(recon_batch, batch_X)\n",
    "            acc_test += all_acc[0]\n",
    "            phi_test += all_acc[1]\n",
    "            psi_test += all_acc[2]\n",
    "            test_loss += loss_function(recon_batch, batch_X, mu, logvar, i).item()\n",
    "            \n",
    "    acc_test /= len(pre_test_X) \n",
    "    phi_test /= len(pre_test_X)\n",
    "    psi_test /= len(pre_test_X)\n",
    "    test_loss /= len(pre_test_X)\n",
    "    test_loss_list.append(test_loss)\n",
    "    acc_test_list.append(acc_test)\n",
    "    phi_test_list.append(phi_test)\n",
    "    psi_test_list.append(psi_test)\n",
    "    print('====> Test set loss: {:.4f}, AA-accuracy:{:.3f}%'.format(test_loss, acc_test*100))\n",
    "    print('====> phi-error:{:.3f}/1, psi-error:{:.3f}/1'.format(phi_test, psi_test))\n",
    "#----------------------------------------(LOSS/TRAIN/TEST)-END--------------------------------------------------------#\n",
    "if __name__ == \"__main__\":\n",
    "    train_loss_list=[]\n",
    "    test_loss_list=[]\n",
    "    accuracy_train_list = []\n",
    "    acc_test_list = []\n",
    "    phi_train_list = []\n",
    "    phi_test_list = []\n",
    "    psi_train_list = []\n",
    "    psi_test_list = []\n",
    "    for epoch in range(1, epochs + 1):\n",
    "        train(epoch)\n",
    "        test(epoch)\n",
    "    fig, axs = plt.subplots(2, 2, figsize=(9,7), dpi=90)\n",
    "    axs[0,0].plot(train_loss_list)\n",
    "    axs[0,0].plot(test_loss_list)\n",
    "    axs[0,0].set_title(\"train loss (B) VS. test loss (Y)\")\n",
    "    axs[0,1].plot(accuracy_train_list)\n",
    "    axs[0,1].plot(acc_test_list)\n",
    "    axs[0,1].set_title(\"train AA acc (B) VS. test AA acc (Y)\")\n",
    "    axs[1,0].plot(phi_train_list)\n",
    "    axs[1,0].plot(phi_test_list)\n",
    "    axs[1,0].set_title(\"train phi err (B) VS. test phi err (Y)\")\n",
    "    axs[1,1].plot(psi_train_list)\n",
    "    axs[1,1].plot(psi_test_list)\n",
    "    axs[1,1].set_title(\"train psi err (B) VS. test phi err (Y)\")"
   ]
  },
  {
   "cell_type": "code",
   "execution_count": null,
   "metadata": {},
   "outputs": [],
   "source": [
    "torch.save(model.state_dict(), \"C:\\\\Users\\\\samue\\\\Downloads\\\\research_project\\\\VAE\\\\models\\\\model.pth\")"
   ]
  },
  {
   "cell_type": "code",
   "execution_count": 21,
   "metadata": {},
   "outputs": [
    {
     "name": "stdout",
     "output_type": "stream",
     "text": [
      "torch.Size([1, 3, 45])\n"
     ]
    }
   ],
   "source": [
    "with torch.no_grad():\n",
    "    sn = 5\n",
    "    sample = pre_train_X[sn].float().view(1,3,NAA)\n",
    "    sample, mu, logvar = model.encode(sample)\n",
    "    sample = model.decode(sample).cpu()\n",
    "    print(sample.shape)\n",
    "\n",
    "df_out = pd.DataFrame({\"AA\":pre_train_X[sn][0],\"phi\":pre_train_X[sn][1],\"psi\":pre_train_X[sn][2],\"decoded_AA\":sample[0][0],\"decoded_phi\":sample[0][1],\"decoded_psi\":sample[0][2]})"
   ]
  },
  {
   "cell_type": "code",
   "execution_count": 22,
   "metadata": {},
   "outputs": [
    {
     "data": {
      "text/plain": [
       "<AxesSubplot:>"
      ]
     },
     "execution_count": 22,
     "metadata": {},
     "output_type": "execute_result"
    },
    {
     "data": {
      "image/png": "[encoded data removed]",
      "text/plain": [
       "<Figure size 432x288 with 1 Axes>"
      ]
     },
     "metadata": {
      "needs_background": "light"
     },
     "output_type": "display_data"
    },
    {
     "data": {
      "image/png": "[encoded data removed]",
      "text/plain": [
       "<Figure size 432x288 with 1 Axes>"
      ]
     },
     "metadata": {
      "needs_background": "light"
     },
     "output_type": "display_data"
    },
    {
     "data": {
      "image/png": "[encoded data removed]",
      "text/plain": [
       "<Figure size 432x288 with 1 Axes>"
      ]
     },
     "metadata": {
      "needs_background": "light"
     },
     "output_type": "display_data"
    }
   ],
   "source": [
    "df_out.plot(y=(['AA','decoded_AA']),yticks=[i/20 for i in range(20)], grid=True)\n",
    "df_out.plot(y=(['phi','decoded_phi']))\n",
    "df_out.plot(y=(['psi','decoded_psi']))"
   ]
  },
  {
   "cell_type": "markdown",
   "metadata": {},
   "source": [
    "Below is the complete implementation of the Convolutional Variational Auto-Encoder"
   ]
  },
  {
   "cell_type": "code",
   "execution_count": 33,
   "metadata": {},
   "outputs": [],
   "source": [
    "from __future__ import print_function\n",
    "import argparse\n",
    "import torch\n",
    "import torch.utils.data\n",
    "from torch import nn, optim\n",
    "from torch.nn import functional as F\n",
    "from torchvision import datasets, transforms\n",
    "from torchvision.utils import save_image\n",
    "from tqdm import tqdm\n",
    "from matplotlib import pyplot as plt\n",
    "import numpy as np\n",
    "\n",
    "#----------------------------------------HYPER-PARAMS--------------------------------------------------------#\n",
    "batch_size=32\n",
    "k_size=3 #kernel size\n",
    "NAA=45 #this variable represents the max number of AminoAcids in one structure\n",
    "epochs=3\n",
    "cuda=False\n",
    "seed=1\n",
    "\n",
    "cuda = not cuda and torch.cuda.is_available()\n",
    "device = torch.device(\"cuda\" if cuda else \"cpu\")\n",
    "torch.manual_seed(seed)\n",
    "\n",
    "#This function is necessary to allow variable kernel size input in the hyper-parameters\n",
    "def conv_output_shape(num_conv_layers, NAA, k_size, padding=0, stride=1):\n",
    "    #using a formula to calculate the shape output of CONV layers output [(W−K+2P)/S]+1\n",
    "    #W is the input volume //K is the Kernel size //P is the padding //S is the stride\n",
    "    c_out=NAA\n",
    "    while(num_conv_layers>0): \n",
    "        c_out =( (c_out-k_size+(2*0)//1)+1 )\n",
    "        num_conv_layers-=1\n",
    "    return c_out\n",
    "        \n",
    "#----------------------------------------VAE--------------------------------------------------------#\n",
    "#inspired by:https://github.com/sksq96/pytorch-vae/blob/master/vae-cnn.ipynb\n",
    "class VAE(nn.Module):\n",
    "    def __init__(self, NAA,k_size):\n",
    "        super(VAE, self).__init__()\n",
    "        self.encoder = nn.Sequential(\n",
    "            #conv1d(in_shape,out_shape,conv_kernels)\n",
    "            nn.Conv1d(3, 32, kernel_size=k_size),\n",
    "            nn.ReLU(),\n",
    "            nn.Conv1d(32, 64, kernel_size=k_size),\n",
    "            nn.ReLU(),\n",
    "            nn.Conv1d(64, 128, kernel_size=k_size),\n",
    "            nn.ReLU()\n",
    "        )\n",
    "        \n",
    "        c_out = conv_output_shape(3,NAA,k_size)\n",
    "        #input to flattened linear layer is conv_out*#channels\n",
    "        self.fc1 = nn.Linear(c_out*128, 64)\n",
    "        self.fc2 = nn.Linear(c_out*128, 64)\n",
    "        self.fc3 = nn.Linear(64, c_out*128) #this one is for decoding\n",
    "        \n",
    "        self.decoder = nn.Sequential(\n",
    "            nn.ConvTranspose1d(128, 64, kernel_size=k_size),\n",
    "            nn.ReLU(),\n",
    "            nn.ConvTranspose1d(64, 32, kernel_size=k_size),\n",
    "            nn.ReLU(),\n",
    "            nn.ConvTranspose1d(32, 3, kernel_size=k_size),\n",
    "            nn.Sigmoid()\n",
    "        )\n",
    " \n",
    "        \n",
    "    def bottleneck(self, h):\n",
    "        mu, logvar = self.fc1(h), self.fc2(h)\n",
    "        z = self.reparameterize(mu, logvar)\n",
    "        return z, mu, logvar\n",
    "\n",
    "    def reparameterize(self, mu, logvar):\n",
    "        std = torch.exp(0.5*logvar)\n",
    "        # return torch.normal(mu, std)\n",
    "        eps = torch.randn_like(mu)*0.05\n",
    "        #print(\"EPS:\",eps,\"\\n MU: \",mu,\"\\n LOGVAR: \",logvar)\n",
    "        z = mu + std * eps\n",
    "        return z\n",
    "    \n",
    "    def encode(self, x):\n",
    "        h = self.encoder(x)\n",
    "        h = h.view(h.size(0),-1) #flattening\n",
    "        z, mu, logvar = self.bottleneck(h)\n",
    "        return z, mu, logvar\n",
    "\n",
    "    def decode(self, z):\n",
    "        z = self.fc3(z)\n",
    "        z = z.view(z.size(0),128,conv_output_shape(3,NAA,k_size)) #unflattening\n",
    "        z = self.decoder(z)\n",
    "        return z\n",
    "\n",
    "    def forward(self, x):\n",
    "        z, mu, logvar = self.encode(x)\n",
    "        z = self.decode(z)\n",
    "        return z, mu, logvar\n",
    "#----------------------------------------VAE-END--------------------------------------------------------# \n",
    "model = VAE(NAA, k_size).to(device)\n",
    "optimizer = optim.Adam(model.parameters(), lr=1e-3)\n",
    "#----------------------------------------LOSS/TRAIN/TEST--------------------------------------------------------#\n",
    "# Reconstruction + KL divergence losses summed over all elements and batch\n",
    "def loss_function(recon_x, x, mu, logvar, batch_number):\n",
    "    \n",
    "    MSE_list=0\n",
    "    BCE_list=0\n",
    "     #\"idx\" holds the index for scrambling the data. enpts[idx[i+(16*epoch-1)]] will traverse scrambled data and find lengths of AMPS\n",
    "    for i in range(x.shape[0]):\n",
    "        AMP_len = endpts['lengths'][ int(torch.IntTensor.item(idx[i+batch_number])) ]\n",
    "        #separate the AA from the phi and psi angles and do BCE on AA and MSE on phi and psi\n",
    "        #print(AMP_len,\"\\n\", recon_x[i][0],\"\\n\", x[i][0])\n",
    "        BCE_cur= F.binary_cross_entropy(recon_x[i][0],x[i][0], reduction='sum')\n",
    "        MSE_cur = F.mse_loss(recon_x[i][1:],x[i][1:], reduction='sum')\n",
    "        if i==0: \n",
    "            MSE_list = MSE_cur\n",
    "            AA_list = BCE_cur\n",
    "        else: \n",
    "            MSE_list = MSE_list+MSE_cur\n",
    "            BCE_list = BCE_list+BCE_cur\n",
    "    \n",
    "    MSE = MSE_list\n",
    "    BCE = BCE_list\n",
    "    KLD = -0.5 * torch.sum(1 + logvar - mu.pow(2) - logvar.exp())\n",
    "    return BCE +MSE+ KLD#*KL_ANL #+ total_difference\n",
    "\n",
    "\n",
    "def accuracy(recon_x, x):\n",
    "    #recon_x[16,3,44], x[16,3,44]\n",
    "    recon_x_AA = torch.round(recon_x[:,0]*20)\n",
    "    x_AA = torch.round(x[:,0]*20)\n",
    "    AA_acc, phi, psi=0,0,0\n",
    "\n",
    "    for i in range(len(recon_x_AA)):\n",
    "        AMP_len = endpts['lengths'][ int(torch.IntTensor.item(idx[i])) ]  #find the length of the true AMP\n",
    "        narrow_x = torch.narrow(x_AA[i], dim=0, start=0, length=int(AMP_len) ) #narrow the batch and reconstructed output\n",
    "        narrow_recon = torch.narrow(recon_x_AA[i], dim=0, start=0, length=int(AMP_len))\n",
    "        difference = torch.sub(narrow_x, narrow_recon)\n",
    "        for j in difference: \n",
    "            if j==0: AA_acc+=(1/AMP_len) #if there is a match add one to that accuracy\n",
    "                \n",
    "        #accuracy of phi and psi first normalized by the number of angles in 1 AMP(45) then normalized for AMPs in 1 batch(32)\n",
    "        narrow_x_phi = torch.narrow(x[:,1][i], dim=0, start=0, length=int(AMP_len))\n",
    "        narrow_x_psi = torch.narrow(x[:,2][i], dim=0, start=0, length=int(AMP_len))\n",
    "        narrow_recon_x_phi = torch.narrow(recon_x[:,1][i], dim=0, start=0, length=int(AMP_len))\n",
    "        narrow_recon_x_psi = torch.narrow(recon_x[:,2][i], dim=0, start=0, length=int(AMP_len))\n",
    "        phi += torch.sum( abs(torch.sub(narrow_x_phi, narrow_recon_x_phi)) ) / AMP_len\n",
    "        psi += torch.sum( abs(torch.sub(narrow_x_psi, narrow_recon_x_psi)) ) / AMP_len\n",
    "       \n",
    "    return AA_acc, phi, psi\n",
    "\n",
    "\n",
    "def train(epoch):\n",
    "    model.train()\n",
    "    train_loss = 0\n",
    "    acc, phi, psi=0,0,0\n",
    "    for i in tqdm(range(0, len(real_train_X), batch_size)):\n",
    "        batch_X = real_train_X[i:i+batch_size] #grab the batch\n",
    "        batch_X = batch_X.float()\n",
    "        batch_X = batch_X.to(device)\n",
    "        optimizer.zero_grad()\n",
    "        recon_batch, mu, logvar = model(batch_X)\n",
    "        \n",
    "        loss = loss_function(recon_batch, batch_X, mu, logvar, i)\n",
    "        loss.backward()\n",
    "        train_loss += loss.item()\n",
    "        optimizer.step()\n",
    "        all_acc = accuracy(recon_batch, batch_X)\n",
    "        acc += all_acc[0]/(batch_size)\n",
    "        phi += all_acc[1]/(batch_size)\n",
    "        psi += all_acc[2]/(batch_size)\n",
    "    train_loss_list.append(train_loss/len(real_train_X))\n",
    "    accuracy_train_list.append( acc/np.ceil(len(real_train_X)/batch_size) )\n",
    "    phi_train_list.append(phi / np.ceil(len(real_train_X)/batch_size))\n",
    "    psi_train_list.append(psi / np.ceil(len(real_train_X)/batch_size))\n",
    "    print('====> Epoch: {} Average loss: {:.3f}, AA-accuracy:{:.3f}%'.format(\n",
    "          epoch, train_loss /len(real_train_X), (acc*100)/(len(real_train_X)/batch_size) ))\n",
    "    print('====> phi-error:{:.3f}/1, psi-error:{:.3f}/1'.format(\n",
    "        (phi/(len(real_train_X)/batch_size)),(psi/(len(real_train_X)/batch_size))) )\n",
    "\n",
    "def test(epoch):\n",
    "    model.eval()\n",
    "    test_loss = 0\n",
    "    acc_test, phi_test, psi_test = 0,0,0\n",
    "    with torch.no_grad():\n",
    "        for i in tqdm(range(0, len(real_test_X) )): #no longer need to do batches\n",
    "            batch_X = real_test_X[i].view(1,3,NAA) #sending one at a time\n",
    "            batch_X = batch_X.float()\n",
    "            batch_X = batch_X.to(device)\n",
    "            recon_batch, mu, logvar = model(batch_X)\n",
    "            all_acc = accuracy(recon_batch, batch_X)\n",
    "            acc_test += all_acc[0]\n",
    "            phi_test += all_acc[1]\n",
    "            psi_test += all_acc[2]\n",
    "            test_loss += loss_function(recon_batch, batch_X, mu, logvar, i).item()\n",
    "            \n",
    "    acc_test /= len(real_test_X)\n",
    "    phi_test /= len(real_test_X)\n",
    "    psi_test /= len(real_test_X)\n",
    "    test_loss /= len(real_test_X)\n",
    "    test_loss_list.append(test_loss)\n",
    "    accuracy_test_list.append(acc_test)\n",
    "    phi_test_list.append(phi_test)\n",
    "    psi_test_list.append(psi_test)\n",
    "    print('====> Test set loss: {:.3f}, AA-accuracy:{:.3f}%'.format(test_loss, acc_test*100))\n",
    "    print('====> phi-error:{:.3f}/1, psi-error:{:.3f}/1'.format(phi_test, psi_test))\n",
    "#----------------------------------------(LOSS/TRAIN/TEST)-END--------------------------------------------------------#\n",
    "if __name__ == \"__main__\":\n",
    "    train_loss_list=[]\n",
    "    test_loss_list=[]\n",
    "    accuracy_train_list = []\n",
    "    accuracy_test_list = []\n",
    "    phi_train_list = []\n",
    "    phi_test_list = []\n",
    "    psi_train_list = []\n",
    "    psi_test_list = []"
   ]
  },
  {
   "cell_type": "code",
   "execution_count": 190,
   "metadata": {},
   "outputs": [
    {
     "data": {
      "text/plain": [
       "<All keys matched successfully>"
      ]
     },
     "execution_count": 190,
     "metadata": {},
     "output_type": "execute_result"
    }
   ],
   "source": [
    "# Model class must be defined somewhere\n",
    "model.load_state_dict(torch.load(\"C:\\\\Users\\\\samue\\\\Downloads\\\\research_project\\\\VAE\\\\models\\\\model.pth\"))"
   ]
  },
  {
   "cell_type": "code",
   "execution_count": 199,
   "metadata": {
    "scrolled": true
   },
   "outputs": [
    {
     "name": "stderr",
     "output_type": "stream",
     "text": [
      "100%|██████████| 35/35 [00:02<00:00, 15.47it/s]\n",
      "100%|██████████| 45/45 [00:00<00:00, 378.27it/s]\n",
      "  0%|          | 0/35 [00:00<?, ?it/s]"
     ]
    },
    {
     "name": "stdout",
     "output_type": "stream",
     "text": [
      "====> Epoch: 1 Average loss: 27.223, AA-accuracy:11.447%\n",
      "====> phi-error:0.120/1, psi-error:0.176/1\n",
      "====> Test set loss: 3.372, AA-accuracy:19.352%\n",
      "====> phi-error:0.088/1, psi-error:0.150/1\n"
     ]
    },
    {
     "name": "stderr",
     "output_type": "stream",
     "text": [
      " 83%|████████▎ | 29/35 [00:01<00:00, 14.51it/s]\n"
     ]
    },
    {
     "ename": "KeyboardInterrupt",
     "evalue": "",
     "output_type": "error",
     "traceback": [
      "\u001b[1;31m---------------------------------------------------------------------------\u001b[0m",
      "\u001b[1;31mKeyboardInterrupt\u001b[0m                         Traceback (most recent call last)",
      "\u001b[1;32m<ipython-input-199-405d784d9500>\u001b[0m in \u001b[0;36m<module>\u001b[1;34m\u001b[0m\n\u001b[0;32m      1\u001b[0m \u001b[1;32mfor\u001b[0m \u001b[0mepoch\u001b[0m \u001b[1;32min\u001b[0m \u001b[0mrange\u001b[0m\u001b[1;33m(\u001b[0m\u001b[1;36m1\u001b[0m\u001b[1;33m,\u001b[0m \u001b[0mepochs\u001b[0m \u001b[1;33m+\u001b[0m \u001b[1;36m1\u001b[0m\u001b[1;33m)\u001b[0m\u001b[1;33m:\u001b[0m\u001b[1;33m\u001b[0m\u001b[1;33m\u001b[0m\u001b[0m\n\u001b[1;32m----> 2\u001b[1;33m         \u001b[0mtrain\u001b[0m\u001b[1;33m(\u001b[0m\u001b[0mepoch\u001b[0m\u001b[1;33m)\u001b[0m\u001b[1;33m\u001b[0m\u001b[1;33m\u001b[0m\u001b[0m\n\u001b[0m\u001b[0;32m      3\u001b[0m         \u001b[0mtest\u001b[0m\u001b[1;33m(\u001b[0m\u001b[0mepoch\u001b[0m\u001b[1;33m)\u001b[0m\u001b[1;33m\u001b[0m\u001b[1;33m\u001b[0m\u001b[0m\n\u001b[0;32m      4\u001b[0m \u001b[0mfig\u001b[0m\u001b[1;33m,\u001b[0m \u001b[0maxs\u001b[0m \u001b[1;33m=\u001b[0m \u001b[0mplt\u001b[0m\u001b[1;33m.\u001b[0m\u001b[0msubplots\u001b[0m\u001b[1;33m(\u001b[0m\u001b[1;36m2\u001b[0m\u001b[1;33m,\u001b[0m \u001b[1;36m2\u001b[0m\u001b[1;33m,\u001b[0m \u001b[0mfigsize\u001b[0m\u001b[1;33m=\u001b[0m\u001b[1;33m(\u001b[0m\u001b[1;36m9\u001b[0m\u001b[1;33m,\u001b[0m\u001b[1;36m7\u001b[0m\u001b[1;33m)\u001b[0m\u001b[1;33m,\u001b[0m \u001b[0mdpi\u001b[0m\u001b[1;33m=\u001b[0m\u001b[1;36m90\u001b[0m\u001b[1;33m)\u001b[0m\u001b[1;33m\u001b[0m\u001b[1;33m\u001b[0m\u001b[0m\n\u001b[0;32m      5\u001b[0m \u001b[0maxs\u001b[0m\u001b[1;33m[\u001b[0m\u001b[1;36m0\u001b[0m\u001b[1;33m,\u001b[0m\u001b[1;36m0\u001b[0m\u001b[1;33m]\u001b[0m\u001b[1;33m.\u001b[0m\u001b[0mplot\u001b[0m\u001b[1;33m(\u001b[0m\u001b[0mtrain_loss_list\u001b[0m\u001b[1;33m)\u001b[0m\u001b[1;33m\u001b[0m\u001b[1;33m\u001b[0m\u001b[0m\n",
      "\u001b[1;32m<ipython-input-198-fe9317417311>\u001b[0m in \u001b[0;36mtrain\u001b[1;34m(epoch)\u001b[0m\n\u001b[0;32m    159\u001b[0m \u001b[1;33m\u001b[0m\u001b[0m\n\u001b[0;32m    160\u001b[0m         \u001b[0mloss\u001b[0m \u001b[1;33m=\u001b[0m \u001b[0mloss_function\u001b[0m\u001b[1;33m(\u001b[0m\u001b[0mrecon_batch\u001b[0m\u001b[1;33m,\u001b[0m \u001b[0mbatch_X\u001b[0m\u001b[1;33m,\u001b[0m \u001b[0mmu\u001b[0m\u001b[1;33m,\u001b[0m \u001b[0mlogvar\u001b[0m\u001b[1;33m,\u001b[0m \u001b[0mi\u001b[0m\u001b[1;33m)\u001b[0m\u001b[1;33m\u001b[0m\u001b[1;33m\u001b[0m\u001b[0m\n\u001b[1;32m--> 161\u001b[1;33m         \u001b[0mloss\u001b[0m\u001b[1;33m.\u001b[0m\u001b[0mbackward\u001b[0m\u001b[1;33m(\u001b[0m\u001b[1;33m)\u001b[0m\u001b[1;33m\u001b[0m\u001b[1;33m\u001b[0m\u001b[0m\n\u001b[0m\u001b[0;32m    162\u001b[0m         \u001b[0mtrain_loss\u001b[0m \u001b[1;33m+=\u001b[0m \u001b[0mloss\u001b[0m\u001b[1;33m.\u001b[0m\u001b[0mitem\u001b[0m\u001b[1;33m(\u001b[0m\u001b[1;33m)\u001b[0m\u001b[1;33m\u001b[0m\u001b[1;33m\u001b[0m\u001b[0m\n\u001b[0;32m    163\u001b[0m         \u001b[0moptimizer\u001b[0m\u001b[1;33m.\u001b[0m\u001b[0mstep\u001b[0m\u001b[1;33m(\u001b[0m\u001b[1;33m)\u001b[0m\u001b[1;33m\u001b[0m\u001b[1;33m\u001b[0m\u001b[0m\n",
      "\u001b[1;32m~\\anaconda3\\envs\\research_project\\lib\\site-packages\\torch\\tensor.py\u001b[0m in \u001b[0;36mbackward\u001b[1;34m(self, gradient, retain_graph, create_graph)\u001b[0m\n\u001b[0;32m    193\u001b[0m                 \u001b[0mproducts\u001b[0m\u001b[1;33m.\u001b[0m \u001b[0mDefaults\u001b[0m \u001b[0mto\u001b[0m\u001b[0;31m \u001b[0m\u001b[0;31m`\u001b[0m\u001b[0;31m`\u001b[0m\u001b[1;32mFalse\u001b[0m\u001b[0;31m`\u001b[0m\u001b[0;31m`\u001b[0m\u001b[1;33m.\u001b[0m\u001b[1;33m\u001b[0m\u001b[1;33m\u001b[0m\u001b[0m\n\u001b[0;32m    194\u001b[0m         \"\"\"\n\u001b[1;32m--> 195\u001b[1;33m         \u001b[0mtorch\u001b[0m\u001b[1;33m.\u001b[0m\u001b[0mautograd\u001b[0m\u001b[1;33m.\u001b[0m\u001b[0mbackward\u001b[0m\u001b[1;33m(\u001b[0m\u001b[0mself\u001b[0m\u001b[1;33m,\u001b[0m \u001b[0mgradient\u001b[0m\u001b[1;33m,\u001b[0m \u001b[0mretain_graph\u001b[0m\u001b[1;33m,\u001b[0m \u001b[0mcreate_graph\u001b[0m\u001b[1;33m)\u001b[0m\u001b[1;33m\u001b[0m\u001b[1;33m\u001b[0m\u001b[0m\n\u001b[0m\u001b[0;32m    196\u001b[0m \u001b[1;33m\u001b[0m\u001b[0m\n\u001b[0;32m    197\u001b[0m     \u001b[1;32mdef\u001b[0m \u001b[0mregister_hook\u001b[0m\u001b[1;33m(\u001b[0m\u001b[0mself\u001b[0m\u001b[1;33m,\u001b[0m \u001b[0mhook\u001b[0m\u001b[1;33m)\u001b[0m\u001b[1;33m:\u001b[0m\u001b[1;33m\u001b[0m\u001b[1;33m\u001b[0m\u001b[0m\n",
      "\u001b[1;32m~\\anaconda3\\envs\\research_project\\lib\\site-packages\\torch\\autograd\\__init__.py\u001b[0m in \u001b[0;36mbackward\u001b[1;34m(tensors, grad_tensors, retain_graph, create_graph, grad_variables)\u001b[0m\n\u001b[0;32m     95\u001b[0m         \u001b[0mretain_graph\u001b[0m \u001b[1;33m=\u001b[0m \u001b[0mcreate_graph\u001b[0m\u001b[1;33m\u001b[0m\u001b[1;33m\u001b[0m\u001b[0m\n\u001b[0;32m     96\u001b[0m \u001b[1;33m\u001b[0m\u001b[0m\n\u001b[1;32m---> 97\u001b[1;33m     Variable._execution_engine.run_backward(\n\u001b[0m\u001b[0;32m     98\u001b[0m         \u001b[0mtensors\u001b[0m\u001b[1;33m,\u001b[0m \u001b[0mgrad_tensors\u001b[0m\u001b[1;33m,\u001b[0m \u001b[0mretain_graph\u001b[0m\u001b[1;33m,\u001b[0m \u001b[0mcreate_graph\u001b[0m\u001b[1;33m,\u001b[0m\u001b[1;33m\u001b[0m\u001b[1;33m\u001b[0m\u001b[0m\n\u001b[0;32m     99\u001b[0m         allow_unreachable=True)  # allow_unreachable flag\n",
      "\u001b[1;31mKeyboardInterrupt\u001b[0m: "
     ]
    }
   ],
   "source": [
    "for epoch in range(1, epochs + 1):\n",
    "        train(epoch)\n",
    "        test(epoch)\n",
    "fig, axs = plt.subplots(2, 2, figsize=(9,7), dpi=90)\n",
    "axs[0,0].plot(train_loss_list)\n",
    "axs[0,0].plot(test_loss_list)\n",
    "axs[0,0].set_title(\"train loss (B) VS. test loss (Y)\")\n",
    "axs[0,1].plot(accuracy_train_list)\n",
    "axs[0,1].plot(accuracy_test_list)\n",
    "axs[0,1].set_title(\"train AA acc (B) VS. test AA acc (Y)\")\n",
    "axs[1,0].plot(phi_train_list)\n",
    "axs[1,0].plot(phi_test_list)\n",
    "axs[1,0].set_title(\"train phi err (B) VS. test phi err (Y)\")\n",
    "axs[1,1].plot(psi_train_list)\n",
    "axs[1,1].plot(psi_test_list)\n",
    "axs[1,1].set_title(\"train psi err (B) VS. test phi err (Y)\")\n"
   ]
  },
  {
   "cell_type": "code",
   "execution_count": 38,
   "metadata": {},
   "outputs": [],
   "source": [
    "torch.save(model.state_dict(), \"C:\\\\Users\\\\samue\\\\Downloads\\\\research_project\\\\VAE\\\\models\\\\model.pth\")"
   ]
  },
  {
   "cell_type": "markdown",
   "metadata": {},
   "source": [
    "## This section is extra and serves to show some results of the network"
   ]
  },
  {
   "cell_type": "code",
   "execution_count": 76,
   "metadata": {},
   "outputs": [],
   "source": [
    "with torch.no_grad():\n",
    "    sn=7\n",
    "#     sample = torch.randn(1, 16).to(device) #this is the current shape of the lattent space for batches of 1\n",
    "    sample = real_test_X[sn].float().view(1,3,NAA)\n",
    "    sample, mu, logvar = model.encode(sample)\n",
    "    latent_size = sample.shape\n",
    "    sample = model.decode(sample).cpu()\n",
    "    \n",
    "df_out = pd.DataFrame({\"AA\":real_test_X[sn][0],\"phi\":real_test_X[sn][1],\"psi\":real_test_X[sn][2],\"decoded_AA\":sample[0][0],\"decoded_phi\":sample[0][1],\"decoded_psi\":sample[0][2]})"
   ]
  },
  {
   "cell_type": "code",
   "execution_count": 77,
   "metadata": {},
   "outputs": [
    {
     "data": {
      "text/plain": [
       "<AxesSubplot:>"
      ]
     },
     "execution_count": 77,
     "metadata": {},
     "output_type": "execute_result"
    },
    {
     "data": {
      "image/png": "[encoded data removed]",
      "text/plain": [
       "<Figure size 432x288 with 1 Axes>"
      ]
     },
     "metadata": {
      "needs_background": "light"
     },
     "output_type": "display_data"
    },
    {
     "data": {
      "image/png": "[encoded data removed]",
      "text/plain": [
       "<Figure size 432x288 with 1 Axes>"
      ]
     },
     "metadata": {
      "needs_background": "light"
     },
     "output_type": "display_data"
    },
    {
     "data": {
      "image/png": "[encoded data removed]",
      "text/plain": [
       "<Figure size 432x288 with 1 Axes>"
      ]
     },
     "metadata": {
      "needs_background": "light"
     },
     "output_type": "display_data"
    }
   ],
   "source": [
    "df_out.plot(y=(['AA','decoded_AA']),yticks=[i/20 for i in range(20)], grid=True)\n",
    "df_out.plot(y=(['phi','decoded_phi']))\n",
    "df_out.plot(y=(['psi','decoded_psi']))"
   ]
  },
  {
   "cell_type": "markdown",
   "metadata": {},
   "source": [
    "# TSNE"
   ]
  },
  {
   "cell_type": "code",
   "execution_count": 37,
   "metadata": {},
   "outputs": [
    {
     "name": "stdout",
     "output_type": "stream",
     "text": [
      "PCA Shape:  (1091, 2)\n"
     ]
    },
    {
     "data": {
      "image/png": "[encoded data removed]",
      "text/plain": [
       "<Figure size 432x288 with 1 Axes>"
      ]
     },
     "metadata": {
      "needs_background": "light"
     },
     "output_type": "display_data"
    }
   ],
   "source": [
    "from sklearn.manifold import TSNE\n",
    "from sklearn.decomposition import PCA\n",
    "import matplotlib\n",
    "from matplotlib.offsetbox import OffsetImage, AnnotationBbox\n",
    "import numpy as np\n",
    "import matplotlib.pyplot as plt\n",
    "from matplotlib.ticker import NullFormatter\n",
    "\n",
    "with torch.no_grad():\n",
    "        batch_X = pre_train_X[:] #grab the batch\n",
    "        batch_X = batch_X.float()\n",
    "        batch_X = batch_X.to(device)\n",
    "        recon_batch, mu, logvar = model(batch_X)\n",
    "\n",
    "#First PCA reduce dims to 30\n",
    "flattened_batch = batch_X[:].view(batch_X.size(0),-1) #flatten 3 channels to 1 (44*3)\n",
    "pca = PCA(n_components=2)\n",
    "pca_batch = pca.fit_transform(X=mu)\n",
    "print(\"PCA Shape: \",pca_batch.shape)\n",
    "\n",
    "#figuring out the length of the AMPs (to color code them by length)\n",
    "all_lengths= []\n",
    "for i in range(len(idx)):\n",
    "    all_lengths.append(endpts['lengths'][ int(torch.IntTensor.item(idx[i])) ]) #gets all lengths. only need training lengths\n",
    "lengths = all_lengths[:len(pre_train_X)]\n",
    "\n",
    "\n",
    "#PLOT PCA FIRST\n",
    "# Create scatterplot of dataframe\n",
    "figure, bx = plt.subplots()\n",
    "scatter = bx.scatter(pca_batch[:, 0], pca_batch[:, 1], c=lengths, cmap=\"viridis\", alpha=0.6 )\n",
    "legend1 = bx.legend(*scatter.legend_elements(num=10), loc=\"best\", title=\"Lengths\")\n",
    "bx.add_artist(legend1)\n",
    "bx.plot()\n",
    "bx.xaxis.set_major_formatter(NullFormatter())\n",
    "bx.yaxis.set_major_formatter(NullFormatter())\n",
    "\n",
    "# #DO TSNE from PCA scan over 5 perplexities #uncomment for TSNE plots\n",
    "# (fig, subplots) = plt.subplots(1, 5, figsize=(15, 8))\n",
    "# ax = subplots[0]\n",
    "# y_values = torch.round(flattened_batch[:,0]*22)\n",
    "# ax.scatter(flattened_batch[:, 0], y_values, c=\"r\")\n",
    "# #ax.xaxis.set_major_formatter(NullFormatter())\n",
    "# #ax.yaxis.set_major_formatter(NullFormatter())\n",
    "# plt.axis('tight')\n",
    "\n",
    "# perplexities = [5, 30, 50, 100]\n",
    "# for i, perplexity in enumerate(perplexities):\n",
    "#     tsne = TSNE(n_components=2, perplexity = perplexity, learning_rate = 500, n_iter=2000 )\n",
    "#     tsne_fit = tsne.fit_transform(pca_batch)\n",
    "#     print(\"T-SNE Shape: \", tsne_fit.shape)\n",
    "#     print(\"Plotting t-SNE visualization...\")\n",
    "#     ax = subplots[i + 1]\n",
    "#     ax.set_title(\"Perplexity=%d\" % perplexity)\n",
    "#     ax.scatter(tsne_fit[:,0], tsne_fit[:,1], c=tsne_fit[:,0])\n",
    "#     legend1 = ax.legend(*scatter.legend_elements(num=10), loc=\"best\", title=\"Lengths\")\n",
    "#     ax.add_artist(legend1)\n",
    "#     ax.xaxis.set_major_formatter(NullFormatter())\n",
    "#     ax.yaxis.set_major_formatter(NullFormatter())\n",
    "#     ax.axis('tight')\n"
   ]
  },
  {
   "cell_type": "markdown",
   "metadata": {},
   "source": [
    "\n",
    "# POST PROCESSING A SAMPLE"
   ]
  },
  {
   "cell_type": "code",
   "execution_count": 24,
   "metadata": {},
   "outputs": [],
   "source": [
    "decoded_df = df_out.drop(['AA','phi','psi'], axis=1)\n",
    "og_AA = df_out.drop(['decoded_AA','phi','psi','decoded_phi','decoded_psi'], axis=1)\n",
    "phi = df_out.reindex(['phi'], axis=1)\n",
    "psi = df_out.reindex(['psi'], axis=1)\n",
    "\n",
    "AA = decoded_df.drop(['decoded_phi','decoded_psi'], axis=1)\n",
    "\n",
    "phi_decoded = decoded_df.drop(['decoded_AA','decoded_psi'], axis=1)\n",
    "psi_decoded = decoded_df.drop(['decoded_AA','decoded_phi'], axis=1)"
   ]
  },
  {
   "cell_type": "code",
   "execution_count": 25,
   "metadata": {
    "scrolled": true
   },
   "outputs": [],
   "source": [
    "import numpy as np\n",
    "\n",
    "possible_AA= ['ala','arg','asn','asp','cys','glu','gln','gly','his','ile','leu','lys','met','phe','pro','ser','thr','trp','tyr','val','na']\n",
    "non_norm_AA = np.round(AA*20)\n",
    "non_norm_og_AA = np.round(og_AA*20)\n",
    "\n",
    "categ_AA=[]\n",
    "og_categ_AA=[]\n",
    "for i in non_norm_AA.values:\n",
    "    categ_AA.append(possible_AA[np.int(i)-1])\n",
    "for i in non_norm_og_AA.values:\n",
    "    og_categ_AA.append(possible_AA[np.int(i)-1])\n",
    "compared=pd.DataFrame(og_categ_AA)\n",
    "\n",
    "#in order to re-scale the angles properly we need to use the inverse of the original scaling so we redo the scaling here\n",
    "from sklearn import preprocessing\n",
    "import math\n",
    "\n",
    "scaler = preprocessing.MinMaxScaler(feature_range=(0,1))\n",
    "scaler.fit(np.reshape([-np.pi,np.pi],(-1,1))) #this makes sure to scale data using min -pi and max +pi\n",
    "\n",
    "big_phi_dec = scaler.inverse_transform(phi_decoded)\n",
    "big_psi_dec = scaler.inverse_transform(psi_decoded)\n",
    "\n",
    "phi_dec_df = pd.DataFrame(big_phi_dec*180/np.pi) #going back to degrees from radians for use in pymol script\n",
    "psi_dec_df = pd.DataFrame(big_psi_dec*180/np.pi)\n",
    "\n",
    "\n",
    "big_phi = scaler.inverse_transform(phi)\n",
    "big_psi = scaler.inverse_transform(psi)\n",
    "\n",
    "phi_df = pd.DataFrame(big_phi*180/np.pi) #going back to degrees from radians for use in pymol script\n",
    "psi_df = pd.DataFrame(big_psi*180/np.pi)"
   ]
  },
  {
   "cell_type": "code",
   "execution_count": 26,
   "metadata": {},
   "outputs": [],
   "source": [
    "new_pd = pd.concat([compared,phi_df,psi_df,pd.DataFrame(categ_AA), phi_dec_df, psi_dec_df], axis=1)\n",
    "new_pd.columns= [\"Original_input\",\"phi\",\"psi\",\"Training_AA\",\"phi_dec\",\"psi_dec\"]\n",
    "\n",
    "to_save_og = new_pd.drop([\"Training_AA\",\"phi_dec\",\"psi_dec\"], axis=1)\n",
    "to_save_og = to_save_og[to_save_og.Original_input != 'na']\n",
    "\n",
    "to_save_decoded = new_pd.drop(['Original_input',\"phi\",\"psi\"], axis=1)\n",
    "to_save_decoded = to_save_decoded[:len(to_save_og)]"
   ]
  },
  {
   "cell_type": "code",
   "execution_count": 27,
   "metadata": {},
   "outputs": [],
   "source": [
    "to_save_og.to_csv(\"seq_phi_psi_og.csv\",header=None, index=None, sep=' ', mode='w')\n",
    "to_save_decoded.to_csv(\"seq_phi_psi_dec.csv\",header=None, index=None, sep=' ', mode='w')"
   ]
  },
  {
   "cell_type": "code",
   "execution_count": 28,
   "metadata": {},
   "outputs": [],
   "source": [
    "#import pymol and scripts:  http://pldserver1.biochem.queensu.ca/~rlc/work/pymol/\n",
    "import pymol\n",
    "pymol.cmd.run(\"seq_convert.py\")\n",
    "pymol.cmd.run(\"build_seq.py\")\n",
    "pymol.cmd.run(\"build_seq_phi_psi.py\")"
   ]
  },
  {
   "cell_type": "code",
   "execution_count": 29,
   "metadata": {},
   "outputs": [
    {
     "name": "stdout",
     "output_type": "stream",
     "text": [
      " PyMOL not running, entering library mode (experimental)\n"
     ]
    }
   ],
   "source": [
    "pymol.cmd.delete(\"all\")"
   ]
  },
  {
   "cell_type": "code",
   "execution_count": 30,
   "metadata": {},
   "outputs": [
    {
     "name": "stdout",
     "output_type": "stream",
     "text": [
      "Number of amino acid/phi/psi values read:  41\n",
      "Building sequence:  GIIRPPVPCMPWQHPCQNSDNHQFRIQQLDQKFKIDCCNRM\n",
      "gly -179.51254 104.08302\n",
      "ile -75.963234 118.203514\n",
      "ile -134.7308 153.25067\n",
      "arg -143.5798 44.12588\n",
      "pro -129.4904 133.62674\n",
      "pro -57.578262 -41.387802\n",
      "val -77.80138 -52.36838\n",
      "pro -47.613792 -28.926947\n",
      "cys -65.805756 -46.42705\n",
      "met -65.56779 -41.399082\n",
      "pro -89.43484 -43.762024\n",
      "trp -37.406353 -3.1681716\n",
      "gln 112.85253 64.75973\n",
      "his -118.12762 -126.473465\n",
      "pro -130.21382 168.16379\n",
      "cys -113.55899 149.37035\n",
      "gln -125.514046 153.5639\n",
      "asn -80.87467 -57.56708\n",
      "ser -147.3534 159.22601\n",
      "asp -111.489136 149.18013\n",
      "asn -96.14007 160.86041\n",
      "his -75.897194 163.8185\n",
      "gln 114.51208 -24.92255\n",
      "phe -124.927 162.86223\n",
      "arg -129.14783 159.2648\n",
      "ile -89.17158 97.5242\n",
      "gln -80.85901 -11.671987\n",
      "gln 173.67773 -148.25319\n",
      "leu -105.771835 148.8852\n",
      "asp -85.39664 74.16096\n",
      "gln 80.65704 -52.820633\n",
      "lys -58.0885 111.489456\n",
      "phe -77.663 149.32234\n",
      "lys 80.800156 -14.135756\n",
      "ile -90.094864 123.65485\n",
      "asp -102.59694 169.87044\n",
      "cys -89.00954 138.06847\n",
      "cys -94.701416 83.67387\n",
      "asn -73.23428 134.43785\n",
      "arg -50.940502 15.15991\n",
      "met -60.16997 -179.99991\n",
      "Number of amino acid/phi/psi values read:  41\n",
      "Building sequence:  QLINSPVTCMSYGGSCQRSCNGGFRLGGHCGHPKIRCCRRK\n",
      "gln -180.0 149.6652653357902\n",
      "leu -70.7053482660034 126.70265057015418\n",
      "ile -133.99476171605306 130.30605874700657\n",
      "asn -97.81172075760307 -6.982734580765732\n",
      "ser -159.0584883692366 164.89386724223633\n",
      "pro -69.17237583374256 -21.173741662618657\n",
      "val -67.63262144649703 -43.857058501566975\n",
      "thr -72.36453422989142 -27.59956562718586\n",
      "cys -63.53117426306006 -45.04975435389715\n",
      "met -64.81263457436762 -39.080338622332235\n",
      "ser -73.49339332851237 -34.73518695910719\n",
      "tyr -60.87285008255725 -34.851029338301245\n",
      "gly 131.6551439016067 33.04456220708466\n",
      "gly -141.29909157474458 -167.15000201829886\n",
      "ser -132.825050212319 163.66344954378894\n",
      "cys -106.76155544487591 125.59389313884542\n",
      "gln -150.26615471373128 152.05308374196525\n",
      "arg -69.48194993642728 -38.77029227382227\n",
      "ser -135.2934306507966 147.83188723649178\n",
      "cys -88.38094263563389 153.92856655620918\n",
      "asn -67.67605846632729 159.04128454172346\n",
      "gly -64.00998217243497 148.8220061305625\n",
      "gly 89.69545019947634 2.4908277978885214\n",
      "phe -118.87506109434818 162.1682767045505\n",
      "arg -121.3096131765642 155.53512302077655\n",
      "leu -81.45462849848809 83.1554673601445\n",
      "gly -74.75330573463907 -23.58554224531576\n",
      "gly 164.22279749896404 -146.25194504090132\n",
      "his -125.186493587837 154.9496117519931\n",
      "cys -83.90332635177134 40.833668421417016\n",
      "gly 79.23685668949226 -54.65738960483059\n",
      "his -62.29898444625397 124.64663868410688\n",
      "pro -60.98493819961375 153.32596709919866\n",
      "lys 65.42200912918267 -17.53791459124042\n",
      "ile -88.54022583986797 110.1977171596091\n",
      "arg -69.83558363177927 147.38216282812232\n",
      "cys -87.30813783040338 105.51504026134147\n",
      "cys -90.50334843440683 98.87267816334348\n",
      "arg -81.42728757314731 127.42804753951626\n",
      "arg -82.59960357030485 -31.00801802157629\n",
      "lys -70.73680596721762 -180.0\n"
     ]
    }
   ],
   "source": [
    "pymol.build_seq_phi_psi(\"seq_phi_psi_dec.csv\")\n",
    "pymol.cmd.set_name(old_name=str(to_save_decoded.loc[0][0]), new_name=\"amp_one\") #need to change name to differentiate both in Pymol\n",
    "pymol.cmd.delete(\"pk1\")\n",
    "pymol.build_seq_phi_psi(\"seq_phi_psi_og.csv\")\n",
    "pymol.cmd.set_name(old_name=pymol.cmd.get_names()[1], new_name=\"amp_two\")"
   ]
  },
  {
   "cell_type": "code",
   "execution_count": 31,
   "metadata": {},
   "outputs": [
    {
     "data": {
      "image/png": "[encoded data removed]",
      "text/plain": [
       "<IPython.core.display.Image object>"
      ]
     },
     "execution_count": 31,
     "metadata": {},
     "output_type": "execute_result"
    }
   ],
   "source": [
    "#adjust visuals\n",
    "pymol.cmd.show_as('cartoon')\n",
    "pymol.cmd.super(mobile=\"amp_one\", target=\"amp_two\")\n",
    "pymol.cmd.zoom(complete=0)\n",
    "pymol.cmd.reset()\n",
    "\n",
    "#(string filename, int width=0, int height=0, float dpi=-1, int ray=0, int quiet=0)\n",
    "pymol.cmd.png('C:\\\\Users\\\\samue\\\\Downloads\\\\research_project\\\\VAE\\\\foo.png', width=400,height=400,dpi=300,ray=1)\n",
    "from IPython.display import Image\n",
    "Image(filename='C:\\\\Users\\\\samue\\\\Downloads\\\\research_project\\\\VAE\\\\foo.png')"
   ]
  },
  {
   "cell_type": "code",
   "execution_count": 32,
   "metadata": {},
   "outputs": [
    {
     "data": {
      "image/png": "[encoded data removed]",
      "text/plain": [
       "<IPython.core.display.Image object>"
      ]
     },
     "execution_count": 32,
     "metadata": {},
     "output_type": "execute_result"
    }
   ],
   "source": [
    "pymol.cmd.rotate(axis=\"z\", angle=90)\n",
    "pymol.cmd.png('C:\\\\Users\\\\samue\\\\Downloads\\\\research_project\\\\VAE\\\\foo.png', width=400,height=400,dpi=300,ray=1)\n",
    "from IPython.display import Image\n",
    "Image(filename='C:\\\\Users\\\\samue\\\\Downloads\\\\research_project\\\\VAE\\\\foo.png')"
   ]
  },
  {
   "cell_type": "code",
   "execution_count": null,
   "metadata": {},
   "outputs": [],
   "source": []
  },
  {
   "cell_type": "code",
   "execution_count": null,
   "metadata": {},
   "outputs": [],
   "source": []
  }
 ],
 "metadata": {
  "kernelspec": {
   "display_name": "Python 3",
   "language": "python",
   "name": "python3"
  },
  "language_info": {
   "codemirror_mode": {
    "name": "ipython",
    "version": 3
   },
   "file_extension": ".py",
   "mimetype": "text/x-python",
   "name": "python",
   "nbconvert_exporter": "python",
   "pygments_lexer": "ipython3",
   "version": "3.8.5"
  }
 },
 "nbformat": 4,
 "nbformat_minor": 4
}
